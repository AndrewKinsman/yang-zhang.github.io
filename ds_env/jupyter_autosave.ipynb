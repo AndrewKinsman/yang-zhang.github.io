{
 "cells": [
  {
   "cell_type": "markdown",
   "metadata": {},
   "source": [
    "# Why and how to automatically save Jupyter notebook to .py files\n",
    "\n",
    "## Why save a jupyter notebook as a python file?\n",
    "Because notebooks are hard to version control - try `git diff [YOUR_NOTEBOOK].ipynb` after a few changes and see the mess. \n",
    "\n",
    "## How to save a juypter notebook as a python file?\n",
    "1. Most obvious way is to manually download from the notebook: `File -> Download as -> Python (.py)`, find the python file from the Downloads folder, and copy to your repository.\n",
    "2. A slightly better way is to run from the command line:\n",
    "```\n",
    "$ jupyter nbconvert --to script [NOTEBOOK_NAME].ipynb\n",
    "``` \n",
    "or run the schell command in jupyter notebook:\n",
    "```\n",
    "!jupyter nbconvert --to script [NOTEBOOK_NAME].ipynb\n",
    "```\n",
    "\n",
    "## How to *automatically* save a jupyter notebook as a python file?\n",
    "Follow this [post](http://protips.maxmasnick.com/ipython-notebooks-automatically-export-py-and-html) and save [this python file](https://github.com/yang-zhang/yang-zhang.github.io/blob/master/ds_env/jupyter_notebook_config.py) (`jupyter_notebook_config.py`) as `~/.jupyter/jupyter_notebook_config.py`. \n",
    "\n",
    "## How to automatically save a jupyter notebook as a python file when you're *running the notebook in a docker container*?\n",
    "Add `jupyter_notebook_config.py` to the `.jupyter` folder in the dockerfile:\n",
    "```\n",
    "ADD jupyter_notebook_config.py [HOME]/.jupyter/\n",
    "``` \n",
    "See [here](https://github.com/yang-zhang/yang-zhang.github.io/blob/master/ds_env/docker/dockerfiles/yang-zhang-ds.docker) for a real example. For more details on using docker to run jupyter notebook and to do data science in general, see this [post](ds_env/docker/setup_docker.md).\n",
    "\n",
    "## References:\n",
    "- http://stackoverflow.com/questions/17077494/how-do-i-convert-a-ipython-notebook-into-a-python-file-via-commandline\n",
    "- http://protips.maxmasnick.com/ipython-notebooks-automatically-export-py-and-html\n",
    "\n",
    "[Home](https://yang-zhang.github.io/)\n"
   ]
  }
 ],
 "metadata": {
  "kernelspec": {
   "display_name": "Python 3",
   "language": "python",
   "name": "python3"
  },
  "language_info": {
   "codemirror_mode": {
    "name": "ipython",
    "version": 3
   },
   "file_extension": ".py",
   "mimetype": "text/x-python",
   "name": "python",
   "nbconvert_exporter": "python",
   "pygments_lexer": "ipython3",
   "version": "3.6.1"
  },
  "toc": {
   "colors": {
    "hover_highlight": "#DAA520",
    "navigate_num": "#000000",
    "navigate_text": "#333333",
    "running_highlight": "#FF0000",
    "selected_highlight": "#FFD700",
    "sidebar_border": "#EEEEEE",
    "wrapper_background": "#FFFFFF"
   },
   "moveMenuLeft": true,
   "nav_menu": {
    "height": "123px",
    "width": "252px"
   },
   "navigate_menu": true,
   "number_sections": true,
   "sideBar": true,
   "threshold": 4,
   "toc_cell": false,
   "toc_section_display": "block",
   "toc_window_display": false,
   "widenNotebook": false
  }
 },
 "nbformat": 4,
 "nbformat_minor": 2
}
