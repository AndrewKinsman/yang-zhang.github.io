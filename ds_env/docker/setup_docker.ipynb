{
 "cells": [
  {
   "cell_type": "markdown",
   "metadata": {
    "toc": "true"
   },
   "source": [
    "# Table of Contents\n",
    " <p><div class=\"lev1 toc-item\"><a href=\"#How-to-setup-docker-for-data-science\" data-toc-modified-id=\"How-to-setup-docker-for-data-science-1\"><span class=\"toc-item-num\">1&nbsp;&nbsp;</span>How to setup docker for data science</a></div><div class=\"lev2 toc-item\"><a href=\"#Step-1:-find-a-good-base-docker-image-as-a-starting-point.\" data-toc-modified-id=\"Step-1:-find-a-good-base-docker-image-as-a-starting-point.-11\"><span class=\"toc-item-num\">1.1&nbsp;&nbsp;</span>Step-1: find a good base docker image as a starting point.</a></div><div class=\"lev2 toc-item\"><a href=\"#Step-2:-make-changes-to-the-docker-image-as-needed.\" data-toc-modified-id=\"Step-2:-make-changes-to-the-docker-image-as-needed.-12\"><span class=\"toc-item-num\">1.2&nbsp;&nbsp;</span>Step-2: make changes to the docker image as needed.</a></div><div class=\"lev2 toc-item\"><a href=\"#Step-3:-build-the-docker-image.\" data-toc-modified-id=\"Step-3:-build-the-docker-image.-13\"><span class=\"toc-item-num\">1.3&nbsp;&nbsp;</span>Step-3: build the docker image.</a></div><div class=\"lev2 toc-item\"><a href=\"#Step-4:-run-the-docker-image.\" data-toc-modified-id=\"Step-4:-run-the-docker-image.-14\"><span class=\"toc-item-num\">1.4&nbsp;&nbsp;</span>Step-4: run the docker image.</a></div>"
   ]
  },
  {
   "cell_type": "markdown",
   "metadata": {},
   "source": [
    "# How to setup docker for data science\n",
    "Most setup stuff should be taken care of by this.\n",
    "\n",
    "## Step-1: find a good base docker image as a starting point.\n",
    "For example, [kaggle/python](https://github.com/Kaggle/docker-python).\n",
    "\n",
    "## Step-2: make changes to the docker image as needed.\n",
    "Install additional packages and copy additional files, for [example](https://github.com/yang-zhang/yang-zhang.github.io/blob/master/ds_env/docker/dockerfiles/yang-zhang-ds.docker):\n",
    "```dockerfile\n",
    "FROM kaggle/python:latest\n",
    "\n",
    "RUN conda install -c conda-forge jupyter_contrib_nbextensions && \\\n",
    "    conda install -c conda-forge jupyter_nbextensions_configurator && \\\n",
    "    conda install -c conda-forge yapf=0.13.2 && \\\n",
    "    conda install -c r rpy2=2.8.5 && \\\n",
    "    conda install pytorch torchvision -c soumith && \\\n",
    "    conda install -c conda-forge feather-format=0.3.1 && \\\n",
    "    pip install graphviz && \\\n",
    "    pip install pydot-ng && \\\n",
    "    pip install kaggle-cli && \\\n",
    "    pip install mxnet && \\\n",
    "    # Enable favorite jupyter notebook extensions (https://github.com/ipython-contrib/jupyter_contrib_nbextensions#3-enablingdisabling-extensions)\n",
    "    jupyter nbextension enable toc2/main && \\\n",
    "    jupyter nbextension enable code_prettify/code_prettify\n",
    "ADD jupyter_notebook_config.py /root/.jupyter/\n",
    "```\n",
    "\n",
    "## Step-3: build the docker image.\n",
    "Under [ds_env](https://github.com/yang-zhang/yang-zhang.github.io/tree/master/ds_env), run\n",
    "```sh\n",
    "docker build --file docker/dockerfiles/yang-zhang-ds.docker -t yang-zhang-ds .\n",
    "```\n",
    "\n",
    "## Step-4: run the docker image.\n",
    "In `.bash_profile`, add shortcuts to the command to run python, ipython, jupyter notebook, and bash in the docker image:\n",
    "```sh\n",
    "# For docker begin\n",
    "alias dcf='declare -F'\n",
    "\n",
    "# run jupyter notebook in docker\n",
    "jn_dk() {\n",
    "    docker run \\\n",
    "    -v ~/git:/tmp \\\n",
    "    -v ~/Google\\ Drive/secrets:/tmp/secrets \\\n",
    "    -v ~/Google\\ Drive/git:/tmp/git_2 \\\n",
    "    -v ~/Storage:/tmp/storage \\\n",
    "    -w=/tmp \\\n",
    "    -p 8888:8888 \\\n",
    "    --rm -it yang-zhang-ds \\\n",
    "    bash -c 'export PYTHONPATH=$PYTHONPATH:/tmp/ds-utils:/tmp/secrets; jupyter notebook --no-browser --allow-root --ip=\"0.0.0.0\" --notebook-dir=/tmp'\n",
    "}\n",
    "\n",
    "# run python in docker\n",
    "python_dk() {\n",
    "    docker run \\\n",
    "    -v ~/git:/tmp -w=/tmp\\\n",
    "    --rm -it yang-zhang-ds \\\n",
    "    bash -c 'export PYTHONPATH=$PYTHONPATH:/tmp/ds-utils:/tmp/secrets; python \"$@\"'\n",
    "}\n",
    "# run ipython in docker\n",
    "ipython_dk() {\n",
    "    docker run \\\n",
    "    -v ~/git:/tmp -w=/tmp \\\n",
    "    --rm -it yang-zhang-ds \\\n",
    "    bash -c 'export PYTHONPATH=$PYTHONPATH:/tmp/ds-utils:/tmp/secrets; ipython'\n",
    "}\n",
    "# run bash in docker\n",
    "dk_ds() {\n",
    "    docker run \\\n",
    "    -v ~/git:/tmp -w=/tmp \\\n",
    "    --rm -it yang-zhang-ds \\\n",
    "    bash -c 'export PYTHONPATH=$PYTHONPATH:/tmp/ds-utils:/tmp/secrets; bash'\n",
    "}\n",
    "\n",
    "# For docker end\n",
    "```\n",
    "Note that the `$PYTHONPATH` is updated in the container to include the local packages you want to add. In this example, jupyter notebook is running on `0.0.0.0:8888`.\n",
    "\n",
    "[Home](https://yang-zhang.github.io/)\n"
   ]
  }
 ],
 "metadata": {
  "kernelspec": {
   "display_name": "Python 3",
   "language": "python",
   "name": "python3"
  },
  "language_info": {
   "codemirror_mode": {
    "name": "ipython",
    "version": 3
   },
   "file_extension": ".py",
   "mimetype": "text/x-python",
   "name": "python",
   "nbconvert_exporter": "python",
   "pygments_lexer": "ipython3",
   "version": "3.6.1"
  },
  "toc": {
   "colors": {
    "hover_highlight": "#DAA520",
    "navigate_num": "#000000",
    "navigate_text": "#333333",
    "running_highlight": "#FF0000",
    "selected_highlight": "#FFD700",
    "sidebar_border": "#EEEEEE",
    "wrapper_background": "#FFFFFF"
   },
   "moveMenuLeft": true,
   "nav_menu": {
    "height": "105px",
    "width": "252px"
   },
   "navigate_menu": true,
   "number_sections": false,
   "sideBar": true,
   "threshold": 4,
   "toc_cell": true,
   "toc_section_display": "block",
   "toc_window_display": true,
   "widenNotebook": false
  }
 },
 "nbformat": 4,
 "nbformat_minor": 2
}
