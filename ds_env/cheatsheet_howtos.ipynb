{
 "cells": [
  {
   "cell_type": "markdown",
   "metadata": {},
   "source": [
    "# Cheatsheet: howtos"
   ]
  },
  {
   "cell_type": "markdown",
   "metadata": {},
   "source": [
    "## Git\n",
    "\n",
    "### Add upstream repository\n",
    "```sh\n",
    "git remote add upstream https://github.com/scikit-learn/scikit-learn.git\n",
    "```\n",
    "\n",
    "### Check out remote branch\n",
    "```sh\n",
    "git fetch origin\n",
    "git checkout --track -b some_branch origin/somebrach\n",
    "```\n",
    "\n",
    "### Git setup for contributing to repo\n",
    "- Fork the repo on github (e.g. https://github.com/dmlc/xgboost)\n",
    "- Clone your forked repo: git clone https://github.com/yang-zhang/xgboost\n",
    "- Add original owner’s repository: cd xgboost; git remote add dmlc https://github.com/dmlc/xgboost\n",
    "- Show remote repo: git remote -v\n",
    "See [here](http://kbroman.org/github_tutorial/pages/fork.html) for reference."
   ]
  },
  {
   "cell_type": "markdown",
   "metadata": {},
   "source": [
    "## Clone from existing env in conda\n",
    "```\n",
    "conda create -n new_env --clone root\n",
<<<<<<< HEAD
    "```\n",
    "\n",
    "### Git setup for contributing to repo\n",
    "- Fork the repo on github (e.g. https://github.com/dmlc/xgboost)\n",
    "- Clone your forked repo: git clone https://github.com/yang-zhang/xgboost\n",
    "- Add original owner’s repository: cd xgboost; git remote add dmlc https://github.com/dmlc/xgboost\n",
    "- Show remote repo: git remote -v\n",
    "See [here](http://kbroman.org/github_tutorial/pages/fork.html) for reference.\n",
    "\n",
    "### Add remote branch\n",
    "```\n",
    "git checkout --track origin/name_of_the_remote_branch\n",
=======
>>>>>>> 5c18fda4c8417244e0578b6d65ede7b63aea3146
    "```"
   ]
  },
  {
   "cell_type": "markdown",
   "metadata": {},
   "source": [
<<<<<<< HEAD
    "## Docker\n",
    "### Get image and run\n",
    "```\n",
    "docker pull julia\n",
    "docker run -it --rm julia\n",
    "```\n",
    "\n",
    "### Get inside a running container\n",
    "```\n",
    "docker ps\n",
    "sudo docker exec -it gallant_fermat bash\n",
    "```\n",
    "\n",
    "### Get inside the most recent running container\n",
    "```\n",
    "docker exec -it $(docker ps -l -q) bash\n",
    "```\n",
    "\n",
    "### Stop and delete all containers\n",
    "```\n",
    "docker stop $(docker ps -a -q)\n",
    "docker rm $(docker ps -a -q)\n",
    "```\n",
    "\n",
    "### Build image\n",
    "```\n",
    "docker build --file dockerfiles/yang-zhang-ds.docker -t yang-zhang-ds .\n",
    "```\n",
    "\n",
    "### Map disk and run\n",
    "```\n",
    "docker run -it --rm -v \"$PWD\":/usr/myapp -w /usr/myapp julia julia test.jl\n",
    "```\n",
    "\n",
    "### Append to env variables\n",
    "```\n",
    "docker run --rm -v $PWD:/tmp -it yang-zhang-ds bash -c 'export PYTHONPATH=$PYTHONPATH:/tmp/ds-utils; bash' \n",
    "```\n"
   ]
  },
  {
   "cell_type": "markdown",
   "metadata": {},
   "source": [
    "\n",
    "## Misc Hacks\n",
    "\n",
    "### Imports\n",
=======
    "## Imports\n",
>>>>>>> 5c18fda4c8417244e0578b6d65ede7b63aea3146
    "Use a [customerized import script](https://github.com/yang-zhang/ds-utils/blob/master/ds_utils/imports.py) for frequent modules and setups. Add the following to the beginning of code:\n",
    "```\n",
    "import ds_utils.imports; import imp; imp.reload(ds_utils.imports)\n",
    "from ds_utils.imports import\n",
    "```"
   ]
  },
  {
   "cell_type": "markdown",
   "metadata": {},
   "source": [
    "## xgboost\n",
    "Conda's version is old.\n",
    "```\n",
    "cd Downloads\n",
    "git clone --recursive https://github.com/dmlc/xgboost\n",
    "cd xgboost; cp make/minimum.mk ./config.mk; make -j4\n",
    "cd python-package; sudo python setup.py install\n",
    "```\n",
    "\n",
<<<<<<< HEAD
    "Add [ds-utils](https://github.com/yang-zhang/ds-utils) to path:\n",
    "\n",
    "\n",
    "### Python 2 to 3\n",
=======
    "Add [ds-utils](https://github.com/yang-zhang/ds-utils) to path:"
   ]
  },
  {
   "cell_type": "markdown",
   "metadata": {},
   "source": [
    "## Python 2 to 3\n",
>>>>>>> 5c18fda4c8417244e0578b6d65ede7b63aea3146
    "```\n",
    "2to3 -w example.py\n",
    "```"
   ]
  },
  {
   "cell_type": "markdown",
   "metadata": {},
   "source": [
    "## Control video speed\n",
    "- [Google YouTube Keyboard Shortcuts](https://sites.google.com/a/umich.edu/going-google/accessibility/google-keyboard-shortcuts---youtube)\n",
    "- [Video Speed Controller - Chrome extension](https://chrome.google.com/webstore/detail/video-speed-controller/nffaoalbilbmmfgbnbgppjihopabppdk)"
   ]
  },
  {
   "cell_type": "markdown",
   "metadata": {},
   "source": [
    "## Make `top` sort by memory usage\n",
    "```\n",
    "top -o MEM\n",
    "```"
   ]
  },
  {
   "cell_type": "markdown",
   "metadata": {},
   "source": [
    "## [Add link to imported modules on github](http://fiatjaf.alhur.es/module-linker/#/python)"
   ]
  },
  {
   "cell_type": "markdown",
   "metadata": {},
   "source": [
    "## [Move tabs using keyboard in Chrome](https://chrome.google.com/webstore/detail/moigagbiaanpboaflikhdhgdfiifdodd)"
   ]
  },
  {
   "cell_type": "markdown",
   "metadata": {},
   "source": [
    "## Kaggle\n",
    "```\n",
    "!kg config -g -u $KAGGLE_USER -p $KAGGLE_PW -c $competition_name\n",
    "!kg download\n",
    "!kg submit $submit_file -u $KAGGLE_USER -p $KAGGLE_PW -m $model_description\n",
    "```"
   ]
  },
  {
   "cell_type": "markdown",
   "metadata": {},
   "source": [
    "## Install R packages in Jupyter notebook \n",
    "\n",
    "### In code\n",
    "```\n",
    "from rpy2.robjects.packages import importr\n",
    "utils = importr('utils')\n",
    "utils.install_packages(ro.StrVector(['entropy', 'psych', 'vcd']))\n",
    "```\n",
    "\n",
    "### Run a R kernal in Jupyter and run\n",
    "install.packages(c('entropy', 'psych', 'vcd'))"
   ]
<<<<<<< HEAD
=======
  },
  {
   "cell_type": "markdown",
   "metadata": {},
   "source": [
    "[Home](https://yang-zhang.github.io/)"
   ]
>>>>>>> 5c18fda4c8417244e0578b6d65ede7b63aea3146
  }
 ],
 "metadata": {
  "kernelspec": {
   "display_name": "Python 3",
   "language": "python",
   "name": "python3"
  },
  "language_info": {
   "codemirror_mode": {
    "name": "ipython",
    "version": 3
   },
   "file_extension": ".py",
   "mimetype": "text/x-python",
   "name": "python",
   "nbconvert_exporter": "python",
   "pygments_lexer": "ipython3",
   "version": "3.6.1"
  },
  "toc": {
   "colors": {
    "hover_highlight": "#DAA520",
    "navigate_num": "#000000",
    "navigate_text": "#333333",
    "running_highlight": "#FF0000",
    "selected_highlight": "#FFD700",
    "sidebar_border": "#EEEEEE",
    "wrapper_background": "#FFFFFF"
   },
   "moveMenuLeft": true,
   "nav_menu": {
    "height": "328px",
    "width": "252px"
   },
   "navigate_menu": true,
   "number_sections": true,
   "sideBar": true,
   "threshold": 4,
   "toc_cell": false,
   "toc_section_display": "block",
   "toc_window_display": true,
   "widenNotebook": false
  }
 },
 "nbformat": 4,
 "nbformat_minor": 2
}
