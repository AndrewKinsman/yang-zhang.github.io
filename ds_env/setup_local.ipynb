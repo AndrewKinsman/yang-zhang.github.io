{
 "cells": [
  {
   "cell_type": "markdown",
   "metadata": {
    "toc": "true"
   },
   "source": [
    "# Table of Contents\n",
    " <p><div class=\"lev1 toc-item\"><a href=\"#How-to-setup-the-computer-for-data-science\" data-toc-modified-id=\"How-to-setup-the-computer-for-data-science-1\"><span class=\"toc-item-num\">1&nbsp;&nbsp;</span>How to setup the computer for data science</a></div><div class=\"lev2 toc-item\"><a href=\"#Docker\" data-toc-modified-id=\"Docker-11\"><span class=\"toc-item-num\">1.1&nbsp;&nbsp;</span>Docker</a></div><div class=\"lev2 toc-item\"><a href=\"#Conda\" data-toc-modified-id=\"Conda-12\"><span class=\"toc-item-num\">1.2&nbsp;&nbsp;</span>Conda</a></div><div class=\"lev2 toc-item\"><a href=\"#Git\" data-toc-modified-id=\"Git-13\"><span class=\"toc-item-num\">1.3&nbsp;&nbsp;</span>Git</a></div><div class=\"lev2 toc-item\"><a href=\"#Setup-secrets.py\" data-toc-modified-id=\"Setup-secrets.py-14\"><span class=\"toc-item-num\">1.4&nbsp;&nbsp;</span>Setup <code>secrets.py</code></a></div><div class=\"lev2 toc-item\"><a href=\"#Setup-.bash_profile\" data-toc-modified-id=\"Setup-.bash_profile-15\"><span class=\"toc-item-num\">1.5&nbsp;&nbsp;</span>Setup <code>.bash_profile</code></a></div><div class=\"lev2 toc-item\"><a href=\"#R\" data-toc-modified-id=\"R-16\"><span class=\"toc-item-num\">1.6&nbsp;&nbsp;</span>R</a></div><div class=\"lev2 toc-item\"><a href=\"#Other-tools\" data-toc-modified-id=\"Other-tools-17\"><span class=\"toc-item-num\">1.7&nbsp;&nbsp;</span>Other tools</a></div>"
   ]
  },
  {
   "cell_type": "markdown",
   "metadata": {},
   "source": [
    "## How to setup the computer for data science\n",
    "\n",
    "This is a checklist of setup stuff for a new computer. \n",
    "\n",
    "### Docker\n",
    "Install [docker](https://www.docker.com/) and setup [data science docker images](docker/setup_docker.md). Most setup stuff should be taken care of by this.\n",
    "\n",
    "### Conda\n",
    "It is still handy to have conda installed locally. Install conda 3. If want to have Python 2.7 available and with everything that comes with anaconda:\n",
    "```sh\n",
    "conda create -n py27 python=2.7 anaconda\n",
    "```\n",
    "\n",
    "### Git\n",
    "Create these aliases in `~/.gitconfig`\n",
    "```sh\n",
    "[alias]\n",
    "  co = checkout\n",
    "  ci = commit\n",
    "  st = status\n",
    "  br = branch\n",
    "  hist = log --pretty=format:'%h %ad | %s%d [%an]' --graph --date=short\n",
    "  type = cat-file -t\n",
    "  dump = cat-file -p\n",
    "```\n",
    "\n",
    "### Setup `secrets.py`\n",
    "Create the folder `/Users/yangzhang/Google\\ Drive/secrets/` with `__init__.py` and `secrets.py` with something like:\n",
    "```py\n",
    "AWS_KEY='ABC123'\n",
    "AWS_SECRET='ABCXYZ'\n",
    "\n",
    "KAGGLE_USER='zhangyang'\n",
    "KAGGLE_PW='123'\n",
    "```\n",
    "\n",
    "### Setup `.bash_profile`\n",
    "Add secrets to `PYTHONPATH`:\n",
    "```sh\n",
    "export PYTHONPATH=\"/Users/yangzhang/git/secrets:$PYTHONPATH\"\n",
    "\n",
    "```\n",
    "Create some handy shortcuts:\n",
    "```sh\n",
    "alias jn='jupyter notebook'\n",
    "alias sa='source activate'\n",
    "alias sda='source deactivate'\n",
    "```\n",
    "\n",
    "### R\n",
    "Two ways to install R:\n",
    "- Install R and RStudio.\n",
    "- Add R kernal to conda to make it available in Jupyter notebook:\n",
    "```\n",
    "conda install -c r r-essentials\n",
    "```\n",
    "\n",
    "### Other tools \n",
    "- Pycharm\n",
    "- Sublime\n",
    "\n",
    "[Home](https://yang-zhang.github.io/)\n"
   ]
  }
 ],
 "metadata": {
  "kernelspec": {
   "display_name": "Python 3",
   "language": "python",
   "name": "python3"
  },
  "language_info": {
   "codemirror_mode": {
    "name": "ipython",
    "version": 3
   },
   "file_extension": ".py",
   "mimetype": "text/x-python",
   "name": "python",
   "nbconvert_exporter": "python",
   "pygments_lexer": "ipython3",
   "version": "3.6.1"
  },
  "toc": {
   "colors": {
    "hover_highlight": "#DAA520",
    "navigate_num": "#000000",
    "navigate_text": "#333333",
    "running_highlight": "#FF0000",
    "selected_highlight": "#FFD700",
    "sidebar_border": "#EEEEEE",
    "wrapper_background": "#FFFFFF"
   },
   "moveMenuLeft": true,
   "nav_menu": {
    "height": "162px",
    "width": "252px"
   },
   "navigate_menu": true,
   "number_sections": true,
   "sideBar": true,
   "threshold": 4,
   "toc_cell": true,
   "toc_section_display": "block",
   "toc_window_display": true,
   "widenNotebook": false
  }
 },
 "nbformat": 4,
 "nbformat_minor": 2
}
