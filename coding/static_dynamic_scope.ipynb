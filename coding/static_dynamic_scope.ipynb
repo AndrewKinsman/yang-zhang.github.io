{
 "cells": [
  {
   "cell_type": "markdown",
   "metadata": {},
   "source": [
    "# Static v.s. Dynamic Scope Exmaple\n",
    "\n",
    "## Example of static scope - C:\n",
    "```c\n",
    "#include<stdio.h>\n",
    "int count = 10;\n",
    "void func2(){\n",
    "    printf(\"In func2=%d\\n\", count);\n",
    "}\n",
    "void func1(){\n",
    "    int count=20;\n",
    "    func2();\n",
    "}\n",
    "int main()\n",
    "{\n",
    "    func1();\n",
    "    return 0;\n",
    "}\n",
    "```\n",
    "Output:\n",
    "```\n",
    "In func2=10\n",
    "```\n",
    "\n",
    "## Example of dynamic scope - Python\n",
    "```py\n",
    "count = 20\n",
    "\n",
    "def func2():\n",
    "    print(\"In func2=%d\" % count)\n",
    "\n",
    "def func1():\n",
    "    count = 20\n",
    "    func2()\n",
    "\n",
    "def main():\n",
    "    func1()\n",
    "    return 0\n",
    "\n",
    "if __name__== \"__main__\":\n",
    "    main()\n",
    "```\n",
    "\n",
    "Output:\n",
    "```\n",
    "In func2=20\n",
    "```\n",
    "\n",
    "[Home](https://yang-zhang.github.io/)"
   ]
  }
 ],
 "metadata": {
  "kernelspec": {
   "display_name": "Python 3",
   "language": "python",
   "name": "python3"
  },
  "language_info": {
   "codemirror_mode": {
    "name": "ipython",
    "version": 3
   },
   "file_extension": ".py",
   "mimetype": "text/x-python",
   "name": "python",
   "nbconvert_exporter": "python",
   "pygments_lexer": "ipython3",
   "version": "3.6.1"
  },
  "toc": {
   "colors": {
    "hover_highlight": "#DAA520",
    "navigate_num": "#000000",
    "navigate_text": "#333333",
    "running_highlight": "#FF0000",
    "selected_highlight": "#FFD700",
    "sidebar_border": "#EEEEEE",
    "wrapper_background": "#FFFFFF"
   },
   "moveMenuLeft": true,
   "nav_menu": {
    "height": "68px",
    "width": "252px"
   },
   "navigate_menu": true,
   "number_sections": true,
   "sideBar": true,
   "threshold": 4,
   "toc_cell": false,
   "toc_section_display": "block",
   "toc_window_display": false,
   "widenNotebook": false
  }
 },
 "nbformat": 4,
 "nbformat_minor": 2
}
