{
 "cells": [
  {
   "cell_type": "markdown",
   "metadata": {},
   "source": [
    "# Relative import in Python"
   ]
  },
  {
   "cell_type": "code",
   "execution_count": 1,
   "metadata": {
    "scrolled": false
   },
   "outputs": [
    {
     "data": {
      "text/plain": [
       "'/tmp/yang-zhang.github.io/coding/relative_import'"
      ]
     },
     "execution_count": 1,
     "metadata": {},
     "output_type": "execute_result"
    }
   ],
   "source": [
    "pwd"
   ]
  },
  {
   "cell_type": "code",
   "execution_count": 2,
   "metadata": {
    "scrolled": false
   },
   "outputs": [
    {
     "name": "stdout",
     "output_type": "stream",
     "text": [
      "some_folder/my_package/\r\n",
      "some_folder/my_package/.DS_Store\r\n",
      "some_folder/my_package/__init__.py\r\n",
      "some_folder/my_package/__pycache__\r\n",
      "some_folder/my_package/__pycache__/__init__.cpython-36.pyc\r\n",
      "some_folder/my_package/__pycache__/module_1.cpython-36.pyc\r\n",
      "some_folder/my_package/module_1.py\r\n",
      "some_folder/my_package/package_1\r\n",
      "some_folder/my_package/package_1/.DS_Store\r\n",
      "some_folder/my_package/package_1/__init__.py\r\n",
      "some_folder/my_package/package_1/__pycache__\r\n",
      "some_folder/my_package/package_1/__pycache__/__init__.cpython-36.pyc\r\n",
      "some_folder/my_package/package_1/__pycache__/module_2.cpython-36.pyc\r\n",
      "some_folder/my_package/package_1/__pycache__/module_3.cpython-36.pyc\r\n",
      "some_folder/my_package/package_1/module_2.py\r\n",
      "some_folder/my_package/package_1/module_3.py\r\n",
      "some_folder/my_package/package_1/package_2\r\n",
      "some_folder/my_package/package_1/package_2/__init__.py\r\n",
      "some_folder/my_package/package_1/package_2/__pycache__\r\n",
      "some_folder/my_package/package_1/package_2/__pycache__/__init__.cpython-36.pyc\r\n",
      "some_folder/my_package/package_1/package_2/__pycache__/module_4.cpython-36.pyc\r\n",
      "some_folder/my_package/package_1/package_2/__pycache__/module_5.cpython-36.pyc\r\n",
      "some_folder/my_package/package_1/package_2/module_4.py\r\n",
      "some_folder/my_package/package_1/package_2/module_5.py\r\n"
     ]
    }
   ],
   "source": [
    "!find some_folder/my_package/"
   ]
  },
  {
   "cell_type": "code",
   "execution_count": 3,
   "metadata": {},
   "outputs": [],
   "source": [
    "import sys\n",
    "import os\n",
    "cwd = os.getcwd()\n",
    "sys.path.append(cwd + '/some_folder')"
   ]
  },
  {
   "cell_type": "code",
   "execution_count": 4,
   "metadata": {
    "scrolled": true
   },
   "outputs": [
    {
     "name": "stdout",
     "output_type": "stream",
     "text": [
      "print('module_1!')\r\n",
      "\r\n",
      "def func_1():\r\n",
      "\tprint('func_1!')\r\n"
     ]
    }
   ],
   "source": [
    "cat some_folder/my_package/module_1.py"
   ]
  },
  {
   "cell_type": "code",
   "execution_count": 5,
   "metadata": {
    "scrolled": false
   },
   "outputs": [
    {
     "name": "stdout",
     "output_type": "stream",
     "text": [
      "print('module_2!')"
     ]
    }
   ],
   "source": [
    "cat some_folder/my_package/package_1/module_2.py"
   ]
  },
  {
   "cell_type": "code",
   "execution_count": 6,
   "metadata": {
    "scrolled": false
   },
   "outputs": [
    {
     "name": "stdout",
     "output_type": "stream",
     "text": [
      "print('module_3!')\r\n",
      "\r\n",
      "def func_3():\r\n",
      "\tprint('func_3!')\r\n"
     ]
    }
   ],
   "source": [
    "cat some_folder/my_package/package_1/module_3.py"
   ]
  },
  {
   "cell_type": "code",
   "execution_count": 7,
   "metadata": {
    "scrolled": true
   },
   "outputs": [
    {
     "name": "stdout",
     "output_type": "stream",
     "text": [
      "from . import module_4\r\n",
      "from .. import module_3\r\n",
      "from ... import module_1\r\n",
      "\r\n",
      "from .module_4 import func_4\r\n",
      "from ..module_3 import func_3\r\n",
      "from ...module_1 import func_1 \r\n",
      "\r\n",
      "print('module_5!')\r\n",
      "\r\n",
      "func_4()\r\n",
      "func_3()\r\n",
      "func_1()\r\n",
      "\r\n",
      "module_4.func_4()\r\n",
      "module_3.func_3()\r\n",
      "module_1.func_1()"
     ]
    }
   ],
   "source": [
    "cat some_folder/my_package/package_1/package_2/module_5.py"
   ]
  },
  {
   "cell_type": "code",
   "execution_count": 8,
   "metadata": {
    "scrolled": true
   },
   "outputs": [
    {
     "name": "stdout",
     "output_type": "stream",
     "text": [
      "module_4!\n",
      "module_3!\n",
      "module_1!\n",
      "module_5!\n",
      "func_4!\n",
      "func_3!\n",
      "func_1!\n",
      "func_4!\n",
      "func_3!\n",
      "func_1!\n"
     ]
    }
   ],
   "source": [
    "import my_package.package_1.package_2.module_5"
   ]
  },
  {
   "cell_type": "markdown",
   "metadata": {},
   "source": [
    "References: \n",
    "- Pro Python"
   ]
  },
  {
   "cell_type": "markdown",
   "metadata": {},
   "source": [
    "[Home](https://yang-zhang.github.io/)"
   ]
  }
 ],
 "metadata": {
  "kernelspec": {
   "display_name": "Python 3",
   "language": "python",
   "name": "python3"
  },
  "language_info": {
   "codemirror_mode": {
    "name": "ipython",
    "version": 3
   },
   "file_extension": ".py",
   "mimetype": "text/x-python",
   "name": "python",
   "nbconvert_exporter": "python",
   "pygments_lexer": "ipython3",
   "version": "3.6.1"
  },
  "toc": {
   "colors": {
    "hover_highlight": "#DAA520",
    "navigate_num": "#000000",
    "navigate_text": "#333333",
    "running_highlight": "#FF0000",
    "selected_highlight": "#FFD700",
    "sidebar_border": "#EEEEEE",
    "wrapper_background": "#FFFFFF"
   },
   "moveMenuLeft": true,
   "nav_menu": {
    "height": "31px",
    "width": "252px"
   },
   "navigate_menu": true,
   "number_sections": true,
   "sideBar": true,
   "threshold": 4,
   "toc_cell": false,
   "toc_section_display": "block",
   "toc_window_display": false,
   "widenNotebook": false
  }
 },
 "nbformat": 4,
 "nbformat_minor": 2
}
