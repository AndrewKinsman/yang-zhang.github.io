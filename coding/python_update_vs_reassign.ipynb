{
 "cells": [
  {
   "cell_type": "code",
   "execution_count": 20,
   "metadata": {},
   "outputs": [
    {
     "name": "stdout",
     "output_type": "stream",
     "text": [
      "a_list_of_lists [[1, 2]]\n",
      "v_list 0x7f1c6430a708 <class 'list'> [1, 2]\n",
      "v_list 0x7f1c6430a708 <class 'list'> [1, 2, 3, 4]\n",
      "a_list_of_lists [[1, 2, 3, 4]]\n"
     ]
    }
   ],
   "source": [
    "a_list_of_lists = [[1, 2]]\n",
    "\n",
    "print('a_list_of_lists', a_list_of_lists)\n",
    "\n",
    "v_list = a_list_of_lists[0]\n",
    "print('v_list', hex(id(v_list)), type(v_list), v_list)\n",
    "\n",
    "v_list += [3, 4]\n",
    "\n",
    "print('v_list', hex(id(v_list)), type(v_list), v_list)\n",
    "\n",
    "print('a_list_of_lists', a_list_of_lists)\n"
   ]
  },
  {
   "cell_type": "code",
   "execution_count": 21,
   "metadata": {},
   "outputs": [
    {
     "name": "stdout",
     "output_type": "stream",
     "text": [
      "a_list_of_lists [[1, 2]]\n",
      "v_list 0x7f1c6430a048 <class 'list'> [1, 2]\n",
      "v_list 0x7f1c642e44c8 <class 'list'> [1, 2, 3, 4]\n",
      "a_list_of_lists [[1, 2]]\n"
     ]
    }
   ],
   "source": [
    "a_list_of_lists = [[1, 2]]\n",
    "\n",
    "print('a_list_of_lists', a_list_of_lists)\n",
    "\n",
    "v_list = a_list_of_lists[0]\n",
    "print('v_list', hex(id(v_list)), type(v_list), v_list)\n",
    "\n",
    "v_list = v_list + [3, 4]\n",
    "\n",
    "print('v_list', hex(id(v_list)), type(v_list), v_list)\n",
    "\n",
    "print('a_list_of_lists', a_list_of_lists)\n"
   ]
  },
  {
   "cell_type": "code",
   "execution_count": 17,
   "metadata": {},
   "outputs": [
    {
     "name": "stdout",
     "output_type": "stream",
     "text": [
      "a_list_of_sets [{1, 2}]\n",
      "v_set 0x7f1c693409e8 <class 'set'> {1, 2}\n",
      "v_set 0x7f1c6429e048 <class 'set'> {1, 2, 3, 4}\n",
      "a_list_of_sets [{1, 2}]\n",
      "0x7f1c693409e8\n"
     ]
    }
   ],
   "source": [
    "a_list_of_sets = [{1, 2}]\n",
    "\n",
    "print('a_list_of_sets', a_list_of_sets)\n",
    "\n",
    "v_set = a_list_of_sets[0]\n",
    "print('v_set', hex(id(v_set)), type(v_set), v_set)\n",
    "\n",
    "v_set = v_set | {3, 4}\n",
    "\n",
    "print('v_set', hex(id(v_set)), type(v_set), v_set)\n",
    "\n",
    "print('a_list_of_sets', a_list_of_sets)\n",
    "\n",
    "print(hex(id(a_list_of_sets[0])))"
   ]
  },
  {
   "cell_type": "code",
   "execution_count": 13,
   "metadata": {},
   "outputs": [
    {
     "name": "stdout",
     "output_type": "stream",
     "text": [
      "a_list_of_sets [{1, 2}]\n",
      "v_set 0x7f1c69340908 <class 'set'> {1, 2}\n",
      "v_set 0x7f1c69340908 <class 'set'> {1, 2, 3, 4}\n",
      "a_list_of_sets [{1, 2, 3, 4}]\n",
      "0x7f1c69340908\n"
     ]
    }
   ],
   "source": [
    "a_list_of_sets = [{1, 2}]\n",
    "\n",
    "print('a_list_of_sets', a_list_of_sets)\n",
    "\n",
    "v_set = a_list_of_sets[0]\n",
    "print('v_set', hex(id(v_set)), type(v_set), v_set)\n",
    "\n",
    "v_set |= {3, 4}\n",
    "\n",
    "print('v_set', hex(id(v_set)), type(v_set), v_set)\n",
    "\n",
    "print('a_list_of_sets', a_list_of_sets)\n",
    "\n",
    "print(hex(id(a_list_of_sets[0])))"
   ]
  },
  {
   "cell_type": "code",
   "execution_count": null,
   "metadata": {
    "collapsed": true
   },
   "outputs": [],
   "source": []
  }
 ],
 "metadata": {
  "kernelspec": {
   "display_name": "Python 3",
   "language": "python",
   "name": "python3"
  },
  "language_info": {
   "codemirror_mode": {
    "name": "ipython",
    "version": 3
   },
   "file_extension": ".py",
   "mimetype": "text/x-python",
   "name": "python",
   "nbconvert_exporter": "python",
   "pygments_lexer": "ipython3",
   "version": "3.6.1"
  },
  "toc": {
   "nav_menu": {},
   "number_sections": true,
   "sideBar": true,
   "skip_h1_title": false,
   "toc_cell": false,
   "toc_position": {},
   "toc_section_display": "block",
   "toc_window_display": false
  }
 },
 "nbformat": 4,
 "nbformat_minor": 2
}
