{
 "cells": [
  {
   "cell_type": "markdown",
   "metadata": {},
   "source": [
    "https://medium.com/@zhang_yang/inplace-update-e-g-v-s-reassign-e-g-x-x-1-in-python-f821b5abfa27"
   ]
  },
  {
   "cell_type": "code",
   "execution_count": 28,
   "metadata": {},
   "outputs": [
    {
     "name": "stdout",
     "output_type": "stream",
     "text": [
      "oject id: 0x7f8628263548 [1, 2]\n",
      "oject id does not change: 0x7f8628263548 [1, 2, 3, 4]\n",
      "oject id changes: 0x7f862d9c9808 [1, 2, 3, 4, 5, 6]\n"
     ]
    }
   ],
   "source": [
    "x = [1, 2]\n",
    "print('oject id:', hex(id(x)), x)\n",
    "x += [3, 4]\n",
    "print('oject id does not change:', hex(id(x)), x)\n",
    "x = x + [5, 6]\n",
    "print('oject id changes:', hex(id(x)), x)"
   ]
  },
  {
   "cell_type": "markdown",
   "metadata": {},
   "source": [
    "This may have unexpected effect when passed by reference. Compare how the two code pieces give different results."
   ]
  },
  {
   "cell_type": "code",
   "execution_count": 30,
   "metadata": {},
   "outputs": [
    {
     "name": "stdout",
     "output_type": "stream",
     "text": [
      "a_list_of_lists [[1, 2]]\n",
      "v_list 0x7f8628263d48 <class 'list'> [1, 2]\n",
      "v_list 0x7f8628263d48 <class 'list'> [1, 2, 3, 4]\n",
      "a_list_of_lists [[1, 2, 3, 4]]\n"
     ]
    }
   ],
   "source": [
    "a_list_of_lists = [[1, 2]]\n",
    "\n",
    "print('a_list_of_lists', a_list_of_lists)\n",
    "\n",
    "v_list = a_list_of_lists[0]\n",
    "print('v_list', hex(id(v_list)), type(v_list), v_list)\n",
    "\n",
    "v_list += [3, 4]\n",
    "\n",
    "print('v_list', hex(id(v_list)), type(v_list), v_list)\n",
    "\n",
    "print('a_list_of_lists', a_list_of_lists)\n"
   ]
  },
  {
   "cell_type": "code",
   "execution_count": 31,
   "metadata": {},
   "outputs": [
    {
     "name": "stdout",
     "output_type": "stream",
     "text": [
      "a_list_of_lists [[1, 2]]\n",
      "v_list 0x7f86282799c8 <class 'list'> [1, 2]\n",
      "v_list 0x7f862823ecc8 <class 'list'> [1, 2, 3, 4]\n",
      "a_list_of_lists [[1, 2]]\n"
     ]
    }
   ],
   "source": [
    "a_list_of_lists = [[1, 2]]\n",
    "\n",
    "print('a_list_of_lists', a_list_of_lists)\n",
    "\n",
    "v_list = a_list_of_lists[0]\n",
    "print('v_list', hex(id(v_list)), type(v_list), v_list)\n",
    "\n",
    "v_list = v_list + [3, 4]\n",
    "\n",
    "print('v_list', hex(id(v_list)), type(v_list), v_list)\n",
    "\n",
    "print('a_list_of_lists', a_list_of_lists)\n"
   ]
  },
  {
   "cell_type": "markdown",
   "metadata": {},
   "source": [
    "Another example with sets. Compare how the two code pieces give different results."
   ]
  },
  {
   "cell_type": "code",
   "execution_count": 32,
   "metadata": {},
   "outputs": [
    {
     "name": "stdout",
     "output_type": "stream",
     "text": [
      "a_list_of_sets [{1, 2}]\n",
      "v_set 0x7f8628218048 <class 'set'> {1, 2}\n",
      "v_set 0x7f862da699e8 <class 'set'> {1, 2, 3, 4}\n",
      "a_list_of_sets [{1, 2}]\n",
      "0x7f8628218048\n"
     ]
    }
   ],
   "source": [
    "a_list_of_sets = [{1, 2}]\n",
    "\n",
    "print('a_list_of_sets', a_list_of_sets)\n",
    "\n",
    "v_set = a_list_of_sets[0]\n",
    "print('v_set', hex(id(v_set)), type(v_set), v_set)\n",
    "\n",
    "v_set = v_set | {3, 4}\n",
    "\n",
    "print('v_set', hex(id(v_set)), type(v_set), v_set)\n",
    "\n",
    "print('a_list_of_sets', a_list_of_sets)\n",
    "\n",
    "print(hex(id(a_list_of_sets[0])))"
   ]
  },
  {
   "cell_type": "code",
   "execution_count": 33,
   "metadata": {},
   "outputs": [
    {
     "name": "stdout",
     "output_type": "stream",
     "text": [
      "a_list_of_sets [{1, 2}]\n",
      "v_set 0x7f862da69908 <class 'set'> {1, 2}\n",
      "v_set 0x7f862da69908 <class 'set'> {1, 2, 3, 4}\n",
      "a_list_of_sets [{1, 2, 3, 4}]\n",
      "0x7f862da69908\n"
     ]
    }
   ],
   "source": [
    "a_list_of_sets = [{1, 2}]\n",
    "\n",
    "print('a_list_of_sets', a_list_of_sets)\n",
    "\n",
    "v_set = a_list_of_sets[0]\n",
    "print('v_set', hex(id(v_set)), type(v_set), v_set)\n",
    "\n",
    "v_set |= {3, 4}\n",
    "\n",
    "print('v_set', hex(id(v_set)), type(v_set), v_set)\n",
    "\n",
    "print('a_list_of_sets', a_list_of_sets)\n",
    "\n",
    "print(hex(id(a_list_of_sets[0])))"
   ]
  },
  {
   "cell_type": "code",
   "execution_count": 21,
   "metadata": {},
   "outputs": [
    {
     "name": "stdout",
     "output_type": "stream",
     "text": [
      "oject id: 0x7f8633c569c0\n",
      "oject id does change: 0x7f8633c569e0\n",
      "oject id changes: 0x7f8633c56a00\n"
     ]
    }
   ],
   "source": [
    "x = 1\n",
    "print('oject id:', hex(id(x)))\n",
    "x += 1\n",
    "print('oject id does change:', hex(id(x)))\n",
    "x = x + 1\n",
    "print('oject id changes:', hex(id(x)))"
   ]
  }
 ],
 "metadata": {
  "kernelspec": {
   "display_name": "Python 3",
   "language": "python",
   "name": "python3"
  },
  "language_info": {
   "codemirror_mode": {
    "name": "ipython",
    "version": 3
   },
   "file_extension": ".py",
   "mimetype": "text/x-python",
   "name": "python",
   "nbconvert_exporter": "python",
   "pygments_lexer": "ipython3",
   "version": "3.6.1"
  },
  "toc": {
   "nav_menu": {},
   "number_sections": true,
   "sideBar": true,
   "skip_h1_title": false,
   "toc_cell": false,
   "toc_position": {},
   "toc_section_display": "block",
   "toc_window_display": false
  }
 },
 "nbformat": 4,
 "nbformat_minor": 2
}
