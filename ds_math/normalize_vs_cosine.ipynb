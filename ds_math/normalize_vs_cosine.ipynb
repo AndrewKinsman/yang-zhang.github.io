{
 "cells": [
  {
   "cell_type": "markdown",
   "metadata": {},
   "source": [
    "- https://stackoverflow.com/questions/34144632/using-cosine-distance-with-scikit-learn-kneighborsclassifier\n",
    "you can get the same ordering as the cosine distance by normalizing your data and then using the euclidean distance. So long as you use the uniform weights option, the results will be identical to having used a correct Cosine Distance.\n",
    "\n",
    "\n",
    "- https://github.com/stanfordnlp/GloVe/blob/765074642a6544e47849bb85d8dc2e11e44c2922/eval/python/evaluate.py#L75-L76\n",
    "```\n",
    "#cosine similarity if input W has been normalized\n",
    "dist = np.dot(W, pred_vec.T)\n",
    "```"
   ]
  },
  {
   "cell_type": "code",
   "execution_count": 31,
   "metadata": {},
   "outputs": [],
   "source": [
    "import pandas as pd\n",
    "\n",
    "import numpy as np\n",
    "from sklearn import preprocessing\n",
    "from importlib import reload\n",
    "from sklearn.metrics.pairwise import cosine_similarity"
   ]
  },
  {
   "cell_type": "markdown",
   "metadata": {},
   "source": [
    "### normalize in sklearn"
   ]
  },
  {
   "cell_type": "code",
   "execution_count": 25,
   "metadata": {},
   "outputs": [
    {
     "data": {
      "text/plain": [
       "array([[ 0.40824829, -0.40824829,  0.81649658],\n",
       "       [ 1.        ,  0.        ,  0.        ],\n",
       "       [ 0.        ,  0.70710678, -0.70710678]])"
      ]
     },
     "execution_count": 25,
     "metadata": {},
     "output_type": "execute_result"
    }
   ],
   "source": [
    "X = [[ 1., -1.,  2.],\n",
    "     [ 2.,  0.,  0.],\n",
    "     [ 0.,  1., -1.]]\n",
    "X_normalized = preprocessing.normalize(X, norm='l2')\n",
    "\n",
    "X_normalized                                      "
   ]
  },
  {
   "cell_type": "code",
   "execution_count": 26,
   "metadata": {},
   "outputs": [
    {
     "data": {
      "text/plain": [
       "array([[ 0.40824829, -0.40824829,  0.81649658],\n",
       "       [ 1.        ,  0.        ,  0.        ],\n",
       "       [ 0.        ,  0.70710678, -0.70710678]])"
      ]
     },
     "execution_count": 26,
     "metadata": {},
     "output_type": "execute_result"
    }
   ],
   "source": [
    "X_normalized = preprocessing.normalize(X, norm='l2', axis=1)\n",
    "\n",
    "X_normalized                                      \n"
   ]
  },
  {
   "cell_type": "code",
   "execution_count": 27,
   "metadata": {},
   "outputs": [
    {
     "data": {
      "text/plain": [
       "array([[ 0.4472136 , -0.70710678,  0.89442719],\n",
       "       [ 0.89442719,  0.        ,  0.        ],\n",
       "       [ 0.        ,  0.70710678, -0.4472136 ]])"
      ]
     },
     "execution_count": 27,
     "metadata": {},
     "output_type": "execute_result"
    }
   ],
   "source": [
    "X_normalized = preprocessing.normalize(X, norm='l2', axis=0)\n",
    "\n",
    "X_normalized                                      \n"
   ]
  },
  {
   "cell_type": "markdown",
   "metadata": {},
   "source": [
    "### cosine similarity in sklearn"
   ]
  },
  {
   "cell_type": "code",
   "execution_count": 139,
   "metadata": {},
   "outputs": [],
   "source": [
    "from scipy.spatial.distance import cosine\n",
    "from sklearn.metrics.pairwise import cosine_similarity\n",
    "from sklearn.neighbors import NearestNeighbors\n",
    "\n",
    "import numpy as np"
   ]
  },
  {
   "cell_type": "code",
   "execution_count": 140,
   "metadata": {},
   "outputs": [
    {
     "data": {
      "text/plain": [
       "(0.7071067811865475, 0.7071067811865475)"
      ]
     },
     "execution_count": 140,
     "metadata": {},
     "output_type": "execute_result"
    }
   ],
   "source": [
    "x = np.array([2, 2]).reshape(1, -1)\n",
    "y = np.array([2, 0]).reshape(1, -1)\n",
    "1 - cosine(x, y), cosine_similarity(x, y)[0][0]"
   ]
  },
  {
   "cell_type": "code",
   "execution_count": 141,
   "metadata": {},
   "outputs": [
    {
     "data": {
      "text/plain": [
       "(-0.7071067811865475, -0.7071067811865475)"
      ]
     },
     "execution_count": 141,
     "metadata": {},
     "output_type": "execute_result"
    }
   ],
   "source": [
    "x = np.array([2, 2]).reshape(1, -1)\n",
    "y = np.array([-2, 0]).reshape(1, -1)\n",
    "1 - cosine(x, y), cosine_similarity(x, y)[0][0]"
   ]
  },
  {
   "cell_type": "markdown",
   "metadata": {},
   "source": [
    "### normalize v.s. cosine"
   ]
  },
  {
   "cell_type": "code",
   "execution_count": 185,
   "metadata": {
    "scrolled": true
   },
   "outputs": [
    {
     "data": {
      "text/plain": [
       "array([[ 0.68771139,  0.93969998,  0.65501864,  0.44625405,  0.51352883,\n",
       "         0.51187231,  0.67474548,  0.65198421,  0.70943913,  0.17337859],\n",
       "       [ 0.68523307,  0.51517104,  0.94933607,  0.58906468,  0.66645032,\n",
       "         0.81807049,  0.81605257,  0.6692951 ,  0.47534416,  0.07102817],\n",
       "       [ 0.81552982,  0.62614858,  0.80474978,  0.72622434,  0.79282841,\n",
       "         0.68712266,  0.93384894,  0.88353535,  0.48636079, -0.12897101],\n",
       "       [ 0.81456569,  0.62393981,  0.62419184,  0.61199863,  0.62328067,\n",
       "         0.45731574,  0.7890675 ,  0.84924692,  0.30407625,  0.0299158 ],\n",
       "       [ 0.71150164,  0.76256653,  0.6463674 ,  0.56068448,  0.61845933,\n",
       "         0.76510445,  0.68586243,  0.40712186,  0.89894567,  0.44975326],\n",
       "       [ 0.71119122,  0.73698909,  0.81992195,  0.59347563,  0.6811928 ,\n",
       "         0.7560881 ,  0.80738022,  0.65442807,  0.71344781,  0.09604695],\n",
       "       [ 0.8811539 ,  0.81300764,  0.62274431,  0.7332077 ,  0.77853851,\n",
       "         0.71260213,  0.86048995,  0.67477185,  0.83046795,  0.25491204],\n",
       "       [ 0.70700402,  0.68336862,  0.59535778,  0.48626357,  0.51446378,\n",
       "         0.28037265,  0.72036141,  0.92414202,  0.18724201, -0.18775673],\n",
       "       [ 0.75110239,  0.60318398,  0.894224  ,  0.62266301,  0.69154819,\n",
       "         0.71024473,  0.86237389,  0.81183647,  0.43072996, -0.03352888],\n",
       "       [ 0.67408137,  0.74908125,  0.88106449,  0.50121926,  0.58606508,\n",
       "         0.72696368,  0.75162656,  0.6425409 ,  0.63183513,  0.14971089]])"
      ]
     },
     "execution_count": 185,
     "metadata": {},
     "output_type": "execute_result"
    }
   ],
   "source": [
    "n_samples = 10\n",
    "n_features = 5\n",
    "X = np.random.uniform(0, 2, size=(n_samples, n_features))\n",
    "Y = np.random.uniform(-1, 3, size=(n_samples, n_features))\n",
    "cosine_similarity(X, Y)"
   ]
  },
  {
   "cell_type": "code",
   "execution_count": 186,
   "metadata": {},
   "outputs": [
    {
     "data": {
      "text/plain": [
       "False"
      ]
     },
     "execution_count": 186,
     "metadata": {},
     "output_type": "execute_result"
    }
   ],
   "source": [
    "np.allclose(np.dot(X, Y.T), cosine_similarity(X_normalized, Y_normalized))"
   ]
  },
  {
   "cell_type": "code",
   "execution_count": 187,
   "metadata": {},
   "outputs": [
    {
     "data": {
      "text/plain": [
       "array([1., 1., 1., 1., 1., 1., 1., 1., 1., 1.])"
      ]
     },
     "execution_count": 187,
     "metadata": {},
     "output_type": "execute_result"
    }
   ],
   "source": [
    "X_normalized = preprocessing.normalize(X, norm='l2')\n",
    "Y_normalized = preprocessing.normalize(Y, norm='l2')\n",
    "\n",
    "np.linalg.norm(X_normalized, axis=1)"
   ]
  },
  {
   "cell_type": "code",
   "execution_count": 188,
   "metadata": {
    "scrolled": true
   },
   "outputs": [
    {
     "data": {
      "text/plain": [
       "array([[ 0.68771139,  0.93969998,  0.65501864,  0.44625405,  0.51352883,\n",
       "         0.51187231,  0.67474548,  0.65198421,  0.70943913,  0.17337859],\n",
       "       [ 0.68523307,  0.51517104,  0.94933607,  0.58906468,  0.66645032,\n",
       "         0.81807049,  0.81605257,  0.6692951 ,  0.47534416,  0.07102817],\n",
       "       [ 0.81552982,  0.62614858,  0.80474978,  0.72622434,  0.79282841,\n",
       "         0.68712266,  0.93384894,  0.88353535,  0.48636079, -0.12897101],\n",
       "       [ 0.81456569,  0.62393981,  0.62419184,  0.61199863,  0.62328067,\n",
       "         0.45731574,  0.7890675 ,  0.84924692,  0.30407625,  0.0299158 ],\n",
       "       [ 0.71150164,  0.76256653,  0.6463674 ,  0.56068448,  0.61845933,\n",
       "         0.76510445,  0.68586243,  0.40712186,  0.89894567,  0.44975326],\n",
       "       [ 0.71119122,  0.73698909,  0.81992195,  0.59347563,  0.6811928 ,\n",
       "         0.7560881 ,  0.80738022,  0.65442807,  0.71344781,  0.09604695],\n",
       "       [ 0.8811539 ,  0.81300764,  0.62274431,  0.7332077 ,  0.77853851,\n",
       "         0.71260213,  0.86048995,  0.67477185,  0.83046795,  0.25491204],\n",
       "       [ 0.70700402,  0.68336862,  0.59535778,  0.48626357,  0.51446378,\n",
       "         0.28037265,  0.72036141,  0.92414202,  0.18724201, -0.18775673],\n",
       "       [ 0.75110239,  0.60318398,  0.894224  ,  0.62266301,  0.69154819,\n",
       "         0.71024473,  0.86237389,  0.81183647,  0.43072996, -0.03352888],\n",
       "       [ 0.67408137,  0.74908125,  0.88106449,  0.50121926,  0.58606508,\n",
       "         0.72696368,  0.75162656,  0.6425409 ,  0.63183513,  0.14971089]])"
      ]
     },
     "execution_count": 188,
     "metadata": {},
     "output_type": "execute_result"
    }
   ],
   "source": [
    "cosine_similarity(X_normalized, Y_normalized)"
   ]
  },
  {
   "cell_type": "code",
   "execution_count": 189,
   "metadata": {},
   "outputs": [
    {
     "data": {
      "text/plain": [
       "True"
      ]
     },
     "execution_count": 189,
     "metadata": {},
     "output_type": "execute_result"
    }
   ],
   "source": [
    "np.allclose(cosine_similarity(X, Y), cosine_similarity(X_normalized, Y_normalized))"
   ]
  },
  {
   "cell_type": "code",
   "execution_count": 190,
   "metadata": {},
   "outputs": [
    {
     "data": {
      "text/plain": [
       "True"
      ]
     },
     "execution_count": 190,
     "metadata": {},
     "output_type": "execute_result"
    }
   ],
   "source": [
    "np.allclose(np.dot(X_normalized, Y_normalized.T), cosine_similarity(X_normalized, Y_normalized))"
   ]
  },
  {
   "cell_type": "markdown",
   "metadata": {},
   "source": [
    "So the euclidean distance will degrade to  sqrt(2 − 2x^T y), i.e., sqrt(2 - 2*cosine_sim)"
   ]
  },
  {
   "cell_type": "code",
   "execution_count": 195,
   "metadata": {
    "scrolled": false
   },
   "outputs": [
    {
     "data": {
      "text/plain": [
       "(0.7903019787878622, 0.7903019787878622)"
      ]
     },
     "execution_count": 195,
     "metadata": {},
     "output_type": "execute_result"
    }
   ],
   "source": [
    "np.sqrt(sum((X_normalized[0] - Y_normalized[0])**2)), np.linalg.norm(X_normalized[0] - Y_normalized[0])"
   ]
  },
  {
   "cell_type": "code",
   "execution_count": 196,
   "metadata": {},
   "outputs": [
    {
     "data": {
      "text/plain": [
       "(0.7903019787878621, 0.7903019787878622)"
      ]
     },
     "execution_count": 196,
     "metadata": {},
     "output_type": "execute_result"
    }
   ],
   "source": [
    "np.sqrt(2 - 2 * np.dot(X_normalized[0], Y_normalized[0])), np.linalg.norm(X_normalized[0] - Y_normalized[0])"
   ]
  },
  {
   "cell_type": "code",
   "execution_count": 197,
   "metadata": {
    "scrolled": true
   },
   "outputs": [
    {
     "data": {
      "text/plain": [
       "array([[0.79030198]])"
      ]
     },
     "execution_count": 197,
     "metadata": {},
     "output_type": "execute_result"
    }
   ],
   "source": [
    "np.sqrt(2 - 2 * cosine_similarity(X_normalized[0].reshape(1, -1), Y_normalized[0].reshape(1, -1)))"
   ]
  },
  {
   "cell_type": "code",
   "execution_count": null,
   "metadata": {},
   "outputs": [],
   "source": []
  }
 ],
 "metadata": {
  "kernelspec": {
   "display_name": "Python 3",
   "language": "python",
   "name": "python3"
  },
  "language_info": {
   "codemirror_mode": {
    "name": "ipython",
    "version": 3
   },
   "file_extension": ".py",
   "mimetype": "text/x-python",
   "name": "python",
   "nbconvert_exporter": "python",
   "pygments_lexer": "ipython3",
   "version": "3.6.4"
  },
  "toc": {
   "base_numbering": 1,
   "nav_menu": {},
   "number_sections": true,
   "sideBar": true,
   "skip_h1_title": false,
   "title_cell": "Table of Contents",
   "title_sidebar": "Contents",
   "toc_cell": false,
   "toc_position": {},
   "toc_section_display": true,
   "toc_window_display": false
  }
 },
 "nbformat": 4,
 "nbformat_minor": 2
}
