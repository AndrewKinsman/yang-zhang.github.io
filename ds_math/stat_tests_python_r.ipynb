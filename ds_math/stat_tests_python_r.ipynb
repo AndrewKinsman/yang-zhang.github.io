{
 "cells": [
  {
   "cell_type": "markdown",
   "metadata": {
    "toc": "true"
   },
   "source": [
    " # Table of Contents\n",
    "<div class=\"toc\" style=\"margin-top: 1em;\"><ul class=\"toc-item\" id=\"toc-level0\"><li><span><a href=\"http://localhost:8887/notebooks/yang-zhang.github.io/ds_math/stat_tests_python_r.ipynb#Statistical-Tests-Cheatsheet-with-Python-and-R\" data-toc-modified-id=\"Statistical-Tests-Cheatsheet-with-Python-and-R-1\"><span class=\"toc-item-num\">1&nbsp;&nbsp;</span>Statistical Tests Cheatsheet with Python and R</a></span><ul class=\"toc-item\"><li><span><a href=\"http://localhost:8887/notebooks/yang-zhang.github.io/ds_math/stat_tests_python_r.ipynb#Tests-of-proportions\" data-toc-modified-id=\"Tests-of-proportions-1.1\"><span class=\"toc-item-num\">1.1&nbsp;&nbsp;</span>Tests of proportions</a></span><ul class=\"toc-item\"><li><span><a href=\"http://localhost:8887/notebooks/yang-zhang.github.io/ds_math/stat_tests_python_r.ipynb#Single-proportions\" data-toc-modified-id=\"Single-proportions-1.1.1\"><span class=\"toc-item-num\">1.1.1&nbsp;&nbsp;</span>Single proportions</a></span><ul class=\"toc-item\"><li><span><a href=\"http://localhost:8887/notebooks/yang-zhang.github.io/ds_math/stat_tests_python_r.ipynb#A-test\" data-toc-modified-id=\"A-test-1.1.1.1\"><span class=\"toc-item-num\">1.1.1.1&nbsp;&nbsp;</span>A test</a></span></li><li><span><a href=\"http://localhost:8887/notebooks/yang-zhang.github.io/ds_math/stat_tests_python_r.ipynb#AB-test\" data-toc-modified-id=\"AB-test-1.1.1.2\"><span class=\"toc-item-num\">1.1.1.2&nbsp;&nbsp;</span>AB test</a></span></li><li><span><a href=\"http://localhost:8887/notebooks/yang-zhang.github.io/ds_math/stat_tests_python_r.ipynb#ABC-test\" data-toc-modified-id=\"ABC-test-1.1.1.3\"><span class=\"toc-item-num\">1.1.1.3&nbsp;&nbsp;</span>ABC test</a></span></li></ul></li><li><span><a href=\"http://localhost:8887/notebooks/yang-zhang.github.io/ds_math/stat_tests_python_r.ipynb#Multiple-proportions\" data-toc-modified-id=\"Multiple-proportions-1.1.2\"><span class=\"toc-item-num\">1.1.2&nbsp;&nbsp;</span>Multiple proportions</a></span><ul class=\"toc-item\"><li><span><a href=\"http://localhost:8887/notebooks/yang-zhang.github.io/ds_math/stat_tests_python_r.ipynb#A-test\" data-toc-modified-id=\"A-test-1.1.2.1\"><span class=\"toc-item-num\">1.1.2.1&nbsp;&nbsp;</span>A test</a></span></li><li><span><a href=\"http://localhost:8887/notebooks/yang-zhang.github.io/ds_math/stat_tests_python_r.ipynb#AB-test\" data-toc-modified-id=\"AB-test-1.1.2.2\"><span class=\"toc-item-num\">1.1.2.2&nbsp;&nbsp;</span>AB test</a></span></li><li><span><a href=\"http://localhost:8887/notebooks/yang-zhang.github.io/ds_math/stat_tests_python_r.ipynb#ABC-test\" data-toc-modified-id=\"ABC-test-1.1.2.3\"><span class=\"toc-item-num\">1.1.2.3&nbsp;&nbsp;</span>ABC test</a></span></li></ul></li></ul></li><li><span><a href=\"http://localhost:8887/notebooks/yang-zhang.github.io/ds_math/stat_tests_python_r.ipynb#Tests-of-means\" data-toc-modified-id=\"Tests-of-means-1.2\"><span class=\"toc-item-num\">1.2&nbsp;&nbsp;</span>Tests of means</a></span><ul class=\"toc-item\"><ul class=\"toc-item\"><li><span><a href=\"http://localhost:8887/notebooks/yang-zhang.github.io/ds_math/stat_tests_python_r.ipynb#A-test\" data-toc-modified-id=\"A-test-1.2.0.1\"><span class=\"toc-item-num\">1.2.0.1&nbsp;&nbsp;</span>A test</a></span></li><li><span><a href=\"http://localhost:8887/notebooks/yang-zhang.github.io/ds_math/stat_tests_python_r.ipynb#AB-test\" data-toc-modified-id=\"AB-test-1.2.0.2\"><span class=\"toc-item-num\">1.2.0.2&nbsp;&nbsp;</span>AB test</a></span></li><li><span><a href=\"http://localhost:8887/notebooks/yang-zhang.github.io/ds_math/stat_tests_python_r.ipynb#ABC-test\" data-toc-modified-id=\"ABC-test-1.2.0.3\"><span class=\"toc-item-num\">1.2.0.3&nbsp;&nbsp;</span>ABC test</a></span></li></ul></ul></li></ul></li></ul></div>"
   ]
  },
  {
   "cell_type": "markdown",
   "metadata": {},
   "source": [
    "# Statistical Tests Cheatsheet with Python and R\n",
    "\n",
    "This is a cheatsheet for statistical tests that I need to do and how to do them in Python and/or R, respectively. (I try to do both Python and R whenever possible.)\n",
    "It is organized by the problems to solve, each with an example of the problem, the Python solution, and the R solution.\n",
    "\n",
    "A, B, C represent three different versions of a eCommerce website.\n",
    "- A test: test on a single case (e.g., Website Version A);\n",
    "- AB test: test on two contrasting cases (e.g.,Website Version A v.s. B);\n",
    "- ABC test: test on three contrasting cases (e.g., Website Version A, B, and C). This can be generalized to more than three cases.\n",
    "\n",
    "## Tests of proportions\n",
    "There are problems that concern single proportions and multiple proportions.\n",
    "- An example of single proportions: the percentage of visitors to your website that clicked \"Buy Now\" (e.g., a 3% click rate).\n",
    "- An example of multiple proportions: the percentages of visitors to your website from different countries (e.g., 60% US, 30% UK, 10% DE).\n",
    "\n",
    "### Single proportions\n",
    "\n",
    "#### A test\n",
    "Data say 526 out of 1000 visitors to your website clicked.\n",
    "\n",
    "##### Confidence interval\n",
    "Question: What is the confidence interval of the click rate?\n",
    "\n",
    "###### Python"
   ]
  },
  {
   "cell_type": "code",
   "execution_count": 1,
   "metadata": {},
   "outputs": [
    {
     "data": {
      "text/plain": [
       "0.526"
      ]
     },
     "execution_count": 1,
     "metadata": {},
     "output_type": "execute_result"
    }
   ],
   "source": [
    "clicking_visitors = 526\n",
    "all_visitors = 1000\n",
    "confidence_interval_size = 0.95\n",
    "x = clicking_visitors\n",
    "n = all_visitors\n",
    "p_hat = x/n\n",
    "p_hat"
   ]
  },
  {
   "cell_type": "code",
   "execution_count": 2,
   "metadata": {},
   "outputs": [
    {
     "data": {
      "text/plain": [
       "0.015789996833438569"
      ]
     },
     "execution_count": 2,
     "metadata": {},
     "output_type": "execute_result"
    }
   ],
   "source": [
    "import numpy as np\n",
    "standard_error = np.sqrt(p_hat * (1-p_hat) / n)\n",
    "standard_error"
   ]
  },
  {
   "cell_type": "code",
   "execution_count": 3,
   "metadata": {},
   "outputs": [
    {
     "data": {
      "text/plain": [
       "0.050000000000000044"
      ]
     },
     "execution_count": 3,
     "metadata": {},
     "output_type": "execute_result"
    }
   ],
   "source": [
    "alpha = 1 - confidence_interval_size\n",
    "alpha"
   ]
  },
  {
   "cell_type": "code",
   "execution_count": 4,
   "metadata": {},
   "outputs": [
    {
     "data": {
      "text/plain": [
       "0.975"
      ]
     },
     "execution_count": 4,
     "metadata": {},
     "output_type": "execute_result"
    }
   ],
   "source": [
    "1 - alpha/2"
   ]
  },
  {
   "cell_type": "code",
   "execution_count": 5,
   "metadata": {},
   "outputs": [
    {
     "data": {
      "text/plain": [
       "1.959963984540054"
      ]
     },
     "execution_count": 5,
     "metadata": {},
     "output_type": "execute_result"
    }
   ],
   "source": [
    "import scipy.stats\n",
    "z_critical = scipy.stats.norm.ppf(1 - alpha/2)\n",
    "z_critical"
   ]
  },
  {
   "cell_type": "code",
   "execution_count": 6,
   "metadata": {},
   "outputs": [
    {
     "data": {
      "text/plain": [
       "(0.49505217489045894, 0.55694782510954111)"
      ]
     },
     "execution_count": 6,
     "metadata": {},
     "output_type": "execute_result"
    }
   ],
   "source": [
    "confidence_interval = p_hat - z_critical*standard_error, p_hat + z_critical*standard_error\n",
    "confidence_interval"
   ]
  },
  {
   "cell_type": "markdown",
   "metadata": {},
   "source": [
    "Make into a function:"
   ]
  },
  {
   "cell_type": "code",
   "execution_count": 7,
   "metadata": {},
   "outputs": [
    {
     "data": {
      "text/plain": [
       "(0.49505217489045894, 0.55694782510954111)"
      ]
     },
     "execution_count": 7,
     "metadata": {},
     "output_type": "execute_result"
    }
   ],
   "source": [
    "import numpy as np\n",
    "import scipy.stats\n",
    "\n",
    "def find_confidence_interval(x, n, confidence_interval_size):\n",
    "    p_hat = x / n\n",
    "    standard_error = np.sqrt(p_hat * (1 - p_hat) / n)\n",
    "    alpha = 1 - confidence_interval_size\n",
    "    z_critical = scipy.stats.norm.ppf(1 - alpha / 2)\n",
    "    confidence_interval = p_hat - z_critical * standard_error, p_hat + z_critical * standard_error\n",
    "    return confidence_interval\n",
    "\n",
    "\n",
    "clicking_visitors = 526\n",
    "all_visitors = 1000\n",
    "find_confidence_interval(\n",
    "    x=clicking_visitors, n=all_visitors, confidence_interval_size=0.95)"
   ]
  },
  {
   "cell_type": "markdown",
   "metadata": {},
   "source": [
    "###### R\n",
    "```r\n",
    "> clicking_visitors <- 526\n",
    "> all_visitors <- 1000\n",
    "> confidence_interval_size <- 0.95\n",
    "> x = clicking_visitors\n",
    "> n = all_visitors\n",
    "> p_hat = x/n\n",
    "> p_hat\n",
    "[1] 0.526\n",
    "> standard_error = sqrt(p_hat * (1-p_hat) / n)\n",
    "> alpha = 1 - confidence_interval_size\n",
    "> alpha\n",
    "[1] 0.05\n",
    "> 1 - alpha/2\n",
    "[1] 0.975\n",
    "> z_critical = qnorm(1 - alpha/2)\n",
    "> z_critical\n",
    "[1] 1.959964\n",
    "> confidence_interval <- c(p_hat - z_critical*standard_error, p_hat + z_critical*standard_error)\n",
    "> confidence_interval\n",
    "[1] 0.4950522 0.5569478\n",
    "```\n",
    "\n",
    "Make into a function:\n",
    "```r\n",
    "> find_confidence_interval <- function(x, n, confidence_interval_size) {\n",
    "+     p_hat = x/n\n",
    "+     standard_error = sqrt(p_hat * (1-p_hat) / n)\n",
    "+     alpha = 1 - confidence_interval_size\n",
    "+     z_critical = qnorm(1 - alpha/2)\n",
    "+     confidence_interval <- c(p_hat - z_critical*standard_error, p_hat + z_critical*standard_error)\n",
    "+     return(confidence_interval)\n",
    "+     \n",
    "+ }\n",
    "> clicking_visitors <- 526\n",
    "> all_visitors <- 1000\n",
    "> find_confidence_interval(x=clicking_visitors, n=all_visitors, confidence_interval_size=0.95)\n",
    "[1] 0.4950522 0.5569478\n",
    "```\n",
    "\n",
    "##### Hypothesis test\n",
    "Question: There was a hypothesis of the click rate being 50%. What do the data say about it?\n",
    "\n",
    "###### z-test\n",
    "**Python**"
   ]
  },
  {
   "cell_type": "code",
   "execution_count": 8,
   "metadata": {},
   "outputs": [
    {
     "data": {
      "text/plain": [
       "(1.6466121098225726, 0.099637799747829492)"
      ]
     },
     "execution_count": 8,
     "metadata": {},
     "output_type": "execute_result"
    }
   ],
   "source": [
    "clicking_visitors = 526\n",
    "all_visitors = 1000\n",
    "x = clicking_visitors\n",
    "n = all_visitors\n",
    "p_hypo = 0.5\n",
    "p_hat = x / n\n",
    "one_side = False\n",
    "prop_var = p_hat\n",
    "standard_error = np.sqrt(prop_var * (1 - prop_var) / n)\n",
    "z = (p_hat - p_hypo) / standard_error\n",
    "p_value = 1 - scipy.stats.norm.cdf(abs(z))\n",
    "if one_side == False:\n",
    "    p_value *= 2\n",
    "\n",
    "z, p_value"
   ]
  },
  {
   "cell_type": "markdown",
   "metadata": {},
   "source": [
    "Make into a function:"
   ]
  },
  {
   "cell_type": "code",
   "execution_count": 9,
   "metadata": {},
   "outputs": [
    {
     "data": {
      "text/plain": [
       "(1.6466121098225726, 0.099637799747829492)"
      ]
     },
     "execution_count": 9,
     "metadata": {},
     "output_type": "execute_result"
    }
   ],
   "source": [
    "def single_proportion_ztest(x, n, p_hypo=0.5, prop_var=None, one_side=False):\n",
    "    p_hat = x / n\n",
    "    if not prop_var:\n",
    "        prop_var = p_hat\n",
    "    standard_error = np.sqrt(prop_var * (1 - prop_var) / n)\n",
    "    z = (p_hat - p_hypo) / standard_error\n",
    "    p_value = 1 - scipy.stats.norm.cdf(abs(z))\n",
    "    if one_side == False:\n",
    "        p_value *= 2\n",
    "    return z, p_value\n",
    "\n",
    "\n",
    "x = clicking_visitors\n",
    "n = all_visitors\n",
    "single_proportion_ztest(x, n, p_hypo=p_hypo, prop_var=None, one_side=False)"
   ]
  },
  {
   "cell_type": "markdown",
   "metadata": {},
   "source": [
    "Equivalently, you can use the function from the statsmodels package."
   ]
  },
  {
   "cell_type": "code",
   "execution_count": 10,
   "metadata": {},
   "outputs": [
    {
     "data": {
      "text/plain": [
       "(1.6466121098225726, 0.099637799747829478)"
      ]
     },
     "execution_count": 10,
     "metadata": {},
     "output_type": "execute_result"
    }
   ],
   "source": [
    "import statsmodels.stats.proportion\n",
    "statsmodels.stats.proportion.proportions_ztest(clicking_visitors, all_visitors, value=p_hypo)"
   ]
  },
  {
   "cell_type": "markdown",
   "metadata": {},
   "source": [
    "The above uses `p_hat` to . Alternatively we could use `p_hypo`."
   ]
  },
  {
   "cell_type": "code",
   "execution_count": 11,
   "metadata": {},
   "outputs": [
    {
     "data": {
      "text/plain": [
       "(1.6443843832875589, 0.10009682885123183)"
      ]
     },
     "execution_count": 11,
     "metadata": {},
     "output_type": "execute_result"
    }
   ],
   "source": [
    "p_hypo = 0.5\n",
    "single_proportion_ztest(x, n, p_hypo=p_hypo, prop_var=p_hypo, one_side=False)"
   ]
  },
  {
   "cell_type": "markdown",
   "metadata": {},
   "source": [
    "Equivalently using the statsmodels package."
   ]
  },
  {
   "cell_type": "code",
   "execution_count": 12,
   "metadata": {},
   "outputs": [
    {
     "data": {
      "text/plain": [
       "(1.6443843832875589, 0.10009682885123182)"
      ]
     },
     "execution_count": 12,
     "metadata": {},
     "output_type": "execute_result"
    }
   ],
   "source": [
    "import statsmodels.stats.proportion\n",
    "statsmodels.stats.proportion.proportions_ztest(clicking_visitors, all_visitors, value=p_hypo, prop_var=p_hypo)"
   ]
  },
  {
   "cell_type": "markdown",
   "metadata": {},
   "source": [
    "Check one-side case:"
   ]
  },
  {
   "cell_type": "code",
   "execution_count": 13,
   "metadata": {},
   "outputs": [
    {
     "data": {
      "text/plain": [
       "(1.6466121098225726, 0.049818899873914746)"
      ]
     },
     "execution_count": 13,
     "metadata": {},
     "output_type": "execute_result"
    }
   ],
   "source": [
    "single_proportion_ztest(x, n, p_hypo=p_hypo, one_side=True)"
   ]
  },
  {
   "cell_type": "code",
   "execution_count": 14,
   "metadata": {},
   "outputs": [
    {
     "data": {
      "text/plain": [
       "(1.6466121098225726, 0.049818899873914739)"
      ]
     },
     "execution_count": 14,
     "metadata": {},
     "output_type": "execute_result"
    }
   ],
   "source": [
    "statsmodels.stats.proportion.proportions_ztest(clicking_visitors, all_visitors, value=p_hypo, alternative='larger')"
   ]
  },
  {
   "cell_type": "markdown",
   "metadata": {},
   "source": [
    "**R**\n",
    "```r\n",
    "> clicking_visitors <- 526\n",
    "> all_visitors <- 1000\n",
    "> x <- clicking_visitors\n",
    "> n <- all_visitors\n",
    "> p_hypo <- 0.5\n",
    "> p_hat <- x/n\n",
    "> one_side <- FALSE\n",
    "> prop_var <- p_hat\n",
    "> standard_error <- sqrt(prop_var*(1-prop_var)/n)\n",
    "> z = (p_hat-p_hypo)/standard_error\n",
    "> p_value <- 1 - pnorm(abs(z))\n",
    "> if (!one_side){\n",
    "+   p_value = 2*p_value\n",
    "+ }\n",
    "> c(z, p_value)\n",
    "[1] 1.6466121 0.0996378\n",
    "```\n",
    "\n",
    "Make into a function:\n",
    "```r\n",
    "> single_proportion_ztest <- function(x, n, p_hypo=0.5, prop_var=NULL, one_side=FALSE) {\n",
    "+   x <- clicking_visitors\n",
    "+   n <- all_visitors\n",
    "+   p_hypo <- 0.5\n",
    "+   p_hat <- x/n\n",
    "+   if (is.null(prop_var))\n",
    "+     prop_var <- p_hat\n",
    "+   standard_error <- sqrt(prop_var*(1-prop_var)/n)\n",
    "+   z = (p_hat-p_hypo)/standard_error\n",
    "+   p_value <- 1 - pnorm(abs(z))\n",
    "+   if (!one_side)\n",
    "+     p_value = 2*p_value\n",
    "+   return(c(z, p_value))\n",
    "+ }\n",
    "> clicking_visitors <- 526\n",
    "> all_visitors <- 1000\n",
    "> single_proportion_ztest(x=clicking_visitors, n=all_visitors, p_hypo=p_hypo, one_side=FALSE)\n",
    "[1] 1.6466121 0.0996378\n",
    "> single_proportion_ztest(x=clicking_visitors, n=all_visitors, p_hypo=p_hypo, prop_var=p_hypo, one_side=FALSE)\n",
    "[1] 1.6443844 0.1000968\n",
    "> single_proportion_ztest(x=clicking_visitors, n=all_visitors, p_hypo=p_hypo, one_side=TRUE)\n",
    "[1] 1.6466121 0.0498189\n",
    "```\n",
    "\n",
    "###### prop-test\n",
    "```r\n",
    "> clicking_visitors <- 526\n",
    "> all_visitors <- 1000\n",
    "> prop.test(x=clicking_visitors, n=all_visitors, p=0.5)\n",
    "\n",
    "\t1-sample proportions test with continuity correction\n",
    "\n",
    "data:  clicking_visitors out of all_visitors, null probability 0.5\n",
    "X-squared = 2.601, df = 1, p-value = 0.1068\n",
    "alternative hypothesis: true p is not equal to 0.5\n",
    "95 percent confidence interval:\n",
    " 0.4945121 0.5572857\n",
    "sample estimates:\n",
    "    p\n",
    "0.526\n",
    "```\n",
    "\n",
    "#### AB test\n",
    "Given:\n",
    "- 435 out of 1025 clicked in A;\n",
    "- 438 out of 998 clicked in B;\n",
    "\n",
    "how confidently do you when you say that click rates are about the same?\n",
    "\n",
    "##### Python"
   ]
  },
  {
   "cell_type": "code",
   "execution_count": 15,
   "metadata": {},
   "outputs": [
    {
     "data": {
      "text/plain": [
       "(-0.65775309403384319, 0.51069679938649315)"
      ]
     },
     "execution_count": 15,
     "metadata": {},
     "output_type": "execute_result"
    }
   ],
   "source": [
    "import statsmodels.stats.proportion\n",
    "statsmodels.stats.proportion.proportions_ztest([435, 438], [1025, 998])"
   ]
  },
  {
   "cell_type": "markdown",
   "metadata": {},
   "source": [
    "##### R\n",
    "```R\n",
    "> clicking_visitors <- c(435, 418)\n",
    "> all_visitors <- c(1025, 998)\n",
    "> prop.test(clicking_visitors, all_visitors)\n",
    "\n",
    "\t2-sample test for equality of proportions\n",
    "\twith continuity correction\n",
    "\n",
    "data:  clicking_visitors out of all_visitors\n",
    "X-squared = 0.043188, df = 1, p-value =\n",
    "0.8354\n",
    "alternative hypothesis: two.sided\n",
    "95 percent confidence interval:\n",
    " -0.03847633  0.04958147\n",
    "sample estimates:\n",
    "   prop 1    prop 2\n",
    "0.4243902 0.4188377\n",
    "```\n",
    "\n",
    "\n",
    "\n",
    "#### ABC test\n",
    "- 435 out of 1025 clicked in A;\n",
    "- 418 out of 998 clicked in B;  \n",
    "- 412 out of 990 clicked in C;\n",
    "\n",
    "How confidently do you say that click rates are about the same?\n",
    "\n",
    "```R\n",
    "> clicking_visitors <- c(435, 418, 412)\n",
    "> all_visitors <- c(1025, 998, 990)\n",
    "> prop.test(clicking_visitors, all_visitors)\n",
    "\n",
    "\t3-sample test for equality of proportions without continuity\n",
    "\tcorrection\n",
    "\n",
    "data:  clicking_visitors out of all_visitors\n",
    "X-squared = 0.14624, df = 2, p-value = 0.9295\n",
    "alternative hypothesis: two.sided\n",
    "sample estimates:\n",
    "   prop 1    prop 2    prop 3\n",
    "0.4243902 0.4188377 0.4161616\n",
    "```\n",
    "### Multiple proportions\n",
    "\n",
    "#### A test\n",
    "A: 243 from USA; 98 from UK; 65 from DE.\n",
    "\n",
    "I don't know what question I may have yet.\n",
    "\n",
    "#### AB test\n",
    "Given:\n",
    "- A: 243 from USA; 98 from UK; 65 from DE;\n",
    "- B: 235 from USA; 97 from UK; 59 from DE;\n",
    "\n",
    "is the test done properly in terms of testing in similar environments?\n",
    "\n",
    "#### ABC test\n",
    "Given:\n",
    "- A: 243 from USA; 98 from UK; 65 from DE;\n",
    "- B: 235 from USA; 97 from UK; 59 from DE;\n",
    "- C: 229 from USA; 90 from UK; 67 from DE;\n",
    "\n",
    "is the test done properly in terms of testing in similar environments?\n",
    "\n",
    "\n",
    "## Tests of means\n",
    "\n",
    "#### A test\n",
    "Given money spent from 1000 customers, is the averge money spent $50?\n",
    "\n",
    "#### AB test\n",
    "Given:\n",
    "- money spent from 1000 customers in A;\n",
    "- money spent from 990 customers in B;\n",
    "\n",
    "is the averge money spent about the same for A and B?\n",
    "\n",
    "#### ABC test\n",
    "Given:\n",
    "- money spent from 1000 customers in A;\n",
    "- money spent from 990 customers in B;\n",
    "- money spent from 1012 customers in C;\n",
    "\n",
    "is the averge money spent about the same for A, B, and C?\n",
    "\n",
    "\n",
    "[R Code](https://github.com/yang-zhang/yang-zhang.github.io/blob/master/stat/stat_tests_python_r.r)\n",
    "\n",
    "References:\n",
    "- http://www.springer.com/us/book/9780387790534\n",
    "- https://www.r-bloggers.com/one-proportion-z-test-in-r/\n",
    "- http://knowledgetack.com/python/statsmodels/proportions_ztest/\n",
    "- https://github.com/yang-zhang/ds-math/blob/master/correlating_data_python_r.ipynb\n",
    "\n",
    "[Home](https://yang-zhang.github.io/)"
   ]
  }
 ],
 "metadata": {
  "kernelspec": {
   "display_name": "Python 3",
   "language": "python",
   "name": "python3"
  },
  "language_info": {
   "codemirror_mode": {
    "name": "ipython",
    "version": 3
   },
   "file_extension": ".py",
   "mimetype": "text/x-python",
   "name": "python",
   "nbconvert_exporter": "python",
   "pygments_lexer": "ipython3",
   "version": "3.6.1"
  },
  "toc": {
   "nav_menu": {
    "height": "272px",
    "width": "252px"
   },
   "number_sections": true,
   "sideBar": true,
   "skip_h1_title": false,
   "toc_cell": true,
   "toc_position": {},
   "toc_section_display": "block",
   "toc_window_display": false
  }
 },
 "nbformat": 4,
 "nbformat_minor": 2
}
