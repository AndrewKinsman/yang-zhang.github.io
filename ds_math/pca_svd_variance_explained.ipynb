{
 "cells": [
  {
   "cell_type": "markdown",
   "metadata": {},
   "source": [
    "http://scikit-learn.org/stable/modules/generated/sklearn.decomposition.PCA.html"
   ]
  },
  {
   "cell_type": "markdown",
   "metadata": {},
   "source": [
    "explained_variance_ : array, shape (n_components,)\n",
    "\n",
    "The variance of the training samples transformed by a projection to each component.\n",
    "\n",
    "explained_variance_ratio_ : array, shape (n_components,)\n",
    "\n",
    "Percentage of variance explained by each of the selected components."
   ]
  },
  {
   "cell_type": "code",
   "execution_count": 5,
   "metadata": {
    "scrolled": true
   },
   "outputs": [
    {
     "data": {
      "text/plain": [
       "array([[0.51, 0.95, 0.86, 0.34, 0.96, 0.18, 0.5 , 0.88],\n",
       "       [0.86, 0.91, 0.83, 0.24, 0.14, 0.58, 0.07, 0.13],\n",
       "       [0.12, 0.56, 0.61, 0.53, 0.31, 0.03, 0.74, 0.24],\n",
       "       [0.62, 0.17, 0.69, 0.49, 0.6 , 0.59, 0.77, 0.21],\n",
       "       [0.91, 0.2 , 0.53, 0.71, 0.2 , 0.35, 0.89, 0.68]])"
      ]
     },
     "execution_count": 5,
     "metadata": {},
     "output_type": "execute_result"
    }
   ],
   "source": [
    "import numpy as np\n",
    "import pandas as pd\n",
    "from numpy.linalg import svd\n",
    "from sklearn.decomposition import PCA\n",
    "from sklearn.decomposition import TruncatedSVD\n",
    "\n",
    "X = np.random.random((5, 8))\n",
    "X.round(2)"
   ]
  },
  {
   "cell_type": "code",
   "execution_count": 6,
   "metadata": {},
   "outputs": [],
   "source": [
    "k = 5"
   ]
  },
  {
   "cell_type": "markdown",
   "metadata": {},
   "source": [
    "## SVD"
   ]
  },
  {
   "cell_type": "code",
   "execution_count": 7,
   "metadata": {
    "scrolled": false
   },
   "outputs": [
    {
     "data": {
      "text/plain": [
       "array([0.6 , 0.56, 0.7 , 0.46, 0.44, 0.35, 0.59, 0.43])"
      ]
     },
     "execution_count": 7,
     "metadata": {},
     "output_type": "execute_result"
    }
   ],
   "source": [
    "X.mean(0).round(2)"
   ]
  },
  {
   "cell_type": "code",
   "execution_count": 8,
   "metadata": {
    "scrolled": true
   },
   "outputs": [
    {
     "data": {
      "text/plain": [
       "array([[-0.09,  0.39,  0.16, -0.12,  0.52, -0.17, -0.09,  0.45],\n",
       "       [ 0.25,  0.36,  0.13, -0.23, -0.3 ,  0.23, -0.52, -0.3 ],\n",
       "       [-0.49, -0.  , -0.1 ,  0.07, -0.13, -0.31,  0.14, -0.19],\n",
       "       [ 0.02, -0.39, -0.02,  0.03,  0.16,  0.24,  0.17, -0.22],\n",
       "       [ 0.31, -0.36, -0.17,  0.25, -0.24,  0.  ,  0.3 ,  0.25]])"
      ]
     },
     "execution_count": 8,
     "metadata": {},
     "output_type": "execute_result"
    }
   ],
   "source": [
    "X_0mean = X - X.mean(0)\n",
    "X_0mean.round(2)"
   ]
  },
  {
   "cell_type": "code",
   "execution_count": 9,
   "metadata": {},
   "outputs": [],
   "source": [
    "U, s, Vh = svd(X_0mean, full_matrices=False) "
   ]
  },
  {
   "cell_type": "markdown",
   "metadata": {},
   "source": [
    "## PCA"
   ]
  },
  {
   "cell_type": "code",
   "execution_count": 11,
   "metadata": {},
   "outputs": [],
   "source": [
    "pca = PCA(n_components=k)\n",
    "pca.fit(X)\n",
    "X_transformed = pca.transform(X)"
   ]
  },
  {
   "cell_type": "code",
   "execution_count": 13,
   "metadata": {
    "scrolled": false
   },
   "outputs": [
    {
     "data": {
      "text/plain": [
       "(array([1.04, 0.94, 0.72, 0.51, 0.  ]), array([1.04, 0.94, 0.72, 0.51, 0.  ]))"
      ]
     },
     "execution_count": 13,
     "metadata": {},
     "output_type": "execute_result"
    }
   ],
   "source": [
    "s.round(2), pca.singular_values_.round(2)"
   ]
  },
  {
   "cell_type": "markdown",
   "metadata": {},
   "source": [
    "## Explained variance"
   ]
  },
  {
   "cell_type": "code",
   "execution_count": 14,
   "metadata": {},
   "outputs": [
    {
     "data": {
      "text/plain": [
       "array([0.27, 0.22, 0.13, 0.07, 0.  ])"
      ]
     },
     "execution_count": 14,
     "metadata": {},
     "output_type": "execute_result"
    }
   ],
   "source": [
    "pca.explained_variance_.round(2)"
   ]
  },
  {
   "cell_type": "code",
   "execution_count": 15,
   "metadata": {},
   "outputs": [],
   "source": [
    "n_sample = X.shape[0]"
   ]
  },
  {
   "cell_type": "code",
   "execution_count": 16,
   "metadata": {},
   "outputs": [
    {
     "data": {
      "text/plain": [
       "array([0.27, 0.22, 0.13, 0.07, 0.  ])"
      ]
     },
     "execution_count": 16,
     "metadata": {},
     "output_type": "execute_result"
    }
   ],
   "source": [
    "# https://github.com/scikit-learn/scikit-learn/blob/master/sklearn/decomposition/pca.py\n",
    "(s**2/(n_sample-1)).round(2)"
   ]
  },
  {
   "cell_type": "code",
   "execution_count": 17,
   "metadata": {
    "scrolled": true
   },
   "outputs": [
    {
     "data": {
      "text/plain": [
       "array([0.27, 0.22, 0.13, 0.07, 0.  ])"
      ]
     },
     "execution_count": 17,
     "metadata": {},
     "output_type": "execute_result"
    }
   ],
   "source": [
    "np.array([(X_transformed[:, i]**2).sum()/(n_sample-1) for i in range(k)]).round(2)"
   ]
  },
  {
   "cell_type": "code",
   "execution_count": 32,
   "metadata": {
    "scrolled": true
   },
   "outputs": [
    {
     "data": {
      "text/plain": [
       "array([0.27, 0.22, 0.13, 0.07, 0.  ])"
      ]
     },
     "execution_count": 32,
     "metadata": {},
     "output_type": "execute_result"
    }
   ],
   "source": [
    "total_var = (X_0mean**2).sum()/(n_sample-1)\n",
    "vs = []\n",
    "for i in range(k):\n",
    "    Xi = U[:,i].reshape(-1, 1)*s[i]@Vh[i].reshape(1, -1)\n",
    "    var_i = (Xi**2).sum()/(n_sample-1)\n",
    "    vs.append(var_i)\n",
    "np.array(vs).round(2)"
   ]
  },
  {
   "cell_type": "markdown",
   "metadata": {},
   "source": [
    "## Explained variance ratio"
   ]
  },
  {
   "cell_type": "code",
   "execution_count": 33,
   "metadata": {
    "scrolled": true
   },
   "outputs": [
    {
     "data": {
      "text/plain": [
       "(array([0.39, 0.32, 0.19, 0.1 , 0.  ]),\n",
       " array([0.39, 0.32, 0.19, 0.1 , 0.  ]),\n",
       " array([0.39, 0.32, 0.19, 0.1 , 0.  ]))"
      ]
     },
     "execution_count": 33,
     "metadata": {},
     "output_type": "execute_result"
    }
   ],
   "source": [
    "(\n",
    "    pca.explained_variance_ratio_.round(2), \n",
    "    np.array([pca.explained_variance_[i]/pca.explained_variance_.sum() for i in range(k)]).round(2),\n",
    "    np.array([s[i]**2 / sum(s**2) for i in range(k)]).round(2)\n",
    ")"
   ]
  },
  {
   "cell_type": "code",
   "execution_count": 34,
   "metadata": {
    "scrolled": true
   },
   "outputs": [
    {
     "data": {
      "text/plain": [
       "array([0.39, 0.32, 0.19, 0.1 , 0.  ])"
      ]
     },
     "execution_count": 34,
     "metadata": {},
     "output_type": "execute_result"
    }
   ],
   "source": [
    "total_var = (X_0mean**2).sum()/(n_sample-1)\n",
    "rs = []\n",
    "for i in range(k):\n",
    "    Xi = U[:,i].reshape(-1, 1)*s[i]@Vh[i].reshape(1, -1)\n",
    "    var_i = (Xi**2).sum()/(n_sample-1)\n",
    "    rs.append(var_i/total_var)\n",
    "np.array(rs).round(2)"
   ]
  },
  {
   "cell_type": "markdown",
   "metadata": {},
   "source": [
    "## Cummulative explained variance ratio"
   ]
  },
  {
   "cell_type": "code",
   "execution_count": 38,
   "metadata": {
    "scrolled": false
   },
   "outputs": [
    {
     "data": {
      "text/plain": [
       "array([0.39, 0.72, 0.9 , 1.  , 1.  ])"
      ]
     },
     "execution_count": 38,
     "metadata": {},
     "output_type": "execute_result"
    }
   ],
   "source": [
    "np.array([pca.explained_variance_ratio_[:i].sum() for i in range(1, k+1)]).round(2)"
   ]
  },
  {
   "cell_type": "code",
   "execution_count": 39,
   "metadata": {
    "scrolled": true
   },
   "outputs": [
    {
     "data": {
      "text/plain": [
       "array([0.39, 0.72, 0.9 , 1.  , 1.  ])"
      ]
     },
     "execution_count": 39,
     "metadata": {},
     "output_type": "execute_result"
    }
   ],
   "source": [
    "np.array([pca.explained_variance_[:i].sum()/pca.explained_variance_.sum() for i in range(1, k+1)]).round(2)"
   ]
  },
  {
   "cell_type": "code",
   "execution_count": 40,
   "metadata": {
    "scrolled": true
   },
   "outputs": [
    {
     "data": {
      "text/plain": [
       "array([0.39, 0.72, 0.9 , 1.  , 1.  ])"
      ]
     },
     "execution_count": 40,
     "metadata": {},
     "output_type": "execute_result"
    }
   ],
   "source": [
    "total_sq = (X_0mean**2).sum()\n",
    "rs = []\n",
    "for i in range(1, k+1):\n",
    "    Xi = U[:,:i]*s[:i]@Vh[:i]\n",
    "    rs.append(((Xi**2).sum()/total_sq))\n",
    "np.array(rs).round(2)"
   ]
  },
  {
   "cell_type": "code",
   "execution_count": null,
   "metadata": {},
   "outputs": [],
   "source": []
  },
  {
   "cell_type": "code",
   "execution_count": null,
   "metadata": {},
   "outputs": [],
   "source": []
  },
  {
   "cell_type": "code",
   "execution_count": null,
   "metadata": {},
   "outputs": [],
   "source": []
  },
  {
   "cell_type": "code",
   "execution_count": null,
   "metadata": {},
   "outputs": [],
   "source": []
  }
 ],
 "metadata": {
  "kernelspec": {
   "display_name": "Python 3",
   "language": "python",
   "name": "python3"
  },
  "language_info": {
   "codemirror_mode": {
    "name": "ipython",
    "version": 3
   },
   "file_extension": ".py",
   "mimetype": "text/x-python",
   "name": "python",
   "nbconvert_exporter": "python",
   "pygments_lexer": "ipython3",
   "version": "3.6.5"
  },
  "toc": {
   "base_numbering": 1,
   "nav_menu": {},
   "number_sections": true,
   "sideBar": true,
   "skip_h1_title": false,
   "title_cell": "Table of Contents",
   "title_sidebar": "Contents",
   "toc_cell": false,
   "toc_position": {},
   "toc_section_display": true,
   "toc_window_display": false
  }
 },
 "nbformat": 4,
 "nbformat_minor": 2
}
