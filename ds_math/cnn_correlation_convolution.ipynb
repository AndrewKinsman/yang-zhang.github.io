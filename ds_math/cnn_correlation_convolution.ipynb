{
 "cells": [
  {
   "cell_type": "markdown",
   "metadata": {},
   "source": [
    "# Why \"convolutional\" in CNN's name?"
   ]
  },
  {
   "cell_type": "code",
   "execution_count": 131,
   "metadata": {
    "collapsed": true
   },
   "outputs": [],
   "source": [
    "import numpy as np\n",
    "from scipy.ndimage.filters import correlate, convolve"
   ]
  },
  {
   "cell_type": "markdown",
   "metadata": {},
   "source": [
    "## How does `correlate` work"
   ]
  },
  {
   "cell_type": "markdown",
   "metadata": {},
   "source": [
    "### 1d"
   ]
  },
  {
   "cell_type": "code",
   "execution_count": 32,
   "metadata": {},
   "outputs": [
    {
     "data": {
      "text/plain": [
       "array([3, 2, 2, 0, 2, 2, 0, 2, 3, 4])"
      ]
     },
     "execution_count": 32,
     "metadata": {},
     "output_type": "execute_result"
    }
   ],
   "source": [
    "a = np.random.randint(5, size=10)\n",
    "a"
   ]
  },
  {
   "cell_type": "code",
   "execution_count": 33,
   "metadata": {
    "collapsed": true
   },
   "outputs": [],
   "source": [
    "f = [2, 1]"
   ]
  },
  {
   "cell_type": "code",
   "execution_count": 36,
   "metadata": {
    "scrolled": true
   },
   "outputs": [
    {
     "data": {
      "text/plain": [
       "array([ 3,  8,  6,  4,  2,  6,  4,  2,  7, 10])"
      ]
     },
     "execution_count": 36,
     "metadata": {},
     "output_type": "execute_result"
    }
   ],
   "source": [
    "correlate(a, f, mode='constant', cval=0.0)"
   ]
  },
  {
   "cell_type": "code",
   "execution_count": 38,
   "metadata": {},
   "outputs": [
    {
     "name": "stdout",
     "output_type": "stream",
     "text": [
      "8\n",
      "6\n",
      "4\n",
      "2\n",
      "6\n",
      "4\n",
      "2\n",
      "7\n",
      "10\n"
     ]
    }
   ],
   "source": [
    "for i in range(len(a)-1):\n",
    "    print(a[i]*f[0] + a[i+1]*f[1])"
   ]
  },
  {
   "cell_type": "markdown",
   "metadata": {},
   "source": [
    "### 2d"
   ]
  },
  {
   "cell_type": "code",
   "execution_count": 92,
   "metadata": {
    "scrolled": true
   },
   "outputs": [
    {
     "data": {
      "text/plain": [
       "array([[9, 8, 1, 4, 4, 6],\n",
       "       [7, 8, 8, 6, 8, 3],\n",
       "       [0, 9, 0, 9, 1, 2],\n",
       "       [4, 6, 8, 2, 4, 0],\n",
       "       [3, 2, 1, 9, 5, 5],\n",
       "       [1, 3, 0, 8, 9, 9]])"
      ]
     },
     "execution_count": 92,
     "metadata": {},
     "output_type": "execute_result"
    }
   ],
   "source": [
    "a = np.random.randint(10, size=36).reshape(6, -1)\n",
    "a"
   ]
  },
  {
   "cell_type": "code",
   "execution_count": 93,
   "metadata": {
    "scrolled": true
   },
   "outputs": [
    {
     "data": {
      "text/plain": [
       "array([[2, 2, 2],\n",
       "       [2, 0, 0],\n",
       "       [0, 2, 0]])"
      ]
     },
     "execution_count": 93,
     "metadata": {},
     "output_type": "execute_result"
    }
   ],
   "source": [
    "f = np.random.randint(3, size=9).reshape(3, -1)\n",
    "f"
   ]
  },
  {
   "cell_type": "code",
   "execution_count": 94,
   "metadata": {
    "scrolled": true
   },
   "outputs": [
    {
     "data": {
      "text/plain": [
       "array([[14, 34, 32, 14, 24, 14],\n",
       "       [34, 68, 42, 52, 42, 40],\n",
       "       [38, 58, 78, 48, 60, 24],\n",
       "       [24, 30, 50, 54, 38, 24],\n",
       "       [22, 48, 36, 46, 48, 36],\n",
       "       [10, 14, 30, 30, 54, 38]])"
      ]
     },
     "execution_count": 94,
     "metadata": {},
     "output_type": "execute_result"
    }
   ],
   "source": [
    "correlate(a, f, mode='constant', cval=0.0)"
   ]
  },
  {
   "cell_type": "code",
   "execution_count": 95,
   "metadata": {},
   "outputs": [
    {
     "name": "stdout",
     "output_type": "stream",
     "text": [
      "[68, 42, 52, 42]\n",
      "[58, 78, 48, 60]\n",
      "[30, 50, 54, 38]\n",
      "[48, 36, 46, 48]\n"
     ]
    }
   ],
   "source": [
    "for i in range(1, a.shape[0]-1):\n",
    "    rslt = []\n",
    "    for j in range(1, a.shape[1]-1):\n",
    "        rslt.append((a[i-1:i+2, j-1:j+2] * f).sum())\n",
    "    print(rslt)"
   ]
  },
  {
   "cell_type": "markdown",
   "metadata": {},
   "source": [
    "## How does `convolve` work"
   ]
  },
  {
   "cell_type": "markdown",
   "metadata": {},
   "source": [
    "### 1d"
   ]
  },
  {
   "cell_type": "code",
   "execution_count": 96,
   "metadata": {},
   "outputs": [
    {
     "data": {
      "text/plain": [
       "array([2, 4, 0, 0, 3, 4, 0, 3, 1, 0])"
      ]
     },
     "execution_count": 96,
     "metadata": {},
     "output_type": "execute_result"
    }
   ],
   "source": [
    "a = np.random.randint(5, size=10)\n",
    "a"
   ]
  },
  {
   "cell_type": "code",
   "execution_count": 97,
   "metadata": {
    "collapsed": true
   },
   "outputs": [],
   "source": [
    "f = [2, 1]"
   ]
  },
  {
   "cell_type": "code",
   "execution_count": 98,
   "metadata": {
    "scrolled": true
   },
   "outputs": [
    {
     "data": {
      "text/plain": [
       "array([10,  4,  0,  6, 11,  4,  6,  5,  1,  0])"
      ]
     },
     "execution_count": 98,
     "metadata": {},
     "output_type": "execute_result"
    }
   ],
   "source": [
    "convolve(a, f, mode='constant', cval=0.0)"
   ]
  },
  {
   "cell_type": "code",
   "execution_count": 99,
   "metadata": {},
   "outputs": [
    {
     "name": "stdout",
     "output_type": "stream",
     "text": [
      "[10, 4, 0, 6, 11, 4, 6, 5, 1]\n"
     ]
    }
   ],
   "source": [
    "rslt = []\n",
    "for i in range(len(a)-1):\n",
    "    rslt.append(a[i]*f[1] + a[i+1]*f[0])\n",
    "print(rslt)"
   ]
  },
  {
   "cell_type": "markdown",
   "metadata": {},
   "source": [
    "### 2d"
   ]
  },
  {
   "cell_type": "code",
   "execution_count": 118,
   "metadata": {},
   "outputs": [
    {
     "data": {
      "text/plain": [
       "array([[1, 2, 0, 0],\n",
       "       [5, 3, 0, 4],\n",
       "       [0, 0, 0, 7],\n",
       "       [9, 3, 0, 0]])"
      ]
     },
     "execution_count": 118,
     "metadata": {},
     "output_type": "execute_result"
    }
   ],
   "source": [
    "a = np.array([[1, 2, 0, 0],\n",
    "             [5, 3, 0, 4],\n",
    "             [0, 0, 0, 7],\n",
    "             [9, 3, 0, 0]])\n",
    "a"
   ]
  },
  {
   "cell_type": "code",
   "execution_count": 125,
   "metadata": {},
   "outputs": [
    {
     "data": {
      "text/plain": [
       "array([[0, 0, 0],\n",
       "       [1, 1, 0],\n",
       "       [0, 0, 0]])"
      ]
     },
     "execution_count": 125,
     "metadata": {},
     "output_type": "execute_result"
    }
   ],
   "source": [
    "k = np.array([[0,0,0],[1,1,0],[0,0,0]])\n",
    "k"
   ]
  },
  {
   "cell_type": "code",
   "execution_count": 126,
   "metadata": {},
   "outputs": [
    {
     "data": {
      "text/plain": [
       "array([[ 3,  2,  0,  0],\n",
       "       [ 8,  3,  4,  4],\n",
       "       [ 0,  0,  7,  7],\n",
       "       [12,  3,  0,  0]])"
      ]
     },
     "execution_count": 126,
     "metadata": {},
     "output_type": "execute_result"
    }
   ],
   "source": [
    "from scipy import ndimage\n",
    "\n",
    "ndimage.convolve(a, k, mode='constant', cval=0.0)"
   ]
  },
  {
   "cell_type": "code",
   "execution_count": 75,
   "metadata": {},
   "outputs": [
    {
     "name": "stdout",
     "output_type": "stream",
     "text": [
      "[42, 46, 41, 38]\n",
      "[36, 39, 25, 40]\n",
      "[44, 50, 39, 39]\n",
      "[49, 45, 51, 46]\n"
     ]
    }
   ],
   "source": [
    "for i in range(1, a.shape[0]-1):\n",
    "    rslt = []\n",
    "    for j in range(1, a.shape[1]-1):\n",
    "        rslt.append((a[i-1:i+2, j-1:j+2] * f).sum())\n",
    "    print(rslt)"
   ]
  },
  {
   "cell_type": "code",
   "execution_count": 158,
   "metadata": {
    "scrolled": true
   },
   "outputs": [
    {
     "data": {
      "text/plain": [
       "array([[1, 3, 2, 6, 4, 2],\n",
       "       [8, 0, 7, 3, 9, 1],\n",
       "       [7, 1, 6, 0, 2, 7],\n",
       "       [7, 2, 4, 7, 1, 8],\n",
       "       [5, 6, 0, 4, 3, 6],\n",
       "       [7, 7, 1, 1, 9, 3]])"
      ]
     },
     "execution_count": 158,
     "metadata": {},
     "output_type": "execute_result"
    }
   ],
   "source": [
    "a = np.random.randint(10, size=36).reshape(6, -1)\n",
    "a"
   ]
  },
  {
   "cell_type": "code",
   "execution_count": 159,
   "metadata": {
    "scrolled": true
   },
   "outputs": [
    {
     "data": {
      "text/plain": [
       "array([[2, 0, 1],\n",
       "       [1, 1, 2],\n",
       "       [1, 0, 0]])"
      ]
     },
     "execution_count": 159,
     "metadata": {},
     "output_type": "execute_result"
    }
   ],
   "source": [
    "f = np.random.randint(3, size=9).reshape(3, -1)\n",
    "f"
   ]
  },
  {
   "cell_type": "code",
   "execution_count": 160,
   "metadata": {
    "scrolled": true
   },
   "outputs": [
    {
     "data": {
      "text/plain": [
       "array([[ 4, 29, 20, 39, 23, 19],\n",
       "       [13, 44, 17, 40, 32, 21],\n",
       "       [12, 43, 27, 29, 33, 12],\n",
       "       [22, 31, 29, 24, 46, 13],\n",
       "       [27, 29, 32, 27, 32, 21],\n",
       "       [20, 22, 20, 15, 20, 21]])"
      ]
     },
     "execution_count": 160,
     "metadata": {},
     "output_type": "execute_result"
    }
   ],
   "source": [
    "convolve(a, f, mode='constant', cval=0.0)"
   ]
  },
  {
   "cell_type": "code",
   "execution_count": 166,
   "metadata": {
    "scrolled": true
   },
   "outputs": [
    {
     "name": "stdout",
     "output_type": "stream",
     "text": [
      "[44, 17, 40, 32]\n",
      "[43, 27, 29, 33]\n",
      "[31, 29, 24, 46]\n",
      "[29, 32, 27, 32]\n"
     ]
    }
   ],
   "source": [
    "for i in range(1, a.shape[0]-1):\n",
    "    rslt = []\n",
    "    for j in range(1, a.shape[1]-1):\n",
    "        rslt.append(\n",
    "            a[i-1, j-1] * f[2, 2] +\\\n",
    "            a[i-1, j] * f[2, 1] + \\\n",
    "            a[i-1, j+1] * f[2, 0] + \\\n",
    "            a[i,j-1] * f[1, 2] +\\\n",
    "            a[i,j] * f[1, 1] +\\\n",
    "            a[i,j+1] * f[1, 0] +\\\n",
    "            a[i+1,j-1] * f[0, 2] +\\\n",
    "            a[i+1,j] * f[0, 1] +\\\n",
    "            a[i+1, j+1] * f[0, 0]\n",
    "        )\n",
    "    print(rslt)"
   ]
  },
  {
   "cell_type": "markdown",
   "metadata": {},
   "source": [
    "## How are correlation and convolution related"
   ]
  },
  {
   "cell_type": "code",
   "execution_count": 170,
   "metadata": {},
   "outputs": [
    {
     "data": {
      "text/plain": [
       "array([[0, 0, 1],\n",
       "       [2, 1, 1],\n",
       "       [1, 0, 2]])"
      ]
     },
     "execution_count": 170,
     "metadata": {},
     "output_type": "execute_result"
    }
   ],
   "source": [
    "f_rot180 = np.rot90(f, 2)\n",
    "f_rot180"
   ]
  },
  {
   "cell_type": "code",
   "execution_count": 169,
   "metadata": {},
   "outputs": [
    {
     "name": "stdout",
     "output_type": "stream",
     "text": [
      "[44, 17, 40, 32]\n",
      "[43, 27, 29, 33]\n",
      "[31, 29, 24, 46]\n",
      "[29, 32, 27, 32]\n"
     ]
    }
   ],
   "source": [
    "for i in range(1, a.shape[0]-1):\n",
    "    rslt = []\n",
    "    for j in range(1, a.shape[1]-1):\n",
    "        rslt.append((a[i-1:i+2, j-1:j+2] * f_rot180).sum())\n",
    "    print(rslt)"
   ]
  },
  {
   "cell_type": "markdown",
   "metadata": {},
   "source": [
    "- https://youtu.be/ACU-T9L4_lI?t=1724\n",
    "- http://setosa.io/ev/image-kernels/\n",
    "- https://github.com/fastai/courses/blob/master/deeplearning1/nbs/convolution-intro.ipynb\n",
    "- https://stackoverflow.com/questions/37969197/math-behind-scipy-ndimage-convolve"
   ]
  }
 ],
 "metadata": {
  "kernelspec": {
   "display_name": "Python 2",
   "language": "python",
   "name": "python2"
  },
  "language_info": {
   "codemirror_mode": {
    "name": "ipython",
    "version": 2
   },
   "file_extension": ".py",
   "mimetype": "text/x-python",
   "name": "python",
   "nbconvert_exporter": "python",
   "pygments_lexer": "ipython2",
   "version": "2.7.13"
  },
  "toc": {
   "nav_menu": {},
   "number_sections": true,
   "sideBar": true,
   "skip_h1_title": false,
   "toc_cell": false,
   "toc_position": {},
   "toc_section_display": "block",
   "toc_window_display": false
  }
 },
 "nbformat": 4,
 "nbformat_minor": 2
}
