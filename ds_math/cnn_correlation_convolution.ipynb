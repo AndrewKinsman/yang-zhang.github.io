{
 "cells": [
  {
   "cell_type": "markdown",
   "metadata": {},
   "source": [
    "# Convolutional Neural Networks Conv (CNN): Correlation or Convolution?"
   ]
  },
  {
   "cell_type": "markdown",
   "metadata": {
    "collapsed": true
   },
   "source": [
    "The name Convolutional Neural Networks (CNN) suggests that they use the convolution operation, but in the usual way to describe CNN, it is correlation that it's using. However convolution and correlation can be interchanged through a simple rotation operation. So the name Convolutional Neural Networks is also justified. This post demonstrates these in Python code examples. "
   ]
  },
  {
   "cell_type": "code",
   "execution_count": 49,
   "metadata": {
    "collapsed": true
   },
   "outputs": [],
   "source": [
    "import numpy as np\n",
    "from scipy.ndimage.filters import correlate, convolve"
   ]
  },
  {
   "cell_type": "markdown",
   "metadata": {},
   "source": [
    "## How does `correlation` work"
   ]
  },
  {
   "cell_type": "markdown",
   "metadata": {},
   "source": [
    "### 1d case"
   ]
  },
  {
   "cell_type": "markdown",
   "metadata": {},
   "source": [
    "First, randomly generate a vector: "
   ]
  },
  {
   "cell_type": "code",
   "execution_count": 12,
   "metadata": {},
   "outputs": [
    {
     "data": {
      "text/plain": [
       "array([4, 0, 2, 1, 3, 4, 0, 3, 4, 0])"
      ]
     },
     "execution_count": 12,
     "metadata": {},
     "output_type": "execute_result"
    }
   ],
   "source": [
    "a = np.random.randint(5, size=10)\n",
    "a"
   ]
  },
  {
   "cell_type": "markdown",
   "metadata": {},
   "source": [
    "Pick a kernal and do correlation:"
   ]
  },
  {
   "cell_type": "code",
   "execution_count": 13,
   "metadata": {},
   "outputs": [
    {
     "data": {
      "text/plain": [
       "array([ 4,  8,  2,  5,  5, 10,  8,  3, 10,  8])"
      ]
     },
     "execution_count": 13,
     "metadata": {},
     "output_type": "execute_result"
    }
   ],
   "source": [
    "f = [2, 1]\n",
    "\n",
    "correlate(a, f, mode='constant', cval=0.0)"
   ]
  },
  {
   "cell_type": "markdown",
   "metadata": {},
   "source": [
    "This is how it works under the hood:"
   ]
  },
  {
   "cell_type": "code",
   "execution_count": 14,
   "metadata": {
    "scrolled": false
   },
   "outputs": [
    {
     "data": {
      "text/plain": [
       "[8, 2, 5, 5, 10, 8, 3, 10, 8]"
      ]
     },
     "execution_count": 14,
     "metadata": {},
     "output_type": "execute_result"
    }
   ],
   "source": [
    "result = []\n",
    "for i in range(len(a)-1):\n",
    "    result.append(a[i]*f[0] + a[i+1]*f[1])\n",
    "result"
   ]
  },
  {
   "cell_type": "markdown",
   "metadata": {},
   "source": [
    "### 2d case"
   ]
  },
  {
   "cell_type": "markdown",
   "metadata": {},
   "source": [
    "First, randomly generate an array. We can think of this as a channel of an image."
   ]
  },
  {
   "cell_type": "code",
   "execution_count": 15,
   "metadata": {
    "scrolled": false
   },
   "outputs": [
    {
     "data": {
      "text/plain": [
       "array([[4, 6, 1, 4, 5, 3],\n",
       "       [9, 0, 7, 3, 3, 8],\n",
       "       [2, 6, 9, 3, 2, 0],\n",
       "       [7, 0, 4, 7, 4, 8],\n",
       "       [5, 3, 5, 0, 6, 0],\n",
       "       [9, 1, 0, 2, 4, 2]])"
      ]
     },
     "execution_count": 15,
     "metadata": {},
     "output_type": "execute_result"
    }
   ],
   "source": [
    "a = np.random.randint(10, size=36).reshape(6, -1)\n",
    "a"
   ]
  },
  {
   "cell_type": "markdown",
   "metadata": {},
   "source": [
    "Randomly pick a kernal and do correlation:"
   ]
  },
  {
   "cell_type": "code",
   "execution_count": 16,
   "metadata": {
    "scrolled": false
   },
   "outputs": [
    {
     "data": {
      "text/plain": [
       "array([[2, 2, 1],\n",
       "       [0, 2, 1],\n",
       "       [2, 2, 2]])"
      ]
     },
     "execution_count": 16,
     "metadata": {},
     "output_type": "execute_result"
    }
   ],
   "source": [
    "f = np.random.randint(3, size=9).reshape(3, -1)\n",
    "f"
   ]
  },
  {
   "cell_type": "code",
   "execution_count": 17,
   "metadata": {
    "scrolled": true
   },
   "outputs": [
    {
     "data": {
      "text/plain": [
       "array([[32, 45, 26, 39, 41, 28],\n",
       "       [48, 62, 71, 52, 45, 36],\n",
       "       [42, 68, 60, 61, 62, 46],\n",
       "       [40, 55, 64, 66, 38, 32],\n",
       "       [47, 49, 31, 44, 58, 36],\n",
       "       [32, 23, 18, 24, 22, 16]])"
      ]
     },
     "execution_count": 17,
     "metadata": {},
     "output_type": "execute_result"
    }
   ],
   "source": [
    "correlate(a, f, mode='constant', cval=0.0)"
   ]
  },
  {
   "cell_type": "markdown",
   "metadata": {},
   "source": [
    "This is how it works under the hood. We can see this is the usual way CNN is described."
   ]
  },
  {
   "cell_type": "code",
   "execution_count": 95,
   "metadata": {},
   "outputs": [
    {
     "name": "stdout",
     "output_type": "stream",
     "text": [
      "[68, 42, 52, 42]\n",
      "[58, 78, 48, 60]\n",
      "[30, 50, 54, 38]\n",
      "[48, 36, 46, 48]\n"
     ]
    }
   ],
   "source": [
    "for i in range(1, a.shape[0]-1):\n",
    "    rslt = []\n",
    "    for j in range(1, a.shape[1]-1):\n",
    "        rslt.append((a[i-1:i+2, j-1:j+2] * f).sum())\n",
    "    print(rslt)"
   ]
  },
  {
   "cell_type": "markdown",
   "metadata": {},
   "source": [
    "## How does `convolution` work"
   ]
  },
  {
   "cell_type": "markdown",
   "metadata": {},
   "source": [
    "### 1d case"
   ]
  },
  {
   "cell_type": "markdown",
   "metadata": {},
   "source": [
    "First, randomly generate a vector: "
   ]
  },
  {
   "cell_type": "code",
   "execution_count": 18,
   "metadata": {
    "scrolled": false
   },
   "outputs": [
    {
     "data": {
      "text/plain": [
       "array([2, 1, 3, 3, 1, 3, 2, 3, 4, 1])"
      ]
     },
     "execution_count": 18,
     "metadata": {},
     "output_type": "execute_result"
    }
   ],
   "source": [
    "a = np.random.randint(5, size=10)\n",
    "a"
   ]
  },
  {
   "cell_type": "markdown",
   "metadata": {},
   "source": [
    "Pick a kernal and do convolution:"
   ]
  },
  {
   "cell_type": "code",
   "execution_count": 20,
   "metadata": {},
   "outputs": [
    {
     "data": {
      "text/plain": [
       "array([ 4,  7,  9,  5,  7,  7,  8, 11,  6,  1])"
      ]
     },
     "execution_count": 20,
     "metadata": {},
     "output_type": "execute_result"
    }
   ],
   "source": [
    "f = [2, 1]\n",
    "\n",
    "convolve(a, f, mode='constant', cval=0.0)"
   ]
  },
  {
   "cell_type": "markdown",
   "metadata": {},
   "source": [
    "This is how it works under the hood:"
   ]
  },
  {
   "cell_type": "code",
   "execution_count": 99,
   "metadata": {},
   "outputs": [
    {
     "name": "stdout",
     "output_type": "stream",
     "text": [
      "[10, 4, 0, 6, 11, 4, 6, 5, 1]\n"
     ]
    }
   ],
   "source": [
    "rslt = []\n",
    "for i in range(len(a)-1):\n",
    "    rslt.append(a[i]*f[1] + a[i+1]*f[0])\n",
    "print(rslt)"
   ]
  },
  {
   "cell_type": "markdown",
   "metadata": {},
   "source": [
    "### 2d case"
   ]
  },
  {
   "cell_type": "markdown",
   "metadata": {},
   "source": [
    "First, randomly generate an array. We can think of this as a channel of an image."
   ]
  },
  {
   "cell_type": "code",
   "execution_count": 38,
   "metadata": {
    "scrolled": true
   },
   "outputs": [
    {
     "data": {
      "text/plain": [
       "array([[1, 9, 7, 8, 8, 2],\n",
       "       [6, 7, 7, 2, 8, 9],\n",
       "       [5, 2, 3, 7, 4, 8],\n",
       "       [1, 4, 3, 8, 5, 5],\n",
       "       [9, 5, 5, 3, 6, 4],\n",
       "       [2, 8, 9, 9, 9, 5]])"
      ]
     },
     "execution_count": 38,
     "metadata": {},
     "output_type": "execute_result"
    }
   ],
   "source": [
    "a = np.random.randint(10, size=36).reshape(6, -1)\n",
    "a"
   ]
  },
  {
   "cell_type": "markdown",
   "metadata": {},
   "source": [
    "Randomly pick a kernal and do convolution:"
   ]
  },
  {
   "cell_type": "code",
   "execution_count": 39,
   "metadata": {
    "scrolled": false
   },
   "outputs": [
    {
     "data": {
      "text/plain": [
       "array([[1, 1, 0],\n",
       "       [2, 1, 2],\n",
       "       [2, 0, 0]])"
      ]
     },
     "execution_count": 39,
     "metadata": {},
     "output_type": "execute_result"
    }
   ],
   "source": [
    "f = np.random.randint(3, size=9).reshape(3, -1)\n",
    "f"
   ]
  },
  {
   "cell_type": "code",
   "execution_count": 40,
   "metadata": {
    "scrolled": true
   },
   "outputs": [
    {
     "data": {
      "text/plain": [
       "array([[32, 39, 50, 48, 45, 27],\n",
       "       [45, 52, 51, 59, 46, 33],\n",
       "       [28, 39, 36, 50, 62, 21],\n",
       "       [27, 28, 49, 41, 57, 19],\n",
       "       [37, 56, 55, 53, 44, 21],\n",
       "       [28, 40, 49, 57, 45, 23]])"
      ]
     },
     "execution_count": 40,
     "metadata": {},
     "output_type": "execute_result"
    }
   ],
   "source": [
    "convolve(a, f, mode='constant', cval=0.0)"
   ]
  },
  {
   "cell_type": "markdown",
   "metadata": {},
   "source": [
    "This is how it works under the hood:"
   ]
  },
  {
   "cell_type": "code",
   "execution_count": 41,
   "metadata": {
    "scrolled": true
   },
   "outputs": [
    {
     "name": "stdout",
     "output_type": "stream",
     "text": [
      "[52, 51, 59, 46]\n",
      "[39, 36, 50, 62]\n",
      "[28, 49, 41, 57]\n",
      "[56, 55, 53, 44]\n"
     ]
    }
   ],
   "source": [
    "for i in range(1, a.shape[0]-1):\n",
    "    rslt = []\n",
    "    for j in range(1, a.shape[1]-1):\n",
    "        rslt.append(\n",
    "            a[i-1, j-1] * f[2, 2] +\\\n",
    "            a[i-1, j] * f[2, 1] + \\\n",
    "            a[i-1, j+1] * f[2, 0] + \\\n",
    "            a[i,j-1] * f[1, 2] +\\\n",
    "            a[i,j] * f[1, 1] +\\\n",
    "            a[i,j+1] * f[1, 0] +\\\n",
    "            a[i+1,j-1] * f[0, 2] +\\\n",
    "            a[i+1,j] * f[0, 1] +\\\n",
    "            a[i+1, j+1] * f[0, 0]\n",
    "        )\n",
    "    print(rslt)"
   ]
  },
  {
   "cell_type": "markdown",
   "metadata": {},
   "source": [
    "## How are correlation and convolution related"
   ]
  },
  {
   "cell_type": "markdown",
   "metadata": {},
   "source": [
    "In fact the two operations are related through a simple rotation operation of the kernal. This is why CNN can use \"Convolution\" in its name."
   ]
  },
  {
   "cell_type": "code",
   "execution_count": 45,
   "metadata": {
    "scrolled": true
   },
   "outputs": [
    {
     "data": {
      "text/plain": [
       "array([[0, 0, 2],\n",
       "       [2, 1, 2],\n",
       "       [0, 1, 1]])"
      ]
     },
     "execution_count": 45,
     "metadata": {},
     "output_type": "execute_result"
    }
   ],
   "source": [
    "f_rot180 = np.rot90(f, 2)\n",
    "f_rot180"
   ]
  },
  {
   "cell_type": "markdown",
   "metadata": {},
   "source": [
    "Compare the correlation result with that of the convolution above."
   ]
  },
  {
   "cell_type": "code",
   "execution_count": 47,
   "metadata": {},
   "outputs": [
    {
     "data": {
      "text/plain": [
       "array([[32, 39, 50, 48, 45, 27],\n",
       "       [45, 52, 51, 59, 46, 33],\n",
       "       [28, 39, 36, 50, 62, 21],\n",
       "       [27, 28, 49, 41, 57, 19],\n",
       "       [37, 56, 55, 53, 44, 21],\n",
       "       [28, 40, 49, 57, 45, 23]])"
      ]
     },
     "execution_count": 47,
     "metadata": {},
     "output_type": "execute_result"
    }
   ],
   "source": [
    "correlate(a, f_rot180, mode='constant', cval=0.0)"
   ]
  },
  {
   "cell_type": "markdown",
   "metadata": {},
   "source": [
    "Equivalently (correlation from scratch):"
   ]
  },
  {
   "cell_type": "code",
   "execution_count": 48,
   "metadata": {},
   "outputs": [
    {
     "name": "stdout",
     "output_type": "stream",
     "text": [
      "[52, 51, 59, 46]\n",
      "[39, 36, 50, 62]\n",
      "[28, 49, 41, 57]\n",
      "[56, 55, 53, 44]\n"
     ]
    }
   ],
   "source": [
    "for i in range(1, a.shape[0]-1):\n",
    "    rslt = []\n",
    "    for j in range(1, a.shape[1]-1):\n",
    "        rslt.append((a[i-1:i+2, j-1:j+2] * f_rot180).sum())\n",
    "    print(rslt)"
   ]
  },
  {
   "cell_type": "markdown",
   "metadata": {},
   "source": [
    "Further reading:\n",
    "- https://youtu.be/ACU-T9L4_lI?t=1724\n",
    "- http://setosa.io/ev/image-kernels/\n",
    "- https://github.com/fastai/courses/blob/master/deeplearning1/nbs/convolution-intro.ipynb\n",
    "- https://stackoverflow.com/questions/37969197/math-behind-scipy-ndimage-convolve"
   ]
  }
 ],
 "metadata": {
  "kernelspec": {
   "display_name": "Python 3",
   "language": "python",
   "name": "python3"
  },
  "language_info": {
   "codemirror_mode": {
    "name": "ipython",
    "version": 3
   },
   "file_extension": ".py",
   "mimetype": "text/x-python",
   "name": "python",
   "nbconvert_exporter": "python",
   "pygments_lexer": "ipython3",
   "version": "3.6.1"
  },
  "toc": {
   "nav_menu": {},
   "number_sections": true,
   "sideBar": true,
   "skip_h1_title": false,
   "toc_cell": false,
   "toc_position": {},
   "toc_section_display": "block",
   "toc_window_display": false
  }
 },
 "nbformat": 4,
 "nbformat_minor": 2
}
