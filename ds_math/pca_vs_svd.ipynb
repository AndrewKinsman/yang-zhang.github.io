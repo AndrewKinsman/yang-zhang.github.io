{
 "cells": [
  {
   "cell_type": "code",
   "execution_count": 31,
   "metadata": {
    "scrolled": true
   },
   "outputs": [
    {
     "data": {
      "text/plain": [
       "array([[0.9 , 0.06, 0.33, 0.6 , 0.21, 0.11, 0.92, 0.76],\n",
       "       [0.2 , 0.82, 0.26, 0.88, 0.92, 0.85, 0.34, 0.08],\n",
       "       [0.54, 0.74, 0.11, 0.03, 0.02, 0.55, 0.72, 0.87],\n",
       "       [0.68, 0.76, 0.71, 0.57, 0.45, 0.36, 0.31, 0.78],\n",
       "       [0.92, 0.81, 0.34, 0.47, 0.1 , 0.4 , 0.05, 0.7 ]])"
      ]
     },
     "execution_count": 31,
     "metadata": {},
     "output_type": "execute_result"
    }
   ],
   "source": [
    "import numpy as np\n",
    "import pandas as pd\n",
    "from numpy.linalg import svd\n",
    "from sklearn.decomposition import PCA\n",
    "from sklearn.decomposition import TruncatedSVD\n",
    "\n",
    "X = np.random.random((5, 8))\n",
    "X.round(2)"
   ]
  },
  {
   "cell_type": "markdown",
   "metadata": {},
   "source": [
    "## PCA"
   ]
  },
  {
   "cell_type": "code",
   "execution_count": 46,
   "metadata": {},
   "outputs": [
    {
     "data": {
      "text/plain": [
       "PCA(copy=True, iterated_power='auto', n_components=3, random_state=None,\n",
       "  svd_solver='auto', tol=0.0, whiten=False)"
      ]
     },
     "execution_count": 46,
     "metadata": {},
     "output_type": "execute_result"
    }
   ],
   "source": [
    "k = 3\n",
    "\n",
    "pca = PCA(n_components=k)\n",
    "pca.fit(X)"
   ]
  },
  {
   "cell_type": "markdown",
   "metadata": {},
   "source": [
    "## SVD"
   ]
  },
  {
   "cell_type": "code",
   "execution_count": 33,
   "metadata": {
    "scrolled": false
   },
   "outputs": [
    {
     "data": {
      "text/plain": [
       "array([0.65, 0.64, 0.35, 0.51, 0.34, 0.45, 0.47, 0.64])"
      ]
     },
     "execution_count": 33,
     "metadata": {},
     "output_type": "execute_result"
    }
   ],
   "source": [
    "X.mean(0).round(2)"
   ]
  },
  {
   "cell_type": "code",
   "execution_count": 34,
   "metadata": {
    "scrolled": true
   },
   "outputs": [
    {
     "data": {
      "text/plain": [
       "array([[ 0.26, -0.57, -0.02,  0.09, -0.13, -0.34,  0.45,  0.12],\n",
       "       [-0.45,  0.18, -0.09,  0.37,  0.58,  0.39, -0.12, -0.56],\n",
       "       [-0.11,  0.1 , -0.24, -0.48, -0.32,  0.09,  0.25,  0.23],\n",
       "       [ 0.03,  0.12,  0.36,  0.06,  0.11, -0.09, -0.16,  0.14],\n",
       "       [ 0.27,  0.17, -0.01, -0.04, -0.24, -0.05, -0.42,  0.06]])"
      ]
     },
     "execution_count": 34,
     "metadata": {},
     "output_type": "execute_result"
    }
   ],
   "source": [
    "X_0mean = X - X.mean(0)\n",
    "X_0mean.round(2)"
   ]
  },
  {
   "cell_type": "code",
   "execution_count": 35,
   "metadata": {},
   "outputs": [],
   "source": [
    "U, s, Vh = svd(X_0mean, full_matrices=False) "
   ]
  },
  {
   "cell_type": "markdown",
   "metadata": {},
   "source": [
    "## Compare SVD and PCA"
   ]
  },
  {
   "cell_type": "markdown",
   "metadata": {},
   "source": [
    "### singular values"
   ]
  },
  {
   "cell_type": "code",
   "execution_count": 36,
   "metadata": {
    "scrolled": true
   },
   "outputs": [
    {
     "data": {
      "text/plain": [
       "array([1.29, 0.84, 0.73])"
      ]
     },
     "execution_count": 36,
     "metadata": {},
     "output_type": "execute_result"
    }
   ],
   "source": [
    "pca.singular_values_.round(2)"
   ]
  },
  {
   "cell_type": "code",
   "execution_count": 37,
   "metadata": {},
   "outputs": [
    {
     "data": {
      "text/plain": [
       "array([1.29, 0.84, 0.73, 0.38, 0.  ])"
      ]
     },
     "execution_count": 37,
     "metadata": {},
     "output_type": "execute_result"
    }
   ],
   "source": [
    "s.round(2)"
   ]
  },
  {
   "cell_type": "markdown",
   "metadata": {},
   "source": [
    "### componets"
   ]
  },
  {
   "cell_type": "code",
   "execution_count": 38,
   "metadata": {
    "scrolled": true
   },
   "outputs": [
    {
     "data": {
      "text/plain": [
       "array([[-0.37,  0.29,  0.02,  0.32,  0.52,  0.35, -0.28, -0.45],\n",
       "       [-0.05, -0.61, -0.02,  0.38,  0.31, -0.17,  0.56, -0.21],\n",
       "       [-0.44,  0.09, -0.5 , -0.44, -0.1 ,  0.35,  0.48, -0.06]])"
      ]
     },
     "execution_count": 38,
     "metadata": {},
     "output_type": "execute_result"
    }
   ],
   "source": [
    "pca.components_.round(2)"
   ]
  },
  {
   "cell_type": "code",
   "execution_count": 39,
   "metadata": {
    "scrolled": false
   },
   "outputs": [
    {
     "data": {
      "text/plain": [
       "array([[ 0.37, -0.29, -0.02, -0.32, -0.52, -0.35,  0.28,  0.45],\n",
       "       [-0.05, -0.61, -0.02,  0.38,  0.31, -0.17,  0.56, -0.21],\n",
       "       [-0.44,  0.09, -0.5 , -0.44, -0.1 ,  0.35,  0.48, -0.06]])"
      ]
     },
     "execution_count": 39,
     "metadata": {},
     "output_type": "execute_result"
    }
   ],
   "source": [
    "Vh[:k].round(2)"
   ]
  },
  {
   "cell_type": "markdown",
   "metadata": {},
   "source": [
    "### transformed"
   ]
  },
  {
   "cell_type": "code",
   "execution_count": 40,
   "metadata": {},
   "outputs": [
    {
     "data": {
      "text/plain": [
       "array([[-0.6 ,  0.62, -0.09],\n",
       "       [ 1.06,  0.21,  0.15],\n",
       "       [-0.4 , -0.25,  0.56],\n",
       "       [ 0.05, -0.13, -0.34],\n",
       "       [-0.11, -0.45, -0.27]])"
      ]
     },
     "execution_count": 40,
     "metadata": {},
     "output_type": "execute_result"
    }
   ],
   "source": [
    "pca.transform(X).round(2)"
   ]
  },
  {
   "cell_type": "code",
   "execution_count": 74,
   "metadata": {},
   "outputs": [
    {
     "data": {
      "text/plain": [
       "array([[ 0.6 ,  0.62, -0.09],\n",
       "       [-1.06,  0.21,  0.15],\n",
       "       [ 0.4 , -0.25,  0.56],\n",
       "       [-0.05, -0.13, -0.34],\n",
       "       [ 0.11, -0.45, -0.27]])"
      ]
     },
     "execution_count": 74,
     "metadata": {},
     "output_type": "execute_result"
    }
   ],
   "source": [
    "(U[:, :k]*s[:k]).round(2)"
   ]
  },
  {
   "cell_type": "code",
   "execution_count": 81,
   "metadata": {},
   "outputs": [
    {
     "data": {
      "text/plain": [
       "array([[ 0.6 ,  0.62, -0.09],\n",
       "       [-1.06,  0.21,  0.15],\n",
       "       [ 0.4 , -0.25,  0.56],\n",
       "       [-0.05, -0.13, -0.34],\n",
       "       [ 0.11, -0.45, -0.27]])"
      ]
     },
     "execution_count": 81,
     "metadata": {},
     "output_type": "execute_result"
    }
   ],
   "source": [
    "(X_0mean@Vh[:k].T).round(2)"
   ]
  },
  {
   "cell_type": "markdown",
   "metadata": {},
   "source": [
    "## Truncated SVD"
   ]
  },
  {
   "cell_type": "code",
   "execution_count": 51,
   "metadata": {},
   "outputs": [
    {
     "data": {
      "text/plain": [
       "TruncatedSVD(algorithm='randomized', n_components=3, n_iter=5,\n",
       "       random_state=None, tol=0.0)"
      ]
     },
     "execution_count": 51,
     "metadata": {},
     "output_type": "execute_result"
    }
   ],
   "source": [
    "svd_tr = TruncatedSVD(n_components=k)\n",
    "svd_tr.fit(X_0mean)  "
   ]
  },
  {
   "cell_type": "markdown",
   "metadata": {},
   "source": [
    "## Compare Truncated SVD and PCA"
   ]
  },
  {
   "cell_type": "markdown",
   "metadata": {},
   "source": [
    "### singular values \n",
    "(same signs)"
   ]
  },
  {
   "cell_type": "code",
   "execution_count": 60,
   "metadata": {
    "scrolled": true
   },
   "outputs": [
    {
     "data": {
      "text/plain": [
       "array([1.29, 0.84, 0.73])"
      ]
     },
     "execution_count": 60,
     "metadata": {},
     "output_type": "execute_result"
    }
   ],
   "source": [
    "pca.singular_values_.round(2)"
   ]
  },
  {
   "cell_type": "code",
   "execution_count": 61,
   "metadata": {},
   "outputs": [
    {
     "data": {
      "text/plain": [
       "array([1.29, 0.84, 0.73])"
      ]
     },
     "execution_count": 61,
     "metadata": {},
     "output_type": "execute_result"
    }
   ],
   "source": [
    "svd_tr.singular_values_.round(2)"
   ]
  },
  {
   "cell_type": "markdown",
   "metadata": {},
   "source": [
    "### componets\n",
    "(same signs)"
   ]
  },
  {
   "cell_type": "code",
   "execution_count": 64,
   "metadata": {
    "scrolled": true
   },
   "outputs": [
    {
     "data": {
      "text/plain": [
       "array([[-0.37,  0.29,  0.02,  0.32,  0.52,  0.35, -0.28, -0.45],\n",
       "       [-0.05, -0.61, -0.02,  0.38,  0.31, -0.17,  0.56, -0.21],\n",
       "       [-0.44,  0.09, -0.5 , -0.44, -0.1 ,  0.35,  0.48, -0.06]])"
      ]
     },
     "execution_count": 64,
     "metadata": {},
     "output_type": "execute_result"
    }
   ],
   "source": [
    "pca.components_.round(2)"
   ]
  },
  {
   "cell_type": "code",
   "execution_count": 65,
   "metadata": {
    "scrolled": false
   },
   "outputs": [
    {
     "data": {
      "text/plain": [
       "array([[-0.37,  0.29,  0.02,  0.32,  0.52,  0.35, -0.28, -0.45],\n",
       "       [-0.05, -0.61, -0.02,  0.38,  0.31, -0.17,  0.56, -0.21],\n",
       "       [-0.44,  0.09, -0.5 , -0.44, -0.1 ,  0.35,  0.48, -0.06]])"
      ]
     },
     "execution_count": 65,
     "metadata": {},
     "output_type": "execute_result"
    }
   ],
   "source": [
    "svd_tr.components_.round(2)"
   ]
  },
  {
   "cell_type": "markdown",
   "metadata": {},
   "source": [
    "### transformed\n",
    "(same signs)"
   ]
  },
  {
   "cell_type": "code",
   "execution_count": 68,
   "metadata": {},
   "outputs": [
    {
     "data": {
      "text/plain": [
       "array([[-0.6 ,  0.62, -0.09],\n",
       "       [ 1.06,  0.21,  0.15],\n",
       "       [-0.4 , -0.25,  0.56],\n",
       "       [ 0.05, -0.13, -0.34],\n",
       "       [-0.11, -0.45, -0.27]])"
      ]
     },
     "execution_count": 68,
     "metadata": {},
     "output_type": "execute_result"
    }
   ],
   "source": [
    "pca.transform(X).round(2)"
   ]
  },
  {
   "cell_type": "code",
   "execution_count": 69,
   "metadata": {},
   "outputs": [
    {
     "data": {
      "text/plain": [
       "array([[-0.6 ,  0.62, -0.09],\n",
       "       [ 1.06,  0.21,  0.15],\n",
       "       [-0.4 , -0.25,  0.56],\n",
       "       [ 0.05, -0.13, -0.34],\n",
       "       [-0.11, -0.45, -0.27]])"
      ]
     },
     "execution_count": 69,
     "metadata": {},
     "output_type": "execute_result"
    }
   ],
   "source": [
    "svd_tr.transform(X_0mean).round(2)"
   ]
  },
  {
   "cell_type": "code",
   "execution_count": null,
   "metadata": {},
   "outputs": [],
   "source": []
  },
  {
   "cell_type": "code",
   "execution_count": null,
   "metadata": {},
   "outputs": [],
   "source": []
  },
  {
   "cell_type": "code",
   "execution_count": null,
   "metadata": {},
   "outputs": [],
   "source": []
  }
 ],
 "metadata": {
  "kernelspec": {
   "display_name": "Python 3",
   "language": "python",
   "name": "python3"
  },
  "language_info": {
   "codemirror_mode": {
    "name": "ipython",
    "version": 3
   },
   "file_extension": ".py",
   "mimetype": "text/x-python",
   "name": "python",
   "nbconvert_exporter": "python",
   "pygments_lexer": "ipython3",
   "version": "3.6.5"
  },
  "toc": {
   "base_numbering": 1,
   "nav_menu": {},
   "number_sections": true,
   "sideBar": true,
   "skip_h1_title": false,
   "title_cell": "Table of Contents",
   "title_sidebar": "Contents",
   "toc_cell": false,
   "toc_position": {},
   "toc_section_display": true,
   "toc_window_display": true
  }
 },
 "nbformat": 4,
 "nbformat_minor": 2
}
