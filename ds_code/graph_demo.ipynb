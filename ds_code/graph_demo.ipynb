{
 "cells": [
  {
   "cell_type": "markdown",
   "metadata": {},
   "source": [
    "# Graph functions in basic Python"
   ]
  },
  {
   "cell_type": "markdown",
   "metadata": {},
   "source": [
    "Some basic graph functions using basic python."
   ]
  },
  {
   "cell_type": "code",
   "execution_count": 1,
   "metadata": {
    "collapsed": true
   },
   "outputs": [],
   "source": [
    "from inspect import getsourcelines\n",
    "\n",
    "import graph_func; from importlib import reload; reload(graph_func)\n",
    "from graph_func import nodes_from_network, \\\n",
    "connectivity, connections_of_each_node, connections_2nd_degree, print_source"
   ]
  },
  {
   "cell_type": "markdown",
   "metadata": {},
   "source": [
    "Network: a list of tuples as edges of the network."
   ]
  },
  {
   "cell_type": "code",
   "execution_count": 2,
   "metadata": {
    "collapsed": true
   },
   "outputs": [],
   "source": [
    "network = [(0, 1), (0, 2), (1, 2), (1, 3), (2, 3), (3, 4),\n",
    "         (4, 5), (5, 6), (5, 7), (6, 8), (7, 8), (8, 9)]"
   ]
  },
  {
   "cell_type": "markdown",
   "metadata": {},
   "source": [
    "## Find all nodes in a network"
   ]
  },
  {
   "cell_type": "code",
   "execution_count": 3,
   "metadata": {
    "scrolled": true
   },
   "outputs": [
    {
     "name": "stdout",
     "output_type": "stream",
     "text": [
      "def nodes_from_network(network):\n",
      "    \"\"\"\n",
      "    Gets nodes from network edges.\n",
      "    :param network: a list of tuples as edges of the network.\n",
      "    :return: nodes of the network.\n",
      "    \"\"\"\n",
      "    nodes = set()\n",
      "    for edge in network:\n",
      "        nodes.add(edge[0])\n",
      "        nodes.add(edge[1])\n",
      "    return nodes\n",
      "\n"
     ]
    }
   ],
   "source": [
    "print_source(nodes_from_network)"
   ]
  },
  {
   "cell_type": "code",
   "execution_count": 4,
   "metadata": {
    "scrolled": false
   },
   "outputs": [
    {
     "data": {
      "text/plain": [
       "{0, 1, 2, 3, 4, 5, 6, 7, 8, 9}"
      ]
     },
     "execution_count": 4,
     "metadata": {},
     "output_type": "execute_result"
    }
   ],
   "source": [
    "nodes = nodes_from_network(network)\n",
    "nodes"
   ]
  },
  {
   "cell_type": "markdown",
   "metadata": {},
   "source": [
    "## Connectivity"
   ]
  },
  {
   "cell_type": "code",
   "execution_count": 5,
   "metadata": {
    "scrolled": true
   },
   "outputs": [
    {
     "name": "stdout",
     "output_type": "stream",
     "text": [
      "def connectivity(network):\n",
      "    \"\"\"\n",
      "    Calculates connectivity of a network.\n",
      "    :param network: a list of tuples as edges of the network.\n",
      "    :return: connectivity of a network.\n",
      "    \"\"\"\n",
      "    nodes = nodes_from_network(network)\n",
      "    number_nodes = len(nodes)\n",
      "    number_edges = len(set(network))\n",
      "    number_edges_fully_connected_network = int(number_nodes * (number_nodes-1) / 2)\n",
      "    return number_edges / number_edges_fully_connected_network\n",
      "\n"
     ]
    }
   ],
   "source": [
    "print_source(connectivity)"
   ]
  },
  {
   "cell_type": "code",
   "execution_count": 6,
   "metadata": {
    "scrolled": true
   },
   "outputs": [
    {
     "data": {
      "text/plain": [
       "0.26666666666666666"
      ]
     },
     "execution_count": 6,
     "metadata": {},
     "output_type": "execute_result"
    }
   ],
   "source": [
    "connectivity(network)"
   ]
  },
  {
   "cell_type": "markdown",
   "metadata": {},
   "source": [
    "## Connections of each node"
   ]
  },
  {
   "cell_type": "code",
   "execution_count": 7,
   "metadata": {
    "scrolled": true
   },
   "outputs": [
    {
     "name": "stdout",
     "output_type": "stream",
     "text": [
      "def connections_of_each_node(network):\n",
      "    \"\"\"\n",
      "    Find 1st-degree connections of each node in a network.\n",
      "    :param network: a list of tuples as edges of the network.\n",
      "    :return: 1st-degree connections of each node in a network.\n",
      "    \"\"\"\n",
      "    connections = dict()\n",
      "    nodes = nodes_from_network(network)\n",
      "    for node in nodes:\n",
      "        connections[node] = []\n",
      "    for edge in network:\n",
      "        connections[edge[0]].append(edge[1])\n",
      "        connections[edge[1]].append(edge[0])\n",
      "    return connections\n",
      "\n"
     ]
    }
   ],
   "source": [
    "print_source(connections_of_each_node)"
   ]
  },
  {
   "cell_type": "code",
   "execution_count": 8,
   "metadata": {},
   "outputs": [
    {
     "data": {
      "text/plain": [
       "{0: [1, 2],\n",
       " 1: [0, 2, 3],\n",
       " 2: [0, 1, 3],\n",
       " 3: [1, 2, 4],\n",
       " 4: [3, 5],\n",
       " 5: [4, 6, 7],\n",
       " 6: [5, 8],\n",
       " 7: [5, 8],\n",
       " 8: [6, 7, 9],\n",
       " 9: [8]}"
      ]
     },
     "execution_count": 8,
     "metadata": {},
     "output_type": "execute_result"
    }
   ],
   "source": [
    "connections = connections_of_each_node(network)\n",
    "\n",
    "connections"
   ]
  },
  {
   "cell_type": "markdown",
   "metadata": {},
   "source": [
    "## 2nd-degree connections\n",
    "\n",
    "Find 2nd-degree connections and number of common connections (friend of friend)"
   ]
  },
  {
   "cell_type": "code",
   "execution_count": 9,
   "metadata": {
    "scrolled": true
   },
   "outputs": [
    {
     "name": "stdout",
     "output_type": "stream",
     "text": [
      "def connections_2nd_degree(network, node):\n",
      "    \"\"\"\n",
      "    For the given node in a given network, finds each 2nd-degree connection and the number of shared nodes.\n",
      "    :param network: a list of tuples as edges of the network.\n",
      "    :param node: the node to find 2nd-degree connections for.\n",
      "    :return: a Counter object with 2nd-degree connection as the key and number of shared nodes as the value.\n",
      "    \"\"\"\n",
      "    connections = connections_of_each_node(network)\n",
      "    connections_2nd = []\n",
      "    for connection_1st in connections[node]:\n",
      "        for connection_2nd in connections[connection_1st]:\n",
      "            if connection_2nd != node and connection_2nd not in connections[node]:\n",
      "                connections_2nd.append(connection_2nd)\n",
      "    return Counter(connections_2nd)\n",
      "\n"
     ]
    }
   ],
   "source": [
    "print_source(connections_2nd_degree)"
   ]
  },
  {
   "cell_type": "code",
   "execution_count": 10,
   "metadata": {
    "scrolled": true
   },
   "outputs": [
    {
     "name": "stdout",
     "output_type": "stream",
     "text": [
      "0 Counter({3: 2})\n",
      "1 Counter({4: 1})\n",
      "2 Counter({4: 1})\n",
      "3 Counter({0: 2, 5: 1})\n",
      "4 Counter({1: 1, 2: 1, 6: 1, 7: 1})\n",
      "5 Counter({8: 2, 3: 1})\n",
      "6 Counter({7: 2, 4: 1, 9: 1})\n",
      "7 Counter({6: 2, 4: 1, 9: 1})\n",
      "8 Counter({5: 2})\n",
      "9 Counter({6: 1, 7: 1})\n"
     ]
    }
   ],
   "source": [
    "for i in range(10):\n",
    "    print(i, connections_2nd_degree(network, i))"
   ]
  }
 ],
 "metadata": {
  "kernelspec": {
   "display_name": "Python 3",
   "language": "python",
   "name": "python3"
  },
  "language_info": {
   "codemirror_mode": {
    "name": "ipython",
    "version": 3
   },
   "file_extension": ".py",
   "mimetype": "text/x-python",
   "name": "python",
   "nbconvert_exporter": "python",
   "pygments_lexer": "ipython3",
   "version": "3.6.1"
  },
  "toc": {
   "colors": {
    "hover_highlight": "#DAA520",
    "navigate_num": "#000000",
    "navigate_text": "#333333",
    "running_highlight": "#FF0000",
    "selected_highlight": "#FFD700",
    "sidebar_border": "#EEEEEE",
    "wrapper_background": "#FFFFFF"
   },
   "moveMenuLeft": true,
   "nav_menu": {
    "height": "31px",
    "width": "252px"
   },
   "navigate_menu": true,
   "number_sections": true,
   "sideBar": true,
   "threshold": 4,
   "toc_cell": false,
   "toc_section_display": "block",
   "toc_window_display": false,
   "widenNotebook": false
  }
 },
 "nbformat": 4,
 "nbformat_minor": 2
}
