{
 "cells": [
  {
   "cell_type": "markdown",
   "metadata": {},
   "source": [
    "# Graph"
   ]
  },
  {
   "cell_type": "code",
   "execution_count": 1,
   "metadata": {},
   "outputs": [],
   "source": [
    "from inspect import getsourcelines\n",
    "\n",
    "import graph_func\n",
    "from importlib import reload\n",
    "reload(graph_func)\n",
    "from graph_func import nodes_from_network, connectivity, connections_of_each_node, connections_2nd_degree, print_source"
   ]
  },
  {
   "cell_type": "code",
   "execution_count": 2,
   "metadata": {
    "collapsed": true
   },
   "outputs": [],
   "source": [
    "network = [(0, 1), (0, 2), (1, 2), (1, 3), (2, 3), (3, 4),\n",
    "         (4, 5), (5, 6), (5, 7), (6, 8), (7, 8), (8, 9)]"
   ]
  },
  {
   "cell_type": "code",
   "execution_count": 3,
   "metadata": {
    "scrolled": true
   },
   "outputs": [
    {
     "name": "stdout",
     "output_type": "stream",
     "text": [
      "def nodes_from_network(network):\n",
      "    nodes = set()\n",
      "    for edge in network:\n",
      "        nodes.add(edge[0])\n",
      "        nodes.add(edge[1])\n",
      "    return nodes\n",
      "\n"
     ]
    }
   ],
   "source": [
    "print_source(nodes_from_network)"
   ]
  },
  {
   "cell_type": "code",
   "execution_count": 4,
   "metadata": {
    "scrolled": false
   },
   "outputs": [
    {
     "data": {
      "text/plain": [
       "{0, 1, 2, 3, 4, 5, 6, 7, 8, 9}"
      ]
     },
     "execution_count": 4,
     "metadata": {},
     "output_type": "execute_result"
    }
   ],
   "source": [
    "nodes = nodes_from_network(network)\n",
    "nodes"
   ]
  },
  {
   "cell_type": "code",
   "execution_count": 5,
   "metadata": {},
   "outputs": [
    {
     "name": "stdout",
     "output_type": "stream",
     "text": [
      "def connectivity(network):\n",
      "    nodes = nodes_from_network(network)\n",
      "    number_nodes = len(nodes)\n",
      "    number_edges = len(set(network))\n",
      "    number_edges_fully_connected_network = int(number_nodes * (number_nodes-1) / 2)\n",
      "    return number_edges / number_edges_fully_connected_network\n",
      "\n"
     ]
    }
   ],
   "source": [
    "print_source(connectivity)"
   ]
  },
  {
   "cell_type": "code",
   "execution_count": 6,
   "metadata": {
    "scrolled": true
   },
   "outputs": [
    {
     "data": {
      "text/plain": [
       "0.26666666666666666"
      ]
     },
     "execution_count": 6,
     "metadata": {},
     "output_type": "execute_result"
    }
   ],
   "source": [
    "connectivity(network)"
   ]
  },
  {
   "cell_type": "code",
   "execution_count": 7,
   "metadata": {},
   "outputs": [
    {
     "data": {
      "text/plain": [
       "{0: [1, 2],\n",
       " 1: [0, 2, 3],\n",
       " 2: [0, 1, 3],\n",
       " 3: [1, 2, 4],\n",
       " 4: [3, 5],\n",
       " 5: [4, 6, 7],\n",
       " 6: [5, 8],\n",
       " 7: [5, 8],\n",
       " 8: [6, 7, 9],\n",
       " 9: [8]}"
      ]
     },
     "execution_count": 7,
     "metadata": {},
     "output_type": "execute_result"
    }
   ],
   "source": [
    "connections = connections_of_each_node(network)\n",
    "\n",
    "connections"
   ]
  },
  {
   "cell_type": "markdown",
   "metadata": {},
   "source": [
    "Find 2nd-degree connections and number of common connections (friend of friend)"
   ]
  },
  {
   "cell_type": "code",
   "execution_count": 8,
   "metadata": {},
   "outputs": [
    {
     "name": "stdout",
     "output_type": "stream",
     "text": [
      "0 Counter({3: 2})\n",
      "1 Counter({4: 1})\n",
      "2 Counter({4: 1})\n",
      "3 Counter({0: 2, 5: 1})\n",
      "4 Counter({1: 1, 2: 1, 6: 1, 7: 1})\n",
      "5 Counter({8: 2, 3: 1})\n",
      "6 Counter({7: 2, 4: 1, 9: 1})\n",
      "7 Counter({6: 2, 4: 1, 9: 1})\n",
      "8 Counter({5: 2})\n",
      "9 Counter({6: 1, 7: 1})\n"
     ]
    }
   ],
   "source": [
    "for i in range(10):\n",
    "    print(i, connections_2nd_degree(network, i))"
   ]
  }
 ],
 "metadata": {
  "kernelspec": {
   "display_name": "Python 3",
   "language": "python",
   "name": "python3"
  },
  "language_info": {
   "codemirror_mode": {
    "name": "ipython",
    "version": 3
   },
   "file_extension": ".py",
   "mimetype": "text/x-python",
   "name": "python",
   "nbconvert_exporter": "python",
   "pygments_lexer": "ipython3",
   "version": "3.6.1"
  },
  "toc": {
   "colors": {
    "hover_highlight": "#DAA520",
    "navigate_num": "#000000",
    "navigate_text": "#333333",
    "running_highlight": "#FF0000",
    "selected_highlight": "#FFD700",
    "sidebar_border": "#EEEEEE",
    "wrapper_background": "#FFFFFF"
   },
   "moveMenuLeft": true,
   "nav_menu": {
    "height": "31px",
    "width": "252px"
   },
   "navigate_menu": true,
   "number_sections": true,
   "sideBar": true,
   "threshold": 4,
   "toc_cell": false,
   "toc_section_display": "block",
   "toc_window_display": false,
   "widenNotebook": false
  }
 },
 "nbformat": 4,
 "nbformat_minor": 2
}
