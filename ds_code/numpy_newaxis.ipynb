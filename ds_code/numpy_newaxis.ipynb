{
 "cells": [
  {
   "cell_type": "markdown",
   "metadata": {
    "toc": "true"
   },
   "source": [
    "# Table of Contents\n",
    " <p><div class=\"lev1 toc-item\"><a href=\"#My-&quot;complete&quot;-numpy.newaxis-notebook\" data-toc-modified-id=\"My-&quot;complete&quot;-numpy.newaxis-notebook-1\"><span class=\"toc-item-num\">1&nbsp;&nbsp;</span>My \"complete\" <code>numpy.newaxis</code> notebook</a></div><div class=\"lev2 toc-item\"><a href=\"#0-D\" data-toc-modified-id=\"0-D-11\"><span class=\"toc-item-num\">1.1&nbsp;&nbsp;</span>0-D</a></div><div class=\"lev3 toc-item\"><a href=\"#0-D-to-1-D\" data-toc-modified-id=\"0-D-to-1-D-111\"><span class=\"toc-item-num\">1.1.1&nbsp;&nbsp;</span>0-D to 1-D</a></div><div class=\"lev3 toc-item\"><a href=\"#0-D-to-2-D\" data-toc-modified-id=\"0-D-to-2-D-112\"><span class=\"toc-item-num\">1.1.2&nbsp;&nbsp;</span>0-D to 2-D</a></div><div class=\"lev2 toc-item\"><a href=\"#1-D\" data-toc-modified-id=\"1-D-12\"><span class=\"toc-item-num\">1.2&nbsp;&nbsp;</span>1-D</a></div><div class=\"lev3 toc-item\"><a href=\"#1-D-to-2-D\" data-toc-modified-id=\"1-D-to-2-D-121\"><span class=\"toc-item-num\">1.2.1&nbsp;&nbsp;</span>1-D to 2-D</a></div><div class=\"lev2 toc-item\"><a href=\"#2-D\" data-toc-modified-id=\"2-D-13\"><span class=\"toc-item-num\">1.3&nbsp;&nbsp;</span>2-D</a></div><div class=\"lev4 toc-item\"><a href=\"#2-D-to-3-D\" data-toc-modified-id=\"2-D-to-3-D-1301\"><span class=\"toc-item-num\">1.3.0.1&nbsp;&nbsp;</span>2-D to 3-D</a></div>"
   ]
  },
  {
   "cell_type": "markdown",
   "metadata": {},
   "source": [
    "# My \"complete\" `numpy.newaxis` notebook"
   ]
  },
  {
   "cell_type": "code",
   "execution_count": 39,
   "metadata": {
    "collapsed": true
   },
   "outputs": [],
   "source": [
    "from numpy import array, newaxis, expand_dims"
   ]
  },
  {
   "cell_type": "code",
   "execution_count": 40,
   "metadata": {
    "collapsed": true
   },
   "outputs": [],
   "source": [
    "def show_array(y):\n",
    "    print('array:', y)\n",
    "    print('array.ndim:', y.ndim)\n",
    "    print('array.shape:', y.shape)"
   ]
  },
  {
   "cell_type": "markdown",
   "metadata": {},
   "source": [
    "## 0-D"
   ]
  },
  {
   "cell_type": "code",
   "execution_count": 41,
   "metadata": {
    "scrolled": false
   },
   "outputs": [
    {
     "name": "stdout",
     "output_type": "stream",
     "text": [
      "array: 5\n",
      "array.ndim: 0\n",
      "array.shape: ()\n"
     ]
    }
   ],
   "source": [
    "x = array(5)\n",
    "show_array(x)"
   ]
  },
  {
   "cell_type": "markdown",
   "metadata": {},
   "source": [
    "### 0-D to 1-D"
   ]
  },
  {
   "cell_type": "code",
   "execution_count": 42,
   "metadata": {
    "scrolled": false
   },
   "outputs": [
    {
     "name": "stdout",
     "output_type": "stream",
     "text": [
      "array: [5]\n",
      "array.ndim: 1\n",
      "array.shape: (1,)\n"
     ]
    }
   ],
   "source": [
    "y = array(x)[newaxis]\n",
    "show_array(y)"
   ]
  },
  {
   "cell_type": "code",
   "execution_count": 43,
   "metadata": {
    "scrolled": false
   },
   "outputs": [
    {
     "name": "stdout",
     "output_type": "stream",
     "text": [
      "array: [5]\n",
      "array.ndim: 1\n",
      "array.shape: (1,)\n"
     ]
    }
   ],
   "source": [
    "y = np.expand_dims(x, axis=0)\n",
    "show_array(y)"
   ]
  },
  {
   "cell_type": "markdown",
   "metadata": {},
   "source": [
    "Any number >= 0 does the same."
   ]
  },
  {
   "cell_type": "code",
   "execution_count": 44,
   "metadata": {
    "scrolled": false
   },
   "outputs": [
    {
     "name": "stdout",
     "output_type": "stream",
     "text": [
      "array: [5]\n",
      "array.ndim: 1\n",
      "array.shape: (1,)\n"
     ]
    }
   ],
   "source": [
    "y = np.expand_dims(x, axis=123456)\n",
    "show_array(y)"
   ]
  },
  {
   "cell_type": "code",
   "execution_count": 45,
   "metadata": {
    "scrolled": true
   },
   "outputs": [
    {
     "name": "stdout",
     "output_type": "stream",
     "text": [
      "array: [5]\n",
      "array.ndim: 1\n",
      "array.shape: (1,)\n"
     ]
    }
   ],
   "source": [
    "y = x.reshape(-1,)\n",
    "show_array(y)"
   ]
  },
  {
   "cell_type": "markdown",
   "metadata": {},
   "source": [
    "### 0-D to 2-D"
   ]
  },
  {
   "cell_type": "code",
   "execution_count": 46,
   "metadata": {
    "scrolled": false
   },
   "outputs": [
    {
     "name": "stdout",
     "output_type": "stream",
     "text": [
      "array: [[5]]\n",
      "array.ndim: 2\n",
      "array.shape: (1, 1)\n"
     ]
    }
   ],
   "source": [
    "y = array(x)[newaxis, newaxis]\n",
    "show_array(y)"
   ]
  },
  {
   "cell_type": "code",
   "execution_count": 47,
   "metadata": {
    "scrolled": true
   },
   "outputs": [
    {
     "name": "stdout",
     "output_type": "stream",
     "text": [
      "array: [[5]]\n",
      "array.ndim: 2\n",
      "array.shape: (1, 1)\n"
     ]
    }
   ],
   "source": [
    "y = np.expand_dims(x, axis=0)\n",
    "y = np.expand_dims(y, axis=0)\n",
    "show_array(y)"
   ]
  },
  {
   "cell_type": "code",
   "execution_count": 48,
   "metadata": {
    "scrolled": true
   },
   "outputs": [
    {
     "name": "stdout",
     "output_type": "stream",
     "text": [
      "array: [[5]]\n",
      "array.ndim: 2\n",
      "array.shape: (1, 1)\n"
     ]
    }
   ],
   "source": [
    "y = x.reshape(-1, 1)\n",
    "show_array(y)"
   ]
  },
  {
   "cell_type": "markdown",
   "metadata": {},
   "source": [
    "## 1-D"
   ]
  },
  {
   "cell_type": "code",
   "execution_count": 49,
   "metadata": {
    "scrolled": true
   },
   "outputs": [
    {
     "name": "stdout",
     "output_type": "stream",
     "text": [
      "array: [5 6 7]\n",
      "array.ndim: 1\n",
      "array.shape: (3,)\n"
     ]
    }
   ],
   "source": [
    "x = array([5, 6, 7])\n",
    "show_array(x)"
   ]
  },
  {
   "cell_type": "markdown",
   "metadata": {},
   "source": [
    "### 1-D to 2-D"
   ]
  },
  {
   "cell_type": "markdown",
   "metadata": {},
   "source": [
    "##### Vector to row matrix"
   ]
  },
  {
   "cell_type": "code",
   "execution_count": 50,
   "metadata": {
    "scrolled": false
   },
   "outputs": [
    {
     "name": "stdout",
     "output_type": "stream",
     "text": [
      "array: [[5 6 7]]\n",
      "array.ndim: 2\n",
      "array.shape: (1, 3)\n"
     ]
    }
   ],
   "source": [
    "y = array(x)[newaxis, :]\n",
    "show_array(y)"
   ]
  },
  {
   "cell_type": "code",
   "execution_count": 51,
   "metadata": {
    "scrolled": false
   },
   "outputs": [
    {
     "name": "stdout",
     "output_type": "stream",
     "text": [
      "array: [[5 6 7]]\n",
      "array.ndim: 2\n",
      "array.shape: (1, 3)\n"
     ]
    }
   ],
   "source": [
    "y = array(x)[newaxis] # This is short hand of y = array(x)[newaxis, :]\n",
    "show_array(y)"
   ]
  },
  {
   "cell_type": "code",
   "execution_count": 52,
   "metadata": {
    "scrolled": true
   },
   "outputs": [
    {
     "name": "stdout",
     "output_type": "stream",
     "text": [
      "array: [[5 6 7]]\n",
      "array.ndim: 2\n",
      "array.shape: (1, 3)\n"
     ]
    }
   ],
   "source": [
    "y = np.expand_dims(x, axis=0)\n",
    "show_array(y)"
   ]
  },
  {
   "cell_type": "code",
   "execution_count": 53,
   "metadata": {
    "scrolled": true
   },
   "outputs": [
    {
     "name": "stdout",
     "output_type": "stream",
     "text": [
      "array: [[5 6 7]]\n",
      "array.ndim: 2\n",
      "array.shape: (1, 3)\n"
     ]
    }
   ],
   "source": [
    "y = x.reshape(1, -1)\n",
    "show_array(y)"
   ]
  },
  {
   "cell_type": "markdown",
   "metadata": {},
   "source": [
    "##### Vector to column matrix"
   ]
  },
  {
   "cell_type": "code",
   "execution_count": 54,
   "metadata": {
    "scrolled": false
   },
   "outputs": [
    {
     "name": "stdout",
     "output_type": "stream",
     "text": [
      "array: [[5]\n",
      " [6]\n",
      " [7]]\n",
      "array.ndim: 2\n",
      "array.shape: (3, 1)\n"
     ]
    }
   ],
   "source": [
    "y = array(x)[:, newaxis]\n",
    "show_array(y)"
   ]
  },
  {
   "cell_type": "code",
   "execution_count": 55,
   "metadata": {
    "scrolled": true
   },
   "outputs": [
    {
     "name": "stdout",
     "output_type": "stream",
     "text": [
      "array: [[5]\n",
      " [6]\n",
      " [7]]\n",
      "array.ndim: 2\n",
      "array.shape: (3, 1)\n"
     ]
    }
   ],
   "source": [
    "y = np.expand_dims(x, axis=1)\n",
    "show_array(y)"
   ]
  },
  {
   "cell_type": "markdown",
   "metadata": {},
   "source": [
    "Any number >= 1 does the same."
   ]
  },
  {
   "cell_type": "code",
   "execution_count": 56,
   "metadata": {
    "scrolled": true
   },
   "outputs": [
    {
     "name": "stdout",
     "output_type": "stream",
     "text": [
      "array: [[5]\n",
      " [6]\n",
      " [7]]\n",
      "array.ndim: 2\n",
      "array.shape: (3, 1)\n"
     ]
    }
   ],
   "source": [
    "y = np.expand_dims(x, axis=123456)\n",
    "show_array(y)"
   ]
  },
  {
   "cell_type": "code",
   "execution_count": 57,
   "metadata": {
    "scrolled": true
   },
   "outputs": [
    {
     "name": "stdout",
     "output_type": "stream",
     "text": [
      "array: [[5]\n",
      " [6]\n",
      " [7]]\n",
      "array.ndim: 2\n",
      "array.shape: (3, 1)\n"
     ]
    }
   ],
   "source": [
    "y = x.reshape(-1, 1)\n",
    "show_array(y)"
   ]
  },
  {
   "cell_type": "markdown",
   "metadata": {},
   "source": [
    "## 2-D"
   ]
  },
  {
   "cell_type": "code",
   "execution_count": 58,
   "metadata": {},
   "outputs": [
    {
     "name": "stdout",
     "output_type": "stream",
     "text": [
      "array: [[1 2 3]\n",
      " [4 5 6]]\n",
      "array.ndim: 2\n",
      "array.shape: (2, 3)\n"
     ]
    }
   ],
   "source": [
    "x = array([[1, 2, 3], [4, 5, 6]])\n",
    "show_array(x)"
   ]
  },
  {
   "cell_type": "markdown",
   "metadata": {},
   "source": [
    "#### 2-D to 3-D"
   ]
  },
  {
   "cell_type": "markdown",
   "metadata": {},
   "source": [
    "##### Case 1"
   ]
  },
  {
   "cell_type": "code",
   "execution_count": 59,
   "metadata": {
    "scrolled": true
   },
   "outputs": [
    {
     "name": "stdout",
     "output_type": "stream",
     "text": [
      "array: [[[1 2 3]\n",
      "  [4 5 6]]]\n",
      "array.ndim: 3\n",
      "array.shape: (1, 2, 3)\n"
     ]
    }
   ],
   "source": [
    "y = array(x)[newaxis, :, :]\n",
    "show_array(y)"
   ]
  },
  {
   "cell_type": "code",
   "execution_count": 60,
   "metadata": {
    "scrolled": true
   },
   "outputs": [
    {
     "name": "stdout",
     "output_type": "stream",
     "text": [
      "array: [[[1 2 3]\n",
      "  [4 5 6]]]\n",
      "array.ndim: 3\n",
      "array.shape: (1, 2, 3)\n"
     ]
    }
   ],
   "source": [
    "y = array(x)[newaxis, :]\n",
    "show_array(y)"
   ]
  },
  {
   "cell_type": "code",
   "execution_count": 61,
   "metadata": {
    "scrolled": true
   },
   "outputs": [
    {
     "name": "stdout",
     "output_type": "stream",
     "text": [
      "array: [[[1 2 3]\n",
      "  [4 5 6]]]\n",
      "array.ndim: 3\n",
      "array.shape: (1, 2, 3)\n"
     ]
    }
   ],
   "source": [
    "y = array(x)[newaxis]\n",
    "show_array(y)"
   ]
  },
  {
   "cell_type": "code",
   "execution_count": 62,
   "metadata": {
    "scrolled": true
   },
   "outputs": [
    {
     "name": "stdout",
     "output_type": "stream",
     "text": [
      "array: [[[1 2 3]\n",
      "  [4 5 6]]]\n",
      "array.ndim: 3\n",
      "array.shape: (1, 2, 3)\n"
     ]
    }
   ],
   "source": [
    "y = np.expand_dims(x, axis=0)\n",
    "show_array(y)"
   ]
  },
  {
   "cell_type": "code",
   "execution_count": 63,
   "metadata": {
    "scrolled": true
   },
   "outputs": [
    {
     "name": "stdout",
     "output_type": "stream",
     "text": [
      "array: [[[1 2 3]\n",
      "  [4 5 6]]]\n",
      "array.ndim: 3\n",
      "array.shape: (1, 2, 3)\n"
     ]
    }
   ],
   "source": [
    "y = x.reshape(-1, 2, 3)\n",
    "show_array(y)"
   ]
  },
  {
   "cell_type": "code",
   "execution_count": 64,
   "metadata": {
    "scrolled": false
   },
   "outputs": [
    {
     "name": "stdout",
     "output_type": "stream",
     "text": [
      "array: [[[1 2 3]\n",
      "  [4 5 6]]]\n",
      "array.ndim: 3\n",
      "array.shape: (1, 2, 3)\n"
     ]
    }
   ],
   "source": [
    "y = x.reshape(-1, *x.shape)\n",
    "show_array(y)"
   ]
  },
  {
   "cell_type": "markdown",
   "metadata": {},
   "source": [
    "##### Case 2"
   ]
  },
  {
   "cell_type": "code",
   "execution_count": 65,
   "metadata": {},
   "outputs": [
    {
     "name": "stdout",
     "output_type": "stream",
     "text": [
      "array: [[[1 2 3]]\n",
      "\n",
      " [[4 5 6]]]\n",
      "array.ndim: 3\n",
      "array.shape: (2, 1, 3)\n"
     ]
    }
   ],
   "source": [
    "y = array(x)[:, newaxis, :]\n",
    "show_array(y)"
   ]
  },
  {
   "cell_type": "code",
   "execution_count": 66,
   "metadata": {},
   "outputs": [
    {
     "name": "stdout",
     "output_type": "stream",
     "text": [
      "array: [[[1 2 3]]\n",
      "\n",
      " [[4 5 6]]]\n",
      "array.ndim: 3\n",
      "array.shape: (2, 1, 3)\n"
     ]
    }
   ],
   "source": [
    "y = array(x)[:, newaxis]\n",
    "show_array(y)"
   ]
  },
  {
   "cell_type": "code",
   "execution_count": 67,
   "metadata": {
    "scrolled": true
   },
   "outputs": [
    {
     "name": "stdout",
     "output_type": "stream",
     "text": [
      "array: [[[1 2 3]]\n",
      "\n",
      " [[4 5 6]]]\n",
      "array.ndim: 3\n",
      "array.shape: (2, 1, 3)\n"
     ]
    }
   ],
   "source": [
    "y = np.expand_dims(x, axis=1)\n",
    "show_array(y)"
   ]
  },
  {
   "cell_type": "code",
   "execution_count": 68,
   "metadata": {
    "scrolled": false
   },
   "outputs": [
    {
     "name": "stdout",
     "output_type": "stream",
     "text": [
      "array: [[[1 2 3]]\n",
      "\n",
      " [[4 5 6]]]\n",
      "array.ndim: 3\n",
      "array.shape: (2, 1, 3)\n"
     ]
    }
   ],
   "source": [
    "y = x.reshape(2, 1, 3)\n",
    "show_array(y)"
   ]
  },
  {
   "cell_type": "code",
   "execution_count": 69,
   "metadata": {
    "scrolled": false
   },
   "outputs": [
    {
     "name": "stdout",
     "output_type": "stream",
     "text": [
      "array: [[[1 2 3]]\n",
      "\n",
      " [[4 5 6]]]\n",
      "array.ndim: 3\n",
      "array.shape: (2, 1, 3)\n"
     ]
    }
   ],
   "source": [
    "y = x.reshape(x.shape[0], -1, x.shape[1])\n",
    "show_array(y)"
   ]
  },
  {
   "cell_type": "markdown",
   "metadata": {},
   "source": [
    "##### Case 3"
   ]
  },
  {
   "cell_type": "code",
   "execution_count": 70,
   "metadata": {},
   "outputs": [
    {
     "name": "stdout",
     "output_type": "stream",
     "text": [
      "array: [[[1]\n",
      "  [2]\n",
      "  [3]]\n",
      "\n",
      " [[4]\n",
      "  [5]\n",
      "  [6]]]\n",
      "array.ndim: 3\n",
      "array.shape: (2, 3, 1)\n"
     ]
    }
   ],
   "source": [
    "y = array(x)[:, :, newaxis]\n",
    "show_array(y)"
   ]
  },
  {
   "cell_type": "code",
   "execution_count": 71,
   "metadata": {},
   "outputs": [
    {
     "name": "stdout",
     "output_type": "stream",
     "text": [
      "array: [[[1]\n",
      "  [2]\n",
      "  [3]]\n",
      "\n",
      " [[4]\n",
      "  [5]\n",
      "  [6]]]\n",
      "array.ndim: 3\n",
      "array.shape: (2, 3, 1)\n"
     ]
    }
   ],
   "source": [
    "y = np.expand_dims(x, axis=2)\n",
    "show_array(y)"
   ]
  },
  {
   "cell_type": "markdown",
   "metadata": {},
   "source": [
    "Any number >= 2 does the same."
   ]
  },
  {
   "cell_type": "code",
   "execution_count": 72,
   "metadata": {
    "scrolled": true
   },
   "outputs": [
    {
     "name": "stdout",
     "output_type": "stream",
     "text": [
      "array: [[[1]\n",
      "  [2]\n",
      "  [3]]\n",
      "\n",
      " [[4]\n",
      "  [5]\n",
      "  [6]]]\n",
      "array.ndim: 3\n",
      "array.shape: (2, 3, 1)\n"
     ]
    }
   ],
   "source": [
    "y = np.expand_dims(x, axis=123456)\n",
    "show_array(y)"
   ]
  },
  {
   "cell_type": "code",
   "execution_count": 73,
   "metadata": {
    "scrolled": false
   },
   "outputs": [
    {
     "name": "stdout",
     "output_type": "stream",
     "text": [
      "array: [[[1]\n",
      "  [2]\n",
      "  [3]]\n",
      "\n",
      " [[4]\n",
      "  [5]\n",
      "  [6]]]\n",
      "array.ndim: 3\n",
      "array.shape: (2, 3, 1)\n"
     ]
    }
   ],
   "source": [
    "y = x.reshape(*x.shape, -1)\n",
    "show_array(y)"
   ]
  }
 ],
 "metadata": {
  "kernelspec": {
   "display_name": "Python 3",
   "language": "python",
   "name": "python3"
  },
  "language_info": {
   "codemirror_mode": {
    "name": "ipython",
    "version": 3
   },
   "file_extension": ".py",
   "mimetype": "text/x-python",
   "name": "python",
   "nbconvert_exporter": "python",
   "pygments_lexer": "ipython3",
   "version": "3.6.1"
  },
  "toc": {
   "colors": {
    "hover_highlight": "#DAA520",
    "navigate_num": "#000000",
    "navigate_text": "#333333",
    "running_highlight": "#FF0000",
    "selected_highlight": "#FFD700",
    "sidebar_border": "#EEEEEE",
    "wrapper_background": "#FFFFFF"
   },
   "moveMenuLeft": true,
   "nav_menu": {
    "height": "233px",
    "width": "252px"
   },
   "navigate_menu": true,
   "number_sections": true,
   "sideBar": true,
   "threshold": 4,
   "toc_cell": true,
   "toc_section_display": "block",
   "toc_window_display": true,
   "widenNotebook": false
  }
 },
 "nbformat": 4,
 "nbformat_minor": 2
}
