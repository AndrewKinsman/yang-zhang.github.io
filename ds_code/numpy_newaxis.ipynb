{
 "cells": [
  {
   "cell_type": "markdown",
   "metadata": {
    "toc": "true"
   },
   "source": [
    "# Table of Contents\n",
    " <p><div class=\"lev1 toc-item\"><a href=\"#A-relatively-complete-demo-of-reshaping-numpy.arrays-using-newaxis,-reshape,-or-expand_dims\" data-toc-modified-id=\"A-relatively-complete-demo-of-reshaping-numpy.arrays-using-newaxis,-reshape,-or-expand_dims-1\"><span class=\"toc-item-num\">1&nbsp;&nbsp;</span>A relatively complete demo of reshaping <code>numpy.arrays</code> using <code>newaxis</code>, <code>reshape</code>, or <code>expand_dims</code></a></div><div class=\"lev2 toc-item\"><a href=\"#From-0-D\" data-toc-modified-id=\"From-0-D-11\"><span class=\"toc-item-num\">1.1&nbsp;&nbsp;</span>From 0-D</a></div><div class=\"lev3 toc-item\"><a href=\"#From-0-D-to-1-D\" data-toc-modified-id=\"From-0-D-to-1-D-111\"><span class=\"toc-item-num\">1.1.1&nbsp;&nbsp;</span>From 0-D to 1-D</a></div><div class=\"lev3 toc-item\"><a href=\"#From-0-D-to-2-D\" data-toc-modified-id=\"From-0-D-to-2-D-112\"><span class=\"toc-item-num\">1.1.2&nbsp;&nbsp;</span>From 0-D to 2-D</a></div><div class=\"lev2 toc-item\"><a href=\"#From-1-D\" data-toc-modified-id=\"From-1-D-12\"><span class=\"toc-item-num\">1.2&nbsp;&nbsp;</span>From 1-D</a></div><div class=\"lev3 toc-item\"><a href=\"#From-1-D-to-2-D\" data-toc-modified-id=\"From-1-D-to-2-D-121\"><span class=\"toc-item-num\">1.2.1&nbsp;&nbsp;</span>From 1-D to 2-D</a></div><div class=\"lev2 toc-item\"><a href=\"#2-D\" data-toc-modified-id=\"2-D-13\"><span class=\"toc-item-num\">1.3&nbsp;&nbsp;</span>2-D</a></div><div class=\"lev4 toc-item\"><a href=\"#2-D-to-3-D\" data-toc-modified-id=\"2-D-to-3-D-1301\"><span class=\"toc-item-num\">1.3.0.1&nbsp;&nbsp;</span>2-D to 3-D</a></div>"
   ]
  },
  {
   "cell_type": "markdown",
   "metadata": {},
   "source": [
    "# A relatively complete demo of reshaping `numpy.arrays` using `newaxis`, `reshape`, or `expand_dims`"
   ]
  },
  {
   "cell_type": "markdown",
   "metadata": {},
   "source": [
    "Reshaping `numpy.arrays` with the choices of `numpy.newaxis`, `reshape`, and `expand_dims` could be confusing sometimes. Making the three do the same thing helps to demonstrate how they work. Looking at `ndim` and `shape` also helps."
   ]
  },
  {
   "cell_type": "code",
   "execution_count": 37,
   "metadata": {
    "collapsed": true
   },
   "outputs": [],
   "source": [
    "from numpy import array, newaxis, expand_dims"
   ]
  },
  {
   "cell_type": "code",
   "execution_count": 38,
   "metadata": {
    "collapsed": true
   },
   "outputs": [],
   "source": [
    "def show_array(y):\n",
    "    print('array: \\n', y)\n",
    "    print('array.ndim:', y.ndim)\n",
    "    print('array.shape:', y.shape)"
   ]
  },
  {
   "cell_type": "markdown",
   "metadata": {},
   "source": [
    "## From 0-D"
   ]
  },
  {
   "cell_type": "code",
   "execution_count": 39,
   "metadata": {
    "scrolled": false
   },
   "outputs": [
    {
     "name": "stdout",
     "output_type": "stream",
     "text": [
      "array: \n",
      " 5\n",
      "array.ndim: 0\n",
      "array.shape: ()\n"
     ]
    }
   ],
   "source": [
    "x = array(5)\n",
    "show_array(x)"
   ]
  },
  {
   "cell_type": "markdown",
   "metadata": {},
   "source": [
    "### From 0-D to 1-D"
   ]
  },
  {
   "cell_type": "markdown",
   "metadata": {},
   "source": [
    "`y` is the result of adding a new dimension to `x`, and the shape is no longer empty."
   ]
  },
  {
   "cell_type": "code",
   "execution_count": 56,
   "metadata": {
    "scrolled": false
   },
   "outputs": [
    {
     "name": "stdout",
     "output_type": "stream",
     "text": [
      "array: \n",
      " [5]\n",
      "array.ndim: 1\n",
      "array.shape: (1,)\n"
     ]
    }
   ],
   "source": [
    "y = array(x)[newaxis]\n",
    "show_array(y)"
   ]
  },
  {
   "cell_type": "markdown",
   "metadata": {},
   "source": [
    "Equivalently,"
   ]
  },
  {
   "cell_type": "code",
   "execution_count": 57,
   "metadata": {
    "scrolled": false
   },
   "outputs": [
    {
     "name": "stdout",
     "output_type": "stream",
     "text": [
      "array: \n",
      " [5]\n",
      "array.ndim: 1\n",
      "array.shape: (1,)\n"
     ]
    }
   ],
   "source": [
    "y = expand_dims(x, axis=0)\n",
    "show_array(y)"
   ]
  },
  {
   "cell_type": "markdown",
   "metadata": {},
   "source": [
    "Any number >= 0 does the same as the above."
   ]
  },
  {
   "cell_type": "code",
   "execution_count": 62,
   "metadata": {
    "scrolled": false
   },
   "outputs": [
    {
     "name": "stdout",
     "output_type": "stream",
     "text": [
      "array: \n",
      " [5]\n",
      "array.ndim: 1\n",
      "array.shape: (1,)\n"
     ]
    }
   ],
   "source": [
    "y = expand_dims(x, axis=123456)\n",
    "show_array(y)"
   ]
  },
  {
   "cell_type": "markdown",
   "metadata": {},
   "source": [
    "Also equivalently,"
   ]
  },
  {
   "cell_type": "code",
   "execution_count": 61,
   "metadata": {
    "scrolled": true
   },
   "outputs": [
    {
     "name": "stdout",
     "output_type": "stream",
     "text": [
      "array: \n",
      " [5]\n",
      "array.ndim: 1\n",
      "array.shape: (1,)\n"
     ]
    }
   ],
   "source": [
    "y = x.reshape(-1,)\n",
    "show_array(y)"
   ]
  },
  {
   "cell_type": "markdown",
   "metadata": {},
   "source": [
    "### From 0-D to 2-D"
   ]
  },
  {
   "cell_type": "code",
   "execution_count": 44,
   "metadata": {
    "scrolled": false
   },
   "outputs": [
    {
     "name": "stdout",
     "output_type": "stream",
     "text": [
      "array: \n",
      " [[5]]\n",
      "array.ndim: 2\n",
      "array.shape: (1, 1)\n"
     ]
    }
   ],
   "source": [
    "y = array(x)[newaxis, newaxis]\n",
    "show_array(y)"
   ]
  },
  {
   "cell_type": "code",
   "execution_count": 45,
   "metadata": {
    "scrolled": true
   },
   "outputs": [
    {
     "name": "stdout",
     "output_type": "stream",
     "text": [
      "array: \n",
      " [[5]]\n",
      "array.ndim: 2\n",
      "array.shape: (1, 1)\n"
     ]
    }
   ],
   "source": [
    "y = expand_dims(x, axis=0)\n",
    "z = expand_dims(y, axis=0)\n",
    "show_array(z)"
   ]
  },
  {
   "cell_type": "code",
   "execution_count": 54,
   "metadata": {
    "scrolled": false
   },
   "outputs": [
    {
     "name": "stdout",
     "output_type": "stream",
     "text": [
      "array: \n",
      " [[5]]\n",
      "array.ndim: 2\n",
      "array.shape: (1, 1)\n"
     ]
    }
   ],
   "source": [
    "y = x.reshape(-1, 1)\n",
    "show_array(y)"
   ]
  },
  {
   "cell_type": "markdown",
   "metadata": {},
   "source": [
    "## From 1-D"
   ]
  },
  {
   "cell_type": "code",
   "execution_count": 11,
   "metadata": {
    "scrolled": true
   },
   "outputs": [
    {
     "name": "stdout",
     "output_type": "stream",
     "text": [
      "array: \n",
      " [5 6 7]\n",
      "array.ndim: 1\n",
      "array.shape: (3,)\n"
     ]
    }
   ],
   "source": [
    "x = array([5, 6, 7])\n",
    "show_array(x)"
   ]
  },
  {
   "cell_type": "markdown",
   "metadata": {},
   "source": [
    "### From 1-D to 2-D"
   ]
  },
  {
   "cell_type": "markdown",
   "metadata": {},
   "source": [
    "##### Vector to row matrix"
   ]
  },
  {
   "cell_type": "markdown",
   "metadata": {},
   "source": [
    "Adding `newaxis` at the beginning changes the shape from `(3,)` to `(1, 3)`."
   ]
  },
  {
   "cell_type": "code",
   "execution_count": 12,
   "metadata": {
    "scrolled": false
   },
   "outputs": [
    {
     "name": "stdout",
     "output_type": "stream",
     "text": [
      "array: \n",
      " [[5 6 7]]\n",
      "array.ndim: 2\n",
      "array.shape: (1, 3)\n"
     ]
    }
   ],
   "source": [
    "y = array(x)[newaxis, :]\n",
    "show_array(y)"
   ]
  },
  {
   "cell_type": "code",
   "execution_count": 13,
   "metadata": {
    "scrolled": false
   },
   "outputs": [
    {
     "name": "stdout",
     "output_type": "stream",
     "text": [
      "array: \n",
      " [[5 6 7]]\n",
      "array.ndim: 2\n",
      "array.shape: (1, 3)\n"
     ]
    }
   ],
   "source": [
    "y = array(x)[newaxis] # This is short hand of y = array(x)[newaxis, :]\n",
    "show_array(y)"
   ]
  },
  {
   "cell_type": "code",
   "execution_count": 14,
   "metadata": {
    "scrolled": true
   },
   "outputs": [
    {
     "name": "stdout",
     "output_type": "stream",
     "text": [
      "array: \n",
      " [[5 6 7]]\n",
      "array.ndim: 2\n",
      "array.shape: (1, 3)\n"
     ]
    }
   ],
   "source": [
    "y = expand_dims(x, axis=0)\n",
    "show_array(y)"
   ]
  },
  {
   "cell_type": "code",
   "execution_count": 15,
   "metadata": {
    "scrolled": true
   },
   "outputs": [
    {
     "name": "stdout",
     "output_type": "stream",
     "text": [
      "array: \n",
      " [[5 6 7]]\n",
      "array.ndim: 2\n",
      "array.shape: (1, 3)\n"
     ]
    }
   ],
   "source": [
    "y = x.reshape(1, -1)\n",
    "show_array(y)"
   ]
  },
  {
   "cell_type": "markdown",
   "metadata": {},
   "source": [
    "##### Vector to column matrix"
   ]
  },
  {
   "cell_type": "markdown",
   "metadata": {},
   "source": [
    "Adding `newaxis` at the end changes the shape from `(3,)` to `(3, 1)`."
   ]
  },
  {
   "cell_type": "code",
   "execution_count": 16,
   "metadata": {
    "scrolled": false
   },
   "outputs": [
    {
     "name": "stdout",
     "output_type": "stream",
     "text": [
      "array: \n",
      " [[5]\n",
      " [6]\n",
      " [7]]\n",
      "array.ndim: 2\n",
      "array.shape: (3, 1)\n"
     ]
    }
   ],
   "source": [
    "y = array(x)[:, newaxis]\n",
    "show_array(y)"
   ]
  },
  {
   "cell_type": "code",
   "execution_count": 17,
   "metadata": {
    "scrolled": true
   },
   "outputs": [
    {
     "name": "stdout",
     "output_type": "stream",
     "text": [
      "array: \n",
      " [[5]\n",
      " [6]\n",
      " [7]]\n",
      "array.ndim: 2\n",
      "array.shape: (3, 1)\n"
     ]
    }
   ],
   "source": [
    "y = expand_dims(x, axis=1)\n",
    "show_array(y)"
   ]
  },
  {
   "cell_type": "markdown",
   "metadata": {},
   "source": [
    "Any number >= 1 does the same."
   ]
  },
  {
   "cell_type": "code",
   "execution_count": 18,
   "metadata": {
    "scrolled": true
   },
   "outputs": [
    {
     "name": "stdout",
     "output_type": "stream",
     "text": [
      "array: \n",
      " [[5]\n",
      " [6]\n",
      " [7]]\n",
      "array.ndim: 2\n",
      "array.shape: (3, 1)\n"
     ]
    }
   ],
   "source": [
    "y = expand_dims(x, axis=123456)\n",
    "show_array(y)"
   ]
  },
  {
   "cell_type": "code",
   "execution_count": 19,
   "metadata": {
    "scrolled": true
   },
   "outputs": [
    {
     "name": "stdout",
     "output_type": "stream",
     "text": [
      "array: \n",
      " [[5]\n",
      " [6]\n",
      " [7]]\n",
      "array.ndim: 2\n",
      "array.shape: (3, 1)\n"
     ]
    }
   ],
   "source": [
    "y = x.reshape(-1, 1)\n",
    "show_array(y)"
   ]
  },
  {
   "cell_type": "markdown",
   "metadata": {},
   "source": [
    "## 2-D"
   ]
  },
  {
   "cell_type": "code",
   "execution_count": 20,
   "metadata": {},
   "outputs": [
    {
     "name": "stdout",
     "output_type": "stream",
     "text": [
      "array: \n",
      " [[1 2 3]\n",
      " [4 5 6]]\n",
      "array.ndim: 2\n",
      "array.shape: (2, 3)\n"
     ]
    }
   ],
   "source": [
    "x = array([[1, 2, 3], [4, 5, 6]])\n",
    "show_array(x)"
   ]
  },
  {
   "cell_type": "markdown",
   "metadata": {},
   "source": [
    "#### 2-D to 3-D"
   ]
  },
  {
   "cell_type": "markdown",
   "metadata": {},
   "source": [
    "##### Case 1"
   ]
  },
  {
   "cell_type": "markdown",
   "metadata": {},
   "source": [
    "Adding `newaxis` at the beginning."
   ]
  },
  {
   "cell_type": "code",
   "execution_count": 21,
   "metadata": {
    "scrolled": true
   },
   "outputs": [
    {
     "name": "stdout",
     "output_type": "stream",
     "text": [
      "array: \n",
      " [[[1 2 3]\n",
      "  [4 5 6]]]\n",
      "array.ndim: 3\n",
      "array.shape: (1, 2, 3)\n"
     ]
    }
   ],
   "source": [
    "y = array(x)[newaxis, :, :]\n",
    "show_array(y)"
   ]
  },
  {
   "cell_type": "code",
   "execution_count": 22,
   "metadata": {
    "scrolled": true
   },
   "outputs": [
    {
     "name": "stdout",
     "output_type": "stream",
     "text": [
      "array: \n",
      " [[[1 2 3]\n",
      "  [4 5 6]]]\n",
      "array.ndim: 3\n",
      "array.shape: (1, 2, 3)\n"
     ]
    }
   ],
   "source": [
    "y = array(x)[newaxis, :]\n",
    "show_array(y)"
   ]
  },
  {
   "cell_type": "code",
   "execution_count": 23,
   "metadata": {
    "scrolled": true
   },
   "outputs": [
    {
     "name": "stdout",
     "output_type": "stream",
     "text": [
      "array: \n",
      " [[[1 2 3]\n",
      "  [4 5 6]]]\n",
      "array.ndim: 3\n",
      "array.shape: (1, 2, 3)\n"
     ]
    }
   ],
   "source": [
    "y = array(x)[newaxis]\n",
    "show_array(y)"
   ]
  },
  {
   "cell_type": "code",
   "execution_count": 24,
   "metadata": {
    "scrolled": true
   },
   "outputs": [
    {
     "name": "stdout",
     "output_type": "stream",
     "text": [
      "array: \n",
      " [[[1 2 3]\n",
      "  [4 5 6]]]\n",
      "array.ndim: 3\n",
      "array.shape: (1, 2, 3)\n"
     ]
    }
   ],
   "source": [
    "y = expand_dims(x, axis=0)\n",
    "show_array(y)"
   ]
  },
  {
   "cell_type": "code",
   "execution_count": 25,
   "metadata": {
    "scrolled": true
   },
   "outputs": [
    {
     "name": "stdout",
     "output_type": "stream",
     "text": [
      "array: \n",
      " [[[1 2 3]\n",
      "  [4 5 6]]]\n",
      "array.ndim: 3\n",
      "array.shape: (1, 2, 3)\n"
     ]
    }
   ],
   "source": [
    "y = x.reshape(-1, 2, 3)\n",
    "show_array(y)"
   ]
  },
  {
   "cell_type": "code",
   "execution_count": 26,
   "metadata": {
    "scrolled": false
   },
   "outputs": [
    {
     "name": "stdout",
     "output_type": "stream",
     "text": [
      "array: \n",
      " [[[1 2 3]\n",
      "  [4 5 6]]]\n",
      "array.ndim: 3\n",
      "array.shape: (1, 2, 3)\n"
     ]
    }
   ],
   "source": [
    "y = x.reshape(-1, *x.shape)\n",
    "show_array(y)"
   ]
  },
  {
   "cell_type": "markdown",
   "metadata": {},
   "source": [
    "##### Case 2"
   ]
  },
  {
   "cell_type": "markdown",
   "metadata": {},
   "source": [
    "Squeaze `newaxis` in the middle."
   ]
  },
  {
   "cell_type": "code",
   "execution_count": 27,
   "metadata": {},
   "outputs": [
    {
     "name": "stdout",
     "output_type": "stream",
     "text": [
      "array: \n",
      " [[[1 2 3]]\n",
      "\n",
      " [[4 5 6]]]\n",
      "array.ndim: 3\n",
      "array.shape: (2, 1, 3)\n"
     ]
    }
   ],
   "source": [
    "y = array(x)[:, newaxis, :]\n",
    "show_array(y)"
   ]
  },
  {
   "cell_type": "code",
   "execution_count": 28,
   "metadata": {},
   "outputs": [
    {
     "name": "stdout",
     "output_type": "stream",
     "text": [
      "array: \n",
      " [[[1 2 3]]\n",
      "\n",
      " [[4 5 6]]]\n",
      "array.ndim: 3\n",
      "array.shape: (2, 1, 3)\n"
     ]
    }
   ],
   "source": [
    "y = array(x)[:, newaxis]\n",
    "show_array(y)"
   ]
  },
  {
   "cell_type": "code",
   "execution_count": 29,
   "metadata": {
    "scrolled": true
   },
   "outputs": [
    {
     "name": "stdout",
     "output_type": "stream",
     "text": [
      "array: \n",
      " [[[1 2 3]]\n",
      "\n",
      " [[4 5 6]]]\n",
      "array.ndim: 3\n",
      "array.shape: (2, 1, 3)\n"
     ]
    }
   ],
   "source": [
    "y = expand_dims(x, axis=1)\n",
    "show_array(y)"
   ]
  },
  {
   "cell_type": "code",
   "execution_count": 30,
   "metadata": {
    "scrolled": false
   },
   "outputs": [
    {
     "name": "stdout",
     "output_type": "stream",
     "text": [
      "array: \n",
      " [[[1 2 3]]\n",
      "\n",
      " [[4 5 6]]]\n",
      "array.ndim: 3\n",
      "array.shape: (2, 1, 3)\n"
     ]
    }
   ],
   "source": [
    "y = x.reshape(2, 1, 3)\n",
    "show_array(y)"
   ]
  },
  {
   "cell_type": "code",
   "execution_count": 31,
   "metadata": {
    "scrolled": false
   },
   "outputs": [
    {
     "name": "stdout",
     "output_type": "stream",
     "text": [
      "array: \n",
      " [[[1 2 3]]\n",
      "\n",
      " [[4 5 6]]]\n",
      "array.ndim: 3\n",
      "array.shape: (2, 1, 3)\n"
     ]
    }
   ],
   "source": [
    "y = x.reshape(x.shape[0], -1, x.shape[1])\n",
    "show_array(y)"
   ]
  },
  {
   "cell_type": "markdown",
   "metadata": {},
   "source": [
    "##### Case 3"
   ]
  },
  {
   "cell_type": "markdown",
   "metadata": {},
   "source": [
    "Adding `newaxis` to the end."
   ]
  },
  {
   "cell_type": "code",
   "execution_count": 32,
   "metadata": {},
   "outputs": [
    {
     "name": "stdout",
     "output_type": "stream",
     "text": [
      "array: \n",
      " [[[1]\n",
      "  [2]\n",
      "  [3]]\n",
      "\n",
      " [[4]\n",
      "  [5]\n",
      "  [6]]]\n",
      "array.ndim: 3\n",
      "array.shape: (2, 3, 1)\n"
     ]
    }
   ],
   "source": [
    "y = array(x)[:, :, newaxis]\n",
    "show_array(y)"
   ]
  },
  {
   "cell_type": "code",
   "execution_count": 33,
   "metadata": {},
   "outputs": [
    {
     "name": "stdout",
     "output_type": "stream",
     "text": [
      "array: \n",
      " [[[1]\n",
      "  [2]\n",
      "  [3]]\n",
      "\n",
      " [[4]\n",
      "  [5]\n",
      "  [6]]]\n",
      "array.ndim: 3\n",
      "array.shape: (2, 3, 1)\n"
     ]
    }
   ],
   "source": [
    "y = expand_dims(x, axis=2)\n",
    "show_array(y)"
   ]
  },
  {
   "cell_type": "markdown",
   "metadata": {},
   "source": [
    "Any number >= 2 does the same."
   ]
  },
  {
   "cell_type": "code",
   "execution_count": 34,
   "metadata": {
    "scrolled": true
   },
   "outputs": [
    {
     "name": "stdout",
     "output_type": "stream",
     "text": [
      "array: \n",
      " [[[1]\n",
      "  [2]\n",
      "  [3]]\n",
      "\n",
      " [[4]\n",
      "  [5]\n",
      "  [6]]]\n",
      "array.ndim: 3\n",
      "array.shape: (2, 3, 1)\n"
     ]
    }
   ],
   "source": [
    "y = expand_dims(x, axis=123456)\n",
    "show_array(y)"
   ]
  },
  {
   "cell_type": "code",
   "execution_count": 35,
   "metadata": {
    "scrolled": false
   },
   "outputs": [
    {
     "name": "stdout",
     "output_type": "stream",
     "text": [
      "array: \n",
      " [[[1]\n",
      "  [2]\n",
      "  [3]]\n",
      "\n",
      " [[4]\n",
      "  [5]\n",
      "  [6]]]\n",
      "array.ndim: 3\n",
      "array.shape: (2, 3, 1)\n"
     ]
    }
   ],
   "source": [
    "y = x.reshape(*x.shape, -1)\n",
    "show_array(y)"
   ]
  },
  {
   "cell_type": "markdown",
   "metadata": {},
   "source": [
    "[Home](https://yang-zhang.github.io/)"
   ]
  }
 ],
 "metadata": {
  "kernelspec": {
   "display_name": "Python 3",
   "language": "python",
   "name": "python3"
  },
  "language_info": {
   "codemirror_mode": {
    "name": "ipython",
    "version": 3
   },
   "file_extension": ".py",
   "mimetype": "text/x-python",
   "name": "python",
   "nbconvert_exporter": "python",
   "pygments_lexer": "ipython3",
   "version": "3.6.1"
  },
  "toc": {
   "colors": {
    "hover_highlight": "#DAA520",
    "navigate_num": "#000000",
    "navigate_text": "#333333",
    "running_highlight": "#FF0000",
    "selected_highlight": "#FFD700",
    "sidebar_border": "#EEEEEE",
    "wrapper_background": "#FFFFFF"
   },
   "moveMenuLeft": true,
   "nav_menu": {
    "height": "233px",
    "width": "252px"
   },
   "navigate_menu": true,
   "number_sections": true,
   "sideBar": true,
   "threshold": 4,
   "toc_cell": true,
   "toc_section_display": "block",
   "toc_window_display": false,
   "widenNotebook": false
  }
 },
 "nbformat": 4,
 "nbformat_minor": 2
}
