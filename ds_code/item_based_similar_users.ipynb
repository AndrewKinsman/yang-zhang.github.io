{
 "cells": [
  {
   "cell_type": "markdown",
   "metadata": {},
   "source": [
    "# How to find item-based similar users"
   ]
  },
  {
   "cell_type": "markdown",
   "metadata": {},
   "source": [
    "Suppose you want to find for a given user, what other users are most similar based on shared items (e.g. interests)."
   ]
  },
  {
   "cell_type": "code",
   "execution_count": 2,
   "metadata": {
    "collapsed": true
   },
   "outputs": [],
   "source": [
    "interests = [\n",
    "        (0, \"Hadoop\"), (0, \"Big Data\"), (0, \"HBase\"), (0, \"Java\"),\n",
    "        (0, \"Spark\"), (0, \"Storm\"), (0, \"Cassandra\"),\n",
    "        (1, \"NoSQL\"), (1, \"MongoDB\"), (1, \"Cassandra\"), (1, \"HBase\"),\n",
    "        (1, \"Postgres\"), (2, \"Python\"), (2, \"scikit-learn\"), (2, \"scipy\"),\n",
    "        (2, \"numpy\"), (2, \"statsmodels\"), (2, \"pandas\"), (3, \"R\"), (3, \"Python\"),\n",
    "        (3, \"statistics\"), (3, \"regression\"), (3, \"probability\"),\n",
    "        (4, \"machine learning\"), (4, \"regression\"), (4, \"decision trees\"),\n",
    "        (4, \"libsvm\"), (5, \"Python\"), (5, \"R\"), (5, \"Java\"), (5, \"C++\"),\n",
    "        (5, \"Haskell\"), (5, \"programming languages\"), (6, \"statistics\"),\n",
    "        (6, \"probability\"), (6, \"mathematics\"), (6, \"theory\"),\n",
    "        (7, \"machine learning\"), (7, \"scikit-learn\"), (7, \"Mahout\"),\n",
    "        (7, \"neural networks\"), (8, \"neural networks\"), (8, \"deep learning\"),\n",
    "        (8, \"Big Data\"), (8, \"artificial intelligence\"), (9, \"Hadoop\"),\n",
    "        (9, \"Java\"), (9, \"MapReduce\"), (9, \"Big Data\")\n",
    "]"
   ]
  },
  {
   "cell_type": "code",
   "execution_count": 3,
   "metadata": {
    "collapsed": true
   },
   "outputs": [],
   "source": [
    "from collections import defaultdict\n",
    "\n",
    "ids_by_interest = defaultdict(list)\n",
    "interests_by_id = defaultdict(list)\n",
    "\n",
    "for item in interests:\n",
    "    id_ = item[0]\n",
    "    interest = item[1]\n",
    "    interests_by_id[id_].append(interest)\n",
    "    ids_by_interest[interest].append(id_)"
   ]
  },
  {
   "cell_type": "code",
   "execution_count": 4,
   "metadata": {},
   "outputs": [
    {
     "name": "stdout",
     "output_type": "stream",
     "text": [
      "ids_by_interest: {'Hadoop': [0, 9], 'Big Data': [0, 8, 9], 'HBase': [0, 1], 'Java': [0, 5, 9], 'Spark': [0], 'Storm': [0], 'Cassandra': [0, 1], 'NoSQL': [1], 'MongoDB': [1], 'Postgres': [1], 'Python': [2, 3, 5], 'scikit-learn': [2, 7], 'scipy': [2], 'numpy': [2], 'statsmodels': [2], 'pandas': [2], 'R': [3, 5], 'statistics': [3, 6], 'regression': [3, 4], 'probability': [3, 6], 'machine learning': [4, 7], 'decision trees': [4], 'libsvm': [4], 'C++': [5], 'Haskell': [5], 'programming languages': [5], 'mathematics': [6], 'theory': [6], 'Mahout': [7], 'neural networks': [7, 8], 'deep learning': [8], 'artificial intelligence': [8], 'MapReduce': [9]}\n"
     ]
    }
   ],
   "source": [
    "print('ids_by_interest:', dict(ids_by_interest))"
   ]
  },
  {
   "cell_type": "code",
   "execution_count": 5,
   "metadata": {
    "scrolled": true
   },
   "outputs": [
    {
     "name": "stdout",
     "output_type": "stream",
     "text": [
      "interests_by_id: {0: ['Hadoop', 'Big Data', 'HBase', 'Java', 'Spark', 'Storm', 'Cassandra'], 1: ['NoSQL', 'MongoDB', 'Cassandra', 'HBase', 'Postgres'], 2: ['Python', 'scikit-learn', 'scipy', 'numpy', 'statsmodels', 'pandas'], 3: ['R', 'Python', 'statistics', 'regression', 'probability'], 4: ['machine learning', 'regression', 'decision trees', 'libsvm'], 5: ['Python', 'R', 'Java', 'C++', 'Haskell', 'programming languages'], 6: ['statistics', 'probability', 'mathematics', 'theory'], 7: ['machine learning', 'scikit-learn', 'Mahout', 'neural networks'], 8: ['neural networks', 'deep learning', 'Big Data', 'artificial intelligence'], 9: ['Hadoop', 'Java', 'MapReduce', 'Big Data']}\n"
     ]
    }
   ],
   "source": [
    "print('interests_by_id:', dict(interests_by_id))"
   ]
  },
  {
   "cell_type": "code",
   "execution_count": 11,
   "metadata": {
    "collapsed": true
   },
   "outputs": [],
   "source": [
    "from collections import Counter\n",
    "def num_shared_interests_of_other_ids(id_):\n",
    "    other_ids_sharing_interests = []\n",
    "    for interest in interests_by_id[id_]:\n",
    "        for other_id in ids_by_interest[interest]:\n",
    "            if other_id != id_:\n",
    "                other_ids_sharing_interests.append(other_id)\n",
    "    return Counter(other_ids_sharing_interests)"
   ]
  },
  {
   "cell_type": "code",
   "execution_count": 13,
   "metadata": {},
   "outputs": [
    {
     "name": "stdout",
     "output_type": "stream",
     "text": [
      "0 {9: 3, 8: 1, 1: 2, 5: 1}\n",
      "1 {0: 2}\n",
      "2 {3: 1, 5: 1, 7: 1}\n",
      "3 {5: 2, 2: 1, 6: 2, 4: 1}\n",
      "4 {7: 1, 3: 1}\n",
      "5 {2: 1, 3: 2, 0: 1, 9: 1}\n",
      "6 {3: 2}\n",
      "7 {4: 1, 2: 1, 8: 1}\n",
      "8 {7: 1, 0: 1, 9: 1}\n",
      "9 {0: 3, 5: 1, 8: 1}\n"
     ]
    }
   ],
   "source": [
    "for id_ in range(10):\n",
    "    print(id_, dict(num_shared_interests_of_other_ids(id_)))"
   ]
  },
  {
   "cell_type": "markdown",
   "metadata": {},
   "source": [
    "Reference: \n",
    "- https://github.com/joelgrus/data-science-from-scratch"
   ]
  },
  {
   "cell_type": "markdown",
   "metadata": {},
   "source": [
    "[Home](https://yang-zhang.github.io/)"
   ]
  }
 ],
 "metadata": {
  "kernelspec": {
   "display_name": "Python 3",
   "language": "python",
   "name": "python3"
  },
  "language_info": {
   "codemirror_mode": {
    "name": "ipython",
    "version": 3
   },
   "file_extension": ".py",
   "mimetype": "text/x-python",
   "name": "python",
   "nbconvert_exporter": "python",
   "pygments_lexer": "ipython3",
   "version": "3.6.1"
  },
  "toc": {
   "colors": {
    "hover_highlight": "#DAA520",
    "navigate_num": "#000000",
    "navigate_text": "#333333",
    "running_highlight": "#FF0000",
    "selected_highlight": "#FFD700",
    "sidebar_border": "#EEEEEE",
    "wrapper_background": "#FFFFFF"
   },
   "moveMenuLeft": true,
   "nav_menu": {
    "height": "12px",
    "width": "252px"
   },
   "navigate_menu": true,
   "number_sections": true,
   "sideBar": true,
   "threshold": 4,
   "toc_cell": false,
   "toc_section_display": "block",
   "toc_window_display": false,
   "widenNotebook": false
  }
 },
 "nbformat": 4,
 "nbformat_minor": 2
}
